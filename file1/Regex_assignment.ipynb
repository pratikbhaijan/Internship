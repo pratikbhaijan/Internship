{
  "nbformat": 4,
  "nbformat_minor": 0,
  "metadata": {
    "colab": {
      "provenance": []
    },
    "kernelspec": {
      "name": "python3",
      "display_name": "Python 3"
    },
    "language_info": {
      "name": "python"
    }
  },
  "cells": [
    {
      "cell_type": "markdown",
      "source": [
        "# **Regex** **Assignment**"
      ],
      "metadata": {
        "id": "pm40AgJej1k_"
      }
    },
    {
      "cell_type": "code",
      "source": [
        "import re\n",
        "import pandas as pd"
      ],
      "metadata": {
        "id": "LqhxmkqekFGI"
      },
      "execution_count": 1,
      "outputs": []
    },
    {
      "cell_type": "markdown",
      "source": [
        "**Question 1- Write a Python program to replace all occurrences of a space, comma, or dot with a colon.**\n",
        "\n",
        "**Sample Text- 'Python Exercises, PHP exercises.'**\n"
      ],
      "metadata": {
        "id": "UGvYuor7kSjr"
      }
    },
    {
      "cell_type": "code",
      "source": [
        "Sample_Text= 'Python Exercises, PHP exercises.'\n",
        "x=re.sub(\"[ , .]\",':',Sample_Text)\n",
        "print(x)"
      ],
      "metadata": {
        "id": "OONoikTSkL3z",
        "colab": {
          "base_uri": "https://localhost:8080/"
        },
        "outputId": "3c821795-3777-4b1f-ef40-9af18f652517"
      },
      "execution_count": 2,
      "outputs": [
        {
          "output_type": "stream",
          "name": "stdout",
          "text": [
            "Python:Exercises::PHP:exercises:\n"
          ]
        }
      ]
    },
    {
      "cell_type": "markdown",
      "source": [
        "**Question 2-  Create a dataframe using the dictionary below and remove everything (commas (,), !, XXXX, ;, etc.) from the columns except words.**\n",
        "**Dictionary- {'SUMMARY' : ['hello, world!', 'XXXXX test', '123four, five:; six...']}**"
      ],
      "metadata": {
        "id": "tTcf8YoQnZgy"
      }
    },
    {
      "cell_type": "code",
      "source": [
        "Dictionary={'SUMMARY' : ['hello, world!', 'XXXXX test', '123four, five:; six...']}\n",
        "df=pd.DataFrame.from_dict(Dictionary)\n",
        "def substitute(str):\n",
        "    return re.sub(\"[^\\w\\s]|123|XXXXX\", \"\",str)\n",
        "df['SUMMARY']=df['SUMMARY'].apply(substitute)\n",
        "print(df)"
      ],
      "metadata": {
        "id": "9t_8qZdAnjj-",
        "colab": {
          "base_uri": "https://localhost:8080/"
        },
        "outputId": "53dc461b-ddce-433b-b4c6-4572690bf960"
      },
      "execution_count": 3,
      "outputs": [
        {
          "output_type": "stream",
          "name": "stdout",
          "text": [
            "         SUMMARY\n",
            "0    hello world\n",
            "1           test\n",
            "2  four five six\n"
          ]
        }
      ]
    },
    {
      "cell_type": "markdown",
      "source": [
        "### **Question 3- Create a function in python to find all words that are at least 4 characters long in a string. The use of the re.compile() method is mandatory.**"
      ],
      "metadata": {
        "id": "AYUJYtLWHy7e"
      }
    },
    {
      "cell_type": "code",
      "source": [
        "def four_char(str):\n",
        "    match_pattern=re.compile(r'\\b\\w{4,}\\b')\n",
        "    return (match_pattern.findall(str))\n",
        "text=\"rwtdd jdhwudhn sdskk dfg 1234 sdbsjdbs jsnksn sjnskls lskdkk hd\"\n",
        "four_char(text)"
      ],
      "metadata": {
        "id": "OKVcneQ5H1ZT",
        "colab": {
          "base_uri": "https://localhost:8080/"
        },
        "outputId": "afa62a2c-ba69-41f2-b6df-144ec15aa6f7"
      },
      "execution_count": 4,
      "outputs": [
        {
          "output_type": "execute_result",
          "data": {
            "text/plain": [
              "['rwtdd',\n",
              " 'jdhwudhn',\n",
              " 'sdskk',\n",
              " '1234',\n",
              " 'sdbsjdbs',\n",
              " 'jsnksn',\n",
              " 'sjnskls',\n",
              " 'lskdkk']"
            ]
          },
          "metadata": {},
          "execution_count": 4
        }
      ]
    },
    {
      "cell_type": "markdown",
      "source": [
        "### **Question 4- Create a function in python to find all three, four, and five character words in a string. The use of the re.compile() method is mandatory.**"
      ],
      "metadata": {
        "id": "OcyCy_SiRvtA"
      }
    },
    {
      "cell_type": "code",
      "source": [
        "def specific_count_str(str):\n",
        "    match_pattern=re.compile(r'\\b\\w{3,5}\\b')\n",
        "    return match_pattern.findall(str)\n",
        "text=\"rwtdd jdhwudhn sdskk dfg 1234 sdbsjdbs jsnksn sjnskls lskdkk hd ghytr\"\n",
        "result=specific_count_str(text)\n",
        "print(result)"
      ],
      "metadata": {
        "id": "NanzhTxOUMo1",
        "colab": {
          "base_uri": "https://localhost:8080/"
        },
        "outputId": "9a77b64c-1853-44ba-f078-6f947291f888"
      },
      "execution_count": 5,
      "outputs": [
        {
          "output_type": "stream",
          "name": "stdout",
          "text": [
            "['rwtdd', 'sdskk', 'dfg', '1234', 'ghytr']\n"
          ]
        }
      ]
    },
    {
      "cell_type": "markdown",
      "source": [
        "**Question 5- Create a function in Python to remove the parenthesis in a list of strings. The use of the re.compile() method is mandatory.**\n",
        "**Sample Text: [\"example (.com)\", \"hr@fliprobo (.com)\", \"github (.com)\", \"Hello (Data Science World)\", \"Data (Scientist)\"]**\n"
      ],
      "metadata": {
        "id": "dJ8vmUHsYQuw"
      }
    },
    {
      "cell_type": "code",
      "source": [
        "def remove_parenthesis(lst):\n",
        "    match_pattern=re.compile(r'\\(|\\)')\n",
        "    for i in range(len(lst)):\n",
        "        lst[i]=match_pattern.sub('', lst[i])\n",
        "    return lst\n",
        "sample_text = [\"example(.com)\", \"hr@fliprobo(.com)\", \"github(.com)\", \"Hello (Data Science World)\", \"Data (Scientist)\"]\n",
        "remove_parenthesis(sample_text)\n"
      ],
      "metadata": {
        "id": "YXP2eGlBYdqf",
        "colab": {
          "base_uri": "https://localhost:8080/"
        },
        "outputId": "fc59440e-9383-4e7d-f781-1a440388ed4f"
      },
      "execution_count": 6,
      "outputs": [
        {
          "output_type": "execute_result",
          "data": {
            "text/plain": [
              "['example.com',\n",
              " 'hr@fliprobo.com',\n",
              " 'github.com',\n",
              " 'Hello Data Science World',\n",
              " 'Data Scientist']"
            ]
          },
          "metadata": {},
          "execution_count": 6
        }
      ]
    },
    {
      "cell_type": "markdown",
      "source": [
        "**Question 6- Write a python program to remove the parenthesis area from the text stored in the text file using Regular Expression.\n",
        "Sample Text: [\"example (.com)\", \"hr@fliprobo (.com)\", \"github (.com)\", \"Hello (Data Science World)\", \"Data (Scientist)\"]**"
      ],
      "metadata": {
        "id": "veUJjoFM0rxg"
      }
    },
    {
      "cell_type": "code",
      "source": [
        "sample_text='[\"example(.com)\", \"hr@fliprobo(.com)\", \"github(.com)\", \"Hello (Data Science World)\", \"Data (Scientist)\"]'\n",
        "file_name='list.txt'\n",
        "with open(file_name,'w') as file:\n",
        "    file.writelines(sample_text)\n",
        "with open(file_name ,'r') as file:\n",
        "    file_contents=file.read()\n",
        "#print(file_contents)\n",
        "\n",
        "match_pattern=r'\\(|\\)'\n",
        "matches=re.sub(match_pattern,'',file_contents)\n",
        "print(matches)"
      ],
      "metadata": {
        "id": "_hkc-HnJeSC1",
        "colab": {
          "base_uri": "https://localhost:8080/"
        },
        "outputId": "8baae56b-8157-41cb-f360-1c33998db61c"
      },
      "execution_count": 37,
      "outputs": [
        {
          "output_type": "stream",
          "name": "stdout",
          "text": [
            "[\"example.com\", \"hr@fliprobo.com\", \"github.com\", \"Hello Data Science World\", \"Data Scientist\"]\n"
          ]
        }
      ]
    },
    {
      "cell_type": "markdown",
      "source": [
        "**Question 7- Write a regular expression in Python to split a string into uppercase letters.\n",
        "Sample text: “ImportanceOfRegularExpressionsInPython”**"
      ],
      "metadata": {
        "id": "DEfqPmW88sxc"
      }
    },
    {
      "cell_type": "code",
      "source": [
        "str='ImportanceOfRegularExpressionsInPython'\n",
        "match_pattern=re.split(r'(?=[A-Z])',str)\n",
        "match_pattern"
      ],
      "metadata": {
        "id": "2J5rToKtpE8_",
        "colab": {
          "base_uri": "https://localhost:8080/"
        },
        "outputId": "79317a24-90dd-4a0a-f2e2-d61411190d61"
      },
      "execution_count": 7,
      "outputs": [
        {
          "output_type": "execute_result",
          "data": {
            "text/plain": [
              "['', 'Importance', 'Of', 'Regular', 'Expressions', 'In', 'Python']"
            ]
          },
          "metadata": {},
          "execution_count": 7
        }
      ]
    },
    {
      "cell_type": "markdown",
      "source": [
        "**Question 8- Create a function in python to insert spaces between words starting with numbers.\n",
        "Sample Text: “RegularExpression1IsAn2ImportantTopic3InPython\"**"
      ],
      "metadata": {
        "id": "s1cFYglRFoAW"
      }
    },
    {
      "cell_type": "code",
      "source": [
        "def insert_space(text):\n",
        "    match_pattern=re.compile(r'(?=[0-9])')\n",
        "    return match_pattern.sub(' ',text)\n",
        "\n",
        "sample_text=\"RegularExpression1IsAn2ImportantTopic3InPython\"\n",
        "insert_space(sample_text)"
      ],
      "metadata": {
        "id": "GOfgKF9uFvfU",
        "colab": {
          "base_uri": "https://localhost:8080/",
          "height": 36
        },
        "outputId": "0eaad2f2-ca3b-4469-bdbe-58cc334724c7"
      },
      "execution_count": 8,
      "outputs": [
        {
          "output_type": "execute_result",
          "data": {
            "text/plain": [
              "'RegularExpression 1IsAn 2ImportantTopic 3InPython'"
            ],
            "application/vnd.google.colaboratory.intrinsic+json": {
              "type": "string"
            }
          },
          "metadata": {},
          "execution_count": 8
        }
      ]
    },
    {
      "cell_type": "markdown",
      "source": [
        "**Question 9- Create a function in python to insert spaces between words starting with capital letters or with numbers.\n",
        "Sample Text: “RegularExpression1IsAn2ImportantTopic3InPython\"**"
      ],
      "metadata": {
        "id": "qBXOgm6RHggY"
      }
    },
    {
      "cell_type": "code",
      "source": [
        "def insert_space_alphanumeric(str):\n",
        "    match_pattern=re.compile(r'(?=[A-Z]|[0-9])')\n",
        "    return match_pattern.sub(' ',str)\n",
        "sample_text=\"RegularExpression1IsAn2ImportantTopic3InPython\"\n",
        "insert_space_alphanumeric(sample_text)"
      ],
      "metadata": {
        "id": "ZhcomuS3HmR4",
        "colab": {
          "base_uri": "https://localhost:8080/",
          "height": 36
        },
        "outputId": "89dca607-022b-4884-fc2d-8c063abf9f1d"
      },
      "execution_count": 9,
      "outputs": [
        {
          "output_type": "execute_result",
          "data": {
            "text/plain": [
              "' Regular Expression 1 Is An 2 Important Topic 3 In Python'"
            ],
            "application/vnd.google.colaboratory.intrinsic+json": {
              "type": "string"
            }
          },
          "metadata": {},
          "execution_count": 9
        }
      ]
    },
    {
      "cell_type": "markdown",
      "source": [
        "**Question 10- Use the github link below to read the data and create a dataframe. After creating the dataframe extract the first 6 letters of each country and store in the dataframe under a new column called first_five_letters.\n",
        "Github Link-  https://raw.githubusercontent.com/dsrscientist/DSData/master/happiness_score_dataset.csv**"
      ],
      "metadata": {
        "id": "iqFcYfYcJUz4"
      }
    },
    {
      "cell_type": "code",
      "source": [
        "df=pd.read_csv('https://raw.githubusercontent.com/dsrscientist/DSData/master/happiness_score_dataset.csv')\n",
        "\n",
        "def letter_extract(country_name):\n",
        "    match_pattern=re.compile(r'^([A-Za-z]{1,6})',re.IGNORECASE)\n",
        "    match=match_pattern.search(country_name)\n",
        "    if match:\n",
        "        return match.group(1)\n",
        "    else:\n",
        "        return None\n",
        "\n",
        "df['first_five_letters']=df['Country'].apply(letter_extract)\n",
        "df.head()"
      ],
      "metadata": {
        "id": "dHv43YlJJl1P",
        "colab": {
          "base_uri": "https://localhost:8080/",
          "height": 310
        },
        "outputId": "07f79cc3-bf26-4f72-e4e3-38ec2dec224e"
      },
      "execution_count": 10,
      "outputs": [
        {
          "output_type": "execute_result",
          "data": {
            "text/plain": [
              "       Country          Region  Happiness Rank  Happiness Score  \\\n",
              "0  Switzerland  Western Europe               1            7.587   \n",
              "1      Iceland  Western Europe               2            7.561   \n",
              "2      Denmark  Western Europe               3            7.527   \n",
              "3       Norway  Western Europe               4            7.522   \n",
              "4       Canada   North America               5            7.427   \n",
              "\n",
              "   Standard Error  Economy (GDP per Capita)   Family  \\\n",
              "0         0.03411                   1.39651  1.34951   \n",
              "1         0.04884                   1.30232  1.40223   \n",
              "2         0.03328                   1.32548  1.36058   \n",
              "3         0.03880                   1.45900  1.33095   \n",
              "4         0.03553                   1.32629  1.32261   \n",
              "\n",
              "   Health (Life Expectancy)  Freedom  Trust (Government Corruption)  \\\n",
              "0                   0.94143  0.66557                        0.41978   \n",
              "1                   0.94784  0.62877                        0.14145   \n",
              "2                   0.87464  0.64938                        0.48357   \n",
              "3                   0.88521  0.66973                        0.36503   \n",
              "4                   0.90563  0.63297                        0.32957   \n",
              "\n",
              "   Generosity  Dystopia Residual first_five_letters  \n",
              "0     0.29678            2.51738             Switze  \n",
              "1     0.43630            2.70201             Icelan  \n",
              "2     0.34139            2.49204             Denmar  \n",
              "3     0.34699            2.46531             Norway  \n",
              "4     0.45811            2.45176             Canada  "
            ],
            "text/html": [
              "\n",
              "  <div id=\"df-51d7dbd9-e5f7-4664-92c3-ba962a713d89\" class=\"colab-df-container\">\n",
              "    <div>\n",
              "<style scoped>\n",
              "    .dataframe tbody tr th:only-of-type {\n",
              "        vertical-align: middle;\n",
              "    }\n",
              "\n",
              "    .dataframe tbody tr th {\n",
              "        vertical-align: top;\n",
              "    }\n",
              "\n",
              "    .dataframe thead th {\n",
              "        text-align: right;\n",
              "    }\n",
              "</style>\n",
              "<table border=\"1\" class=\"dataframe\">\n",
              "  <thead>\n",
              "    <tr style=\"text-align: right;\">\n",
              "      <th></th>\n",
              "      <th>Country</th>\n",
              "      <th>Region</th>\n",
              "      <th>Happiness Rank</th>\n",
              "      <th>Happiness Score</th>\n",
              "      <th>Standard Error</th>\n",
              "      <th>Economy (GDP per Capita)</th>\n",
              "      <th>Family</th>\n",
              "      <th>Health (Life Expectancy)</th>\n",
              "      <th>Freedom</th>\n",
              "      <th>Trust (Government Corruption)</th>\n",
              "      <th>Generosity</th>\n",
              "      <th>Dystopia Residual</th>\n",
              "      <th>first_five_letters</th>\n",
              "    </tr>\n",
              "  </thead>\n",
              "  <tbody>\n",
              "    <tr>\n",
              "      <th>0</th>\n",
              "      <td>Switzerland</td>\n",
              "      <td>Western Europe</td>\n",
              "      <td>1</td>\n",
              "      <td>7.587</td>\n",
              "      <td>0.03411</td>\n",
              "      <td>1.39651</td>\n",
              "      <td>1.34951</td>\n",
              "      <td>0.94143</td>\n",
              "      <td>0.66557</td>\n",
              "      <td>0.41978</td>\n",
              "      <td>0.29678</td>\n",
              "      <td>2.51738</td>\n",
              "      <td>Switze</td>\n",
              "    </tr>\n",
              "    <tr>\n",
              "      <th>1</th>\n",
              "      <td>Iceland</td>\n",
              "      <td>Western Europe</td>\n",
              "      <td>2</td>\n",
              "      <td>7.561</td>\n",
              "      <td>0.04884</td>\n",
              "      <td>1.30232</td>\n",
              "      <td>1.40223</td>\n",
              "      <td>0.94784</td>\n",
              "      <td>0.62877</td>\n",
              "      <td>0.14145</td>\n",
              "      <td>0.43630</td>\n",
              "      <td>2.70201</td>\n",
              "      <td>Icelan</td>\n",
              "    </tr>\n",
              "    <tr>\n",
              "      <th>2</th>\n",
              "      <td>Denmark</td>\n",
              "      <td>Western Europe</td>\n",
              "      <td>3</td>\n",
              "      <td>7.527</td>\n",
              "      <td>0.03328</td>\n",
              "      <td>1.32548</td>\n",
              "      <td>1.36058</td>\n",
              "      <td>0.87464</td>\n",
              "      <td>0.64938</td>\n",
              "      <td>0.48357</td>\n",
              "      <td>0.34139</td>\n",
              "      <td>2.49204</td>\n",
              "      <td>Denmar</td>\n",
              "    </tr>\n",
              "    <tr>\n",
              "      <th>3</th>\n",
              "      <td>Norway</td>\n",
              "      <td>Western Europe</td>\n",
              "      <td>4</td>\n",
              "      <td>7.522</td>\n",
              "      <td>0.03880</td>\n",
              "      <td>1.45900</td>\n",
              "      <td>1.33095</td>\n",
              "      <td>0.88521</td>\n",
              "      <td>0.66973</td>\n",
              "      <td>0.36503</td>\n",
              "      <td>0.34699</td>\n",
              "      <td>2.46531</td>\n",
              "      <td>Norway</td>\n",
              "    </tr>\n",
              "    <tr>\n",
              "      <th>4</th>\n",
              "      <td>Canada</td>\n",
              "      <td>North America</td>\n",
              "      <td>5</td>\n",
              "      <td>7.427</td>\n",
              "      <td>0.03553</td>\n",
              "      <td>1.32629</td>\n",
              "      <td>1.32261</td>\n",
              "      <td>0.90563</td>\n",
              "      <td>0.63297</td>\n",
              "      <td>0.32957</td>\n",
              "      <td>0.45811</td>\n",
              "      <td>2.45176</td>\n",
              "      <td>Canada</td>\n",
              "    </tr>\n",
              "  </tbody>\n",
              "</table>\n",
              "</div>\n",
              "    <div class=\"colab-df-buttons\">\n",
              "\n",
              "  <div class=\"colab-df-container\">\n",
              "    <button class=\"colab-df-convert\" onclick=\"convertToInteractive('df-51d7dbd9-e5f7-4664-92c3-ba962a713d89')\"\n",
              "            title=\"Convert this dataframe to an interactive table.\"\n",
              "            style=\"display:none;\">\n",
              "\n",
              "  <svg xmlns=\"http://www.w3.org/2000/svg\" height=\"24px\" viewBox=\"0 -960 960 960\">\n",
              "    <path d=\"M120-120v-720h720v720H120Zm60-500h600v-160H180v160Zm220 220h160v-160H400v160Zm0 220h160v-160H400v160ZM180-400h160v-160H180v160Zm440 0h160v-160H620v160ZM180-180h160v-160H180v160Zm440 0h160v-160H620v160Z\"/>\n",
              "  </svg>\n",
              "    </button>\n",
              "\n",
              "  <style>\n",
              "    .colab-df-container {\n",
              "      display:flex;\n",
              "      gap: 12px;\n",
              "    }\n",
              "\n",
              "    .colab-df-convert {\n",
              "      background-color: #E8F0FE;\n",
              "      border: none;\n",
              "      border-radius: 50%;\n",
              "      cursor: pointer;\n",
              "      display: none;\n",
              "      fill: #1967D2;\n",
              "      height: 32px;\n",
              "      padding: 0 0 0 0;\n",
              "      width: 32px;\n",
              "    }\n",
              "\n",
              "    .colab-df-convert:hover {\n",
              "      background-color: #E2EBFA;\n",
              "      box-shadow: 0px 1px 2px rgba(60, 64, 67, 0.3), 0px 1px 3px 1px rgba(60, 64, 67, 0.15);\n",
              "      fill: #174EA6;\n",
              "    }\n",
              "\n",
              "    .colab-df-buttons div {\n",
              "      margin-bottom: 4px;\n",
              "    }\n",
              "\n",
              "    [theme=dark] .colab-df-convert {\n",
              "      background-color: #3B4455;\n",
              "      fill: #D2E3FC;\n",
              "    }\n",
              "\n",
              "    [theme=dark] .colab-df-convert:hover {\n",
              "      background-color: #434B5C;\n",
              "      box-shadow: 0px 1px 3px 1px rgba(0, 0, 0, 0.15);\n",
              "      filter: drop-shadow(0px 1px 2px rgba(0, 0, 0, 0.3));\n",
              "      fill: #FFFFFF;\n",
              "    }\n",
              "  </style>\n",
              "\n",
              "    <script>\n",
              "      const buttonEl =\n",
              "        document.querySelector('#df-51d7dbd9-e5f7-4664-92c3-ba962a713d89 button.colab-df-convert');\n",
              "      buttonEl.style.display =\n",
              "        google.colab.kernel.accessAllowed ? 'block' : 'none';\n",
              "\n",
              "      async function convertToInteractive(key) {\n",
              "        const element = document.querySelector('#df-51d7dbd9-e5f7-4664-92c3-ba962a713d89');\n",
              "        const dataTable =\n",
              "          await google.colab.kernel.invokeFunction('convertToInteractive',\n",
              "                                                    [key], {});\n",
              "        if (!dataTable) return;\n",
              "\n",
              "        const docLinkHtml = 'Like what you see? Visit the ' +\n",
              "          '<a target=\"_blank\" href=https://colab.research.google.com/notebooks/data_table.ipynb>data table notebook</a>'\n",
              "          + ' to learn more about interactive tables.';\n",
              "        element.innerHTML = '';\n",
              "        dataTable['output_type'] = 'display_data';\n",
              "        await google.colab.output.renderOutput(dataTable, element);\n",
              "        const docLink = document.createElement('div');\n",
              "        docLink.innerHTML = docLinkHtml;\n",
              "        element.appendChild(docLink);\n",
              "      }\n",
              "    </script>\n",
              "  </div>\n",
              "\n",
              "\n",
              "<div id=\"df-61f9767f-2013-4f2e-8741-45b98640237d\">\n",
              "  <button class=\"colab-df-quickchart\" onclick=\"quickchart('df-61f9767f-2013-4f2e-8741-45b98640237d')\"\n",
              "            title=\"Suggest charts\"\n",
              "            style=\"display:none;\">\n",
              "\n",
              "<svg xmlns=\"http://www.w3.org/2000/svg\" height=\"24px\"viewBox=\"0 0 24 24\"\n",
              "     width=\"24px\">\n",
              "    <g>\n",
              "        <path d=\"M19 3H5c-1.1 0-2 .9-2 2v14c0 1.1.9 2 2 2h14c1.1 0 2-.9 2-2V5c0-1.1-.9-2-2-2zM9 17H7v-7h2v7zm4 0h-2V7h2v10zm4 0h-2v-4h2v4z\"/>\n",
              "    </g>\n",
              "</svg>\n",
              "  </button>\n",
              "\n",
              "<style>\n",
              "  .colab-df-quickchart {\n",
              "      --bg-color: #E8F0FE;\n",
              "      --fill-color: #1967D2;\n",
              "      --hover-bg-color: #E2EBFA;\n",
              "      --hover-fill-color: #174EA6;\n",
              "      --disabled-fill-color: #AAA;\n",
              "      --disabled-bg-color: #DDD;\n",
              "  }\n",
              "\n",
              "  [theme=dark] .colab-df-quickchart {\n",
              "      --bg-color: #3B4455;\n",
              "      --fill-color: #D2E3FC;\n",
              "      --hover-bg-color: #434B5C;\n",
              "      --hover-fill-color: #FFFFFF;\n",
              "      --disabled-bg-color: #3B4455;\n",
              "      --disabled-fill-color: #666;\n",
              "  }\n",
              "\n",
              "  .colab-df-quickchart {\n",
              "    background-color: var(--bg-color);\n",
              "    border: none;\n",
              "    border-radius: 50%;\n",
              "    cursor: pointer;\n",
              "    display: none;\n",
              "    fill: var(--fill-color);\n",
              "    height: 32px;\n",
              "    padding: 0;\n",
              "    width: 32px;\n",
              "  }\n",
              "\n",
              "  .colab-df-quickchart:hover {\n",
              "    background-color: var(--hover-bg-color);\n",
              "    box-shadow: 0 1px 2px rgba(60, 64, 67, 0.3), 0 1px 3px 1px rgba(60, 64, 67, 0.15);\n",
              "    fill: var(--button-hover-fill-color);\n",
              "  }\n",
              "\n",
              "  .colab-df-quickchart-complete:disabled,\n",
              "  .colab-df-quickchart-complete:disabled:hover {\n",
              "    background-color: var(--disabled-bg-color);\n",
              "    fill: var(--disabled-fill-color);\n",
              "    box-shadow: none;\n",
              "  }\n",
              "\n",
              "  .colab-df-spinner {\n",
              "    border: 2px solid var(--fill-color);\n",
              "    border-color: transparent;\n",
              "    border-bottom-color: var(--fill-color);\n",
              "    animation:\n",
              "      spin 1s steps(1) infinite;\n",
              "  }\n",
              "\n",
              "  @keyframes spin {\n",
              "    0% {\n",
              "      border-color: transparent;\n",
              "      border-bottom-color: var(--fill-color);\n",
              "      border-left-color: var(--fill-color);\n",
              "    }\n",
              "    20% {\n",
              "      border-color: transparent;\n",
              "      border-left-color: var(--fill-color);\n",
              "      border-top-color: var(--fill-color);\n",
              "    }\n",
              "    30% {\n",
              "      border-color: transparent;\n",
              "      border-left-color: var(--fill-color);\n",
              "      border-top-color: var(--fill-color);\n",
              "      border-right-color: var(--fill-color);\n",
              "    }\n",
              "    40% {\n",
              "      border-color: transparent;\n",
              "      border-right-color: var(--fill-color);\n",
              "      border-top-color: var(--fill-color);\n",
              "    }\n",
              "    60% {\n",
              "      border-color: transparent;\n",
              "      border-right-color: var(--fill-color);\n",
              "    }\n",
              "    80% {\n",
              "      border-color: transparent;\n",
              "      border-right-color: var(--fill-color);\n",
              "      border-bottom-color: var(--fill-color);\n",
              "    }\n",
              "    90% {\n",
              "      border-color: transparent;\n",
              "      border-bottom-color: var(--fill-color);\n",
              "    }\n",
              "  }\n",
              "</style>\n",
              "\n",
              "  <script>\n",
              "    async function quickchart(key) {\n",
              "      const quickchartButtonEl =\n",
              "        document.querySelector('#' + key + ' button');\n",
              "      quickchartButtonEl.disabled = true;  // To prevent multiple clicks.\n",
              "      quickchartButtonEl.classList.add('colab-df-spinner');\n",
              "      try {\n",
              "        const charts = await google.colab.kernel.invokeFunction(\n",
              "            'suggestCharts', [key], {});\n",
              "      } catch (error) {\n",
              "        console.error('Error during call to suggestCharts:', error);\n",
              "      }\n",
              "      quickchartButtonEl.classList.remove('colab-df-spinner');\n",
              "      quickchartButtonEl.classList.add('colab-df-quickchart-complete');\n",
              "    }\n",
              "    (() => {\n",
              "      let quickchartButtonEl =\n",
              "        document.querySelector('#df-61f9767f-2013-4f2e-8741-45b98640237d button');\n",
              "      quickchartButtonEl.style.display =\n",
              "        google.colab.kernel.accessAllowed ? 'block' : 'none';\n",
              "    })();\n",
              "  </script>\n",
              "</div>\n",
              "\n",
              "    </div>\n",
              "  </div>\n"
            ],
            "application/vnd.google.colaboratory.intrinsic+json": {
              "type": "dataframe",
              "variable_name": "df",
              "summary": "{\n  \"name\": \"df\",\n  \"rows\": 158,\n  \"fields\": [\n    {\n      \"column\": \"Country\",\n      \"properties\": {\n        \"dtype\": \"string\",\n        \"num_unique_values\": 158,\n        \"samples\": [\n          \"Myanmar\",\n          \"Japan\",\n          \"Egypt\"\n        ],\n        \"semantic_type\": \"\",\n        \"description\": \"\"\n      }\n    },\n    {\n      \"column\": \"Region\",\n      \"properties\": {\n        \"dtype\": \"category\",\n        \"num_unique_values\": 10,\n        \"samples\": [\n          \"Sub-Saharan Africa\",\n          \"North America\",\n          \"Southeastern Asia\"\n        ],\n        \"semantic_type\": \"\",\n        \"description\": \"\"\n      }\n    },\n    {\n      \"column\": \"Happiness Rank\",\n      \"properties\": {\n        \"dtype\": \"number\",\n        \"std\": 45,\n        \"min\": 1,\n        \"max\": 158,\n        \"num_unique_values\": 157,\n        \"samples\": [\n          128,\n          46,\n          135\n        ],\n        \"semantic_type\": \"\",\n        \"description\": \"\"\n      }\n    },\n    {\n      \"column\": \"Happiness Score\",\n      \"properties\": {\n        \"dtype\": \"number\",\n        \"std\": 1.1450101349520665,\n        \"min\": 2.839,\n        \"max\": 7.587,\n        \"num_unique_values\": 157,\n        \"samples\": [\n          4.332,\n          5.987,\n          4.194\n        ],\n        \"semantic_type\": \"\",\n        \"description\": \"\"\n      }\n    },\n    {\n      \"column\": \"Standard Error\",\n      \"properties\": {\n        \"dtype\": \"number\",\n        \"std\": 0.017146178556969306,\n        \"min\": 0.01848,\n        \"max\": 0.13693,\n        \"num_unique_values\": 153,\n        \"samples\": [\n          0.06607,\n          0.04802,\n          0.06698\n        ],\n        \"semantic_type\": \"\",\n        \"description\": \"\"\n      }\n    },\n    {\n      \"column\": \"Economy (GDP per Capita)\",\n      \"properties\": {\n        \"dtype\": \"number\",\n        \"std\": 0.40312077853791,\n        \"min\": 0.0,\n        \"max\": 1.69042,\n        \"num_unique_values\": 158,\n        \"samples\": [\n          0.27108,\n          1.27074,\n          0.8818\n        ],\n        \"semantic_type\": \"\",\n        \"description\": \"\"\n      }\n    },\n    {\n      \"column\": \"Family\",\n      \"properties\": {\n        \"dtype\": \"number\",\n        \"std\": 0.27236908600791543,\n        \"min\": 0.0,\n        \"max\": 1.40223,\n        \"num_unique_values\": 158,\n        \"samples\": [\n          0.70905,\n          1.25712,\n          0.747\n        ],\n        \"semantic_type\": \"\",\n        \"description\": \"\"\n      }\n    },\n    {\n      \"column\": \"Health (Life Expectancy)\",\n      \"properties\": {\n        \"dtype\": \"number\",\n        \"std\": 0.24707776630217207,\n        \"min\": 0.0,\n        \"max\": 1.02525,\n        \"num_unique_values\": 157,\n        \"samples\": [\n          0.04776,\n          0.99111,\n          0.61712\n        ],\n        \"semantic_type\": \"\",\n        \"description\": \"\"\n      }\n    },\n    {\n      \"column\": \"Freedom\",\n      \"properties\": {\n        \"dtype\": \"number\",\n        \"std\": 0.15069278393767793,\n        \"min\": 0.0,\n        \"max\": 0.66973,\n        \"num_unique_values\": 158,\n        \"samples\": [\n          0.44017,\n          0.49615,\n          0.17288\n        ],\n        \"semantic_type\": \"\",\n        \"description\": \"\"\n      }\n    },\n    {\n      \"column\": \"Trust (Government Corruption)\",\n      \"properties\": {\n        \"dtype\": \"number\",\n        \"std\": 0.12003407357455917,\n        \"min\": 0.0,\n        \"max\": 0.55191,\n        \"num_unique_values\": 157,\n        \"samples\": [\n          0.12474,\n          0.07857,\n          0.06324\n        ],\n        \"semantic_type\": \"\",\n        \"description\": \"\"\n      }\n    },\n    {\n      \"column\": \"Generosity\",\n      \"properties\": {\n        \"dtype\": \"number\",\n        \"std\": 0.12668493402020534,\n        \"min\": 0.0,\n        \"max\": 0.79588,\n        \"num_unique_values\": 158,\n        \"samples\": [\n          0.79588,\n          0.10705,\n          0.11291\n        ],\n        \"semantic_type\": \"\",\n        \"description\": \"\"\n      }\n    },\n    {\n      \"column\": \"Dystopia Residual\",\n      \"properties\": {\n        \"dtype\": \"number\",\n        \"std\": 0.5535497923037984,\n        \"min\": 0.32858,\n        \"max\": 3.60214,\n        \"num_unique_values\": 158,\n        \"samples\": [\n          1.41805,\n          1.68435,\n          1.59927\n        ],\n        \"semantic_type\": \"\",\n        \"description\": \"\"\n      }\n    },\n    {\n      \"column\": \"first_five_letters\",\n      \"properties\": {\n        \"dtype\": \"string\",\n        \"num_unique_values\": 153,\n        \"samples\": [\n          \"Serbia\",\n          \"Latvia\",\n          \"Mongol\"\n        ],\n        \"semantic_type\": \"\",\n        \"description\": \"\"\n      }\n    }\n  ]\n}"
            }
          },
          "metadata": {},
          "execution_count": 10
        }
      ]
    },
    {
      "cell_type": "markdown",
      "source": [
        "**Question 11- Write a Python program to match a string that contains only upper and lowercase letters, numbers, and underscores.**"
      ],
      "metadata": {
        "id": "3IXr39X5JspL"
      }
    },
    {
      "cell_type": "code",
      "source": [
        "def match_text(text):\n",
        "    match_pattern=re.compile(r'^(\\w)+$')\n",
        "    if match_pattern.match(text):\n",
        "        return True\n",
        "    else:\n",
        "        return False\n",
        "\n",
        "string1 = \"Hello_World123\"\n",
        "string2 = \"Hello World\"\n",
        "print(match_text(string1))\n",
        "print(match_text(string2))"
      ],
      "metadata": {
        "id": "5PGZr_87MOos",
        "colab": {
          "base_uri": "https://localhost:8080/"
        },
        "outputId": "469c9ab7-b0b9-4a87-c0b4-f08f7a80afa9"
      },
      "execution_count": 59,
      "outputs": [
        {
          "output_type": "stream",
          "name": "stdout",
          "text": [
            "True\n",
            "False\n"
          ]
        }
      ]
    },
    {
      "cell_type": "markdown",
      "source": [
        "**Question 12- Write a Python program where a string will start with a specific number.**"
      ],
      "metadata": {
        "id": "3xxvaNNT3E1w"
      }
    },
    {
      "cell_type": "code",
      "source": [
        "def start_with_num(str):\n",
        "    match_pattern=re.compile(r'^\\d')\n",
        "    if match_pattern.match(str):\n",
        "        return True\n",
        "    else:\n",
        "        return False\n",
        "string1 = \"123Hello World\"\n",
        "string2 = \"Hello World\"\n",
        "print(start_with_num(string1))\n",
        "print(start_with_num(string2))\n"
      ],
      "metadata": {
        "id": "Rgy8PI-i4l3L",
        "colab": {
          "base_uri": "https://localhost:8080/"
        },
        "outputId": "d491d905-7b87-41ff-c4b6-7333fd47982a"
      },
      "execution_count": 58,
      "outputs": [
        {
          "output_type": "stream",
          "name": "stdout",
          "text": [
            "True\n",
            "False\n"
          ]
        }
      ]
    },
    {
      "cell_type": "markdown",
      "source": [
        "**Question 13- Write a Python program to remove leading zeros from an IP address**"
      ],
      "metadata": {
        "id": "4UIKbDje8Pxp"
      }
    },
    {
      "cell_type": "code",
      "source": [
        "def remove_zeros(ip):\n",
        "    return re.sub(r'\\b0+', '',ip)\n",
        "\n",
        "ip1= '0.0023.002'\n",
        "ip2= '00.0023.52.222'\n",
        "print(remove_zeros(ip1))\n",
        "print(remove_zeros(ip2))"
      ],
      "metadata": {
        "id": "VKJM_NOx9acA",
        "colab": {
          "base_uri": "https://localhost:8080/"
        },
        "outputId": "0f1cfd5e-3e6e-4a7a-b502-474548720d9d"
      },
      "execution_count": 57,
      "outputs": [
        {
          "output_type": "stream",
          "name": "stdout",
          "text": [
            ".23.2\n",
            ".23.52.222\n"
          ]
        }
      ]
    },
    {
      "cell_type": "markdown",
      "source": [
        "**Question 14- Write a regular expression in python to match a date string in the form of Month name followed by day number and year stored in a text file.\n",
        "Sample text :  ' On August 15th 1947 that India was declared independent from British colonialism, and the reins of control were handed over to the leaders of the Country’.Note- Store given sample text in the text file and then extract the date string asked format.**"
      ],
      "metadata": {
        "id": "rjwCpatVPdGM"
      }
    },
    {
      "cell_type": "code",
      "source": [
        "sample_text='On August 15th 1947 that India was declared independent from British colonialism, and the reins of control were handed over to the leaders of the Country'\n",
        "file_name='sample_text.txt'\n",
        "with open(file_name, 'w') as file:\n",
        "    file.write(sample_text)\n",
        "with open(file_name, 'r') as file:\n",
        "    file_content=file.read()\n",
        "match_pattern=r'\\b(?:January|February|March|April|May|June|July|August|September|October|November|December)\\s+\\d{1,2}(?:st|nd|rd|th)\\s+\\d{4}\\b'\n",
        "matches=re.findall(match_pattern,file_content)\n",
        "for match in matches:\n",
        "    print(match)"
      ],
      "metadata": {
        "colab": {
          "base_uri": "https://localhost:8080/"
        },
        "id": "ZhLRsRPXSGny",
        "outputId": "25bcaf08-5ada-465b-e997-3e06dd9ce0ff"
      },
      "execution_count": 56,
      "outputs": [
        {
          "output_type": "stream",
          "name": "stdout",
          "text": [
            "August 15th 1947\n"
          ]
        }
      ]
    },
    {
      "cell_type": "markdown",
      "source": [
        "**Question 15- Write a Python program to search some literals strings in a string.\n",
        "Sample text : 'The quick brown fox jumps over the lazy dog.'\n",
        "Searched words : 'fox', 'dog', 'horse'**"
      ],
      "metadata": {
        "id": "3jwR4BthX4dx"
      }
    },
    {
      "cell_type": "code",
      "source": [
        "str= 'The quick brown fox jumps over the lazy dog.'\n",
        "search_words=['fox','dog','horse']\n",
        "for word in search_words:\n",
        "    if re.search(word,text):\n",
        "        print(f'{word} is present in the string')\n",
        "    else:\n",
        "        print(f'the {word} is not present in the string')\n"
      ],
      "metadata": {
        "id": "nh6iLX3ZYAJt",
        "colab": {
          "base_uri": "https://localhost:8080/"
        },
        "outputId": "a6a1f394-3c6a-4fb6-bed7-e5c2b2f791a1"
      },
      "execution_count": 55,
      "outputs": [
        {
          "output_type": "stream",
          "name": "stdout",
          "text": [
            "the fox is not present in the string\n",
            "the dog is not present in the string\n",
            "the horse is not present in the string\n"
          ]
        }
      ]
    },
    {
      "cell_type": "markdown",
      "source": [
        "**Question 16- Write a Python program to search a literals string in a string and also find the location within the original string where the pattern occurs\n",
        "Sample text : 'The quick brown fox jumps over the lazy dog.'\n",
        "Searched words : 'fox'**"
      ],
      "metadata": {
        "id": "0SPjkTNvcDLz"
      }
    },
    {
      "cell_type": "code",
      "source": [
        "str='The quick brown fox jumps over the lazy dog.'\n",
        "word='fox'\n",
        "match=re.search(word,str)\n",
        "if match :\n",
        "    print (f'the {word} presnt in the given string at index {match.start()}')\n",
        "else:\n",
        "    print(f'the {word} is not present in the string')"
      ],
      "metadata": {
        "id": "wRKmo2hLcfcZ",
        "colab": {
          "base_uri": "https://localhost:8080/"
        },
        "outputId": "5df1d148-df45-42e7-f286-5fa24685f968"
      },
      "execution_count": 54,
      "outputs": [
        {
          "output_type": "stream",
          "name": "stdout",
          "text": [
            "the fox presnt in the given string at index 16\n"
          ]
        }
      ]
    },
    {
      "cell_type": "markdown",
      "source": [
        "**Question 17- Write a Python program to find the substrings within a string.\n",
        "Sample text : 'Python exercises, PHP exercises, C# exercises'\n",
        "Pattern : 'exercises'.**"
      ],
      "metadata": {
        "id": "CO6j3pOYeIOo"
      }
    },
    {
      "cell_type": "code",
      "source": [
        "sample_text= 'Python exercises, PHP exercises, C# exercises'\n",
        "pattern='exercise'\n",
        "for match in re.finditer(pattern,sample_text):\n",
        "    print(match.group())"
      ],
      "metadata": {
        "id": "QKB_eQlzeVL3",
        "colab": {
          "base_uri": "https://localhost:8080/"
        },
        "outputId": "4b0b0fba-c579-4181-ed76-50fe98681d0a"
      },
      "execution_count": 53,
      "outputs": [
        {
          "output_type": "stream",
          "name": "stdout",
          "text": [
            "exercise\n",
            "exercise\n",
            "exercise\n"
          ]
        }
      ]
    },
    {
      "cell_type": "markdown",
      "source": [
        "**Question 18- Write a Python program to find the occurrence and position of the substrings within a string.**"
      ],
      "metadata": {
        "id": "sG_r1dbJhntY"
      }
    },
    {
      "cell_type": "code",
      "source": [
        "sample_text= 'Python exercises, PHP exercises, C# exercises'\n",
        "pattern='exercise'\n",
        "for match in re.finditer(pattern,sample_text):\n",
        "    st=match.start()\n",
        "    ed=match.end()\n",
        "    print(f'The substring {match.group()} in the given string has found in the string at an index position {st} to {ed}')\n"
      ],
      "metadata": {
        "colab": {
          "base_uri": "https://localhost:8080/"
        },
        "id": "Ukb7LODz2cYC",
        "outputId": "31e11dae-d3cf-47d6-8ae4-993a4e32a2cf"
      },
      "execution_count": 52,
      "outputs": [
        {
          "output_type": "stream",
          "name": "stdout",
          "text": [
            "The substring exercise in the given string has found in the string at an index position 7 to 15\n",
            "The substring exercise in the given string has found in the string at an index position 22 to 30\n",
            "The substring exercise in the given string has found in the string at an index position 36 to 44\n"
          ]
        }
      ]
    },
    {
      "cell_type": "markdown",
      "source": [
        "**Question 19- Write a Python program to convert a date of yyyy-mm-dd format to dd-mm-yyyy format.**"
      ],
      "metadata": {
        "id": "7Hy4jt-44E1V"
      }
    },
    {
      "cell_type": "code",
      "source": [
        "def convert_date_format(date):\n",
        "    match_pattern=re.compile(r'(\\d{4})-(\\d{2})-(\\d{2})')\n",
        "    match=match_pattern.search(date)\n",
        "    if match:\n",
        "        year,month,day=match.groups()\n",
        "        return f'{day}-{month}-{year}'\n",
        "    else:\n",
        "        return 'The format is invalid'\n",
        "\n",
        "date='1993-03-14'\n",
        "print(convert_date_format(date))"
      ],
      "metadata": {
        "colab": {
          "base_uri": "https://localhost:8080/"
        },
        "id": "9imFrWM-5E60",
        "outputId": "90776896-ddb1-4de7-fd41-41419639e4ff"
      },
      "execution_count": 51,
      "outputs": [
        {
          "output_type": "stream",
          "name": "stdout",
          "text": [
            "14-03-1993\n"
          ]
        }
      ]
    },
    {
      "cell_type": "markdown",
      "source": [
        "**Question 20- Create a function in python to find all decimal numbers with a precision of 1 or 2 in a string. The use of the re.compile() method is mandatory.\n",
        "Sample Text: \"01.12 0132.123 2.31875 145.8 3.01 27.25 0.25\"**"
      ],
      "metadata": {
        "id": "cQEu1OnkDYLk"
      }
    },
    {
      "cell_type": "code",
      "source": [
        "def decimal_precision(text):\n",
        "    match_pattern=re.compile(r'\\b\\d+\\.\\d{1,2}\\b')\n",
        "    return match_pattern.findall(text)\n",
        "Sample_Text= \"01.12 0132.123 2.31875 145.8 3.01 27.25 0.25\"\n",
        "decimal_precision(Sample_Text)"
      ],
      "metadata": {
        "colab": {
          "base_uri": "https://localhost:8080/"
        },
        "id": "-T59Q-0DDd7c",
        "outputId": "edbd1879-59b1-4fae-f1b6-77b29ed4dcb0"
      },
      "execution_count": 50,
      "outputs": [
        {
          "output_type": "execute_result",
          "data": {
            "text/plain": [
              "['01.12', '145.8', '3.01', '27.25', '0.25']"
            ]
          },
          "metadata": {},
          "execution_count": 50
        }
      ]
    },
    {
      "cell_type": "markdown",
      "source": [
        "**Question 21- Write a Python program to separate and print the numbers and their position of a given string.**"
      ],
      "metadata": {
        "id": "5isz2914Hjc9"
      }
    },
    {
      "cell_type": "code",
      "source": [
        "def seperate_numbers(str):\n",
        "    match_pattern=re.compile(r'\\d+')\n",
        "    matches=match_pattern.finditer(str)\n",
        "    count=0\n",
        "    for match in matches:\n",
        "        count=count+1\n",
        "        if count==1:\n",
        "            print(f'{count}st number in the string is {match.group()} at index position  {match.start()} to {match.end()}')\n",
        "        elif count==2:\n",
        "            print(f'{count}nd number in the string is {match.group()} at index position {match.start()} to {match.end()}')\n",
        "        elif count==3:\n",
        "            print(f'{count}rd number in the string is {match.group()} at index position {match.start()} to {match.end()}')\n",
        "        else:\n",
        "            print(f'{count}th number in the string is {match.group()} at index position {match.start()} to {match.end()}')\n",
        "\n",
        "text='gdfdg jdhu 234 jcbdj 33647 njdnkk 67 hdbj 647'\n",
        "seperate_numbers(text)"
      ],
      "metadata": {
        "colab": {
          "base_uri": "https://localhost:8080/"
        },
        "id": "XoEM7dIMITna",
        "outputId": "99bc8c52-70d4-4a4c-a27f-01e75474b597"
      },
      "execution_count": 49,
      "outputs": [
        {
          "output_type": "stream",
          "name": "stdout",
          "text": [
            "1st number in the string is 234 at index position  11 to 14\n",
            "2nd number in the string is 33647 at index position 21 to 26\n",
            "3rd number in the string is 67 at index position 34 to 36\n",
            "4th number in the string is 647 at index position 42 to 45\n"
          ]
        }
      ]
    },
    {
      "cell_type": "markdown",
      "source": [
        "**Question 22- Write a regular expression in python program to extract maximum/largest numeric value from a string.\n",
        "Sample Text:  'My marks in each semester are: 947, 896, 926, 524, 734, 950, 642'**"
      ],
      "metadata": {
        "id": "EsqQZUfMLHIB"
      }
    },
    {
      "cell_type": "code",
      "source": [
        "sample_text= 'My marks in each semester are: 947, 896, 926, 524, 734, 950, 642'\n",
        "match_pattern=re.compile(r'\\d+')\n",
        "match=max(match_pattern.findall(sample_text))\n",
        "print(f'The mximum number in the given string is {match}')"
      ],
      "metadata": {
        "colab": {
          "base_uri": "https://localhost:8080/"
        },
        "id": "k9Rodh-iNAjN",
        "outputId": "a5d1379f-c27f-4f97-b107-a30fde30d08c"
      },
      "execution_count": 48,
      "outputs": [
        {
          "output_type": "stream",
          "name": "stdout",
          "text": [
            "The mximum number in the given string is 950\n"
          ]
        }
      ]
    },
    {
      "cell_type": "markdown",
      "source": [
        "**Question 23- Create a function in python to insert spaces between words starting with capital letters.\n",
        "Sample Text: “RegularExpressionIsAnImportantTopicInPython\"**"
      ],
      "metadata": {
        "id": "K1xkSsbiTEyY"
      }
    },
    {
      "cell_type": "code",
      "source": [
        "def insert_space(text):\n",
        "    match_pattern=re.compile('(?=[A-Z])')\n",
        "    return match_pattern.sub(' ',text)\n",
        "sample_text='RegularExpressionIsAnImportantTopicInPython'\n",
        "insert_space(sample_text)\n"
      ],
      "metadata": {
        "colab": {
          "base_uri": "https://localhost:8080/",
          "height": 36
        },
        "id": "uHYbiUN_TDck",
        "outputId": "e811e58c-13a1-4b73-daca-d16c7a42c40a"
      },
      "execution_count": 47,
      "outputs": [
        {
          "output_type": "execute_result",
          "data": {
            "text/plain": [
              "' Regular Expression Is An Important Topic In Python'"
            ],
            "application/vnd.google.colaboratory.intrinsic+json": {
              "type": "string"
            }
          },
          "metadata": {},
          "execution_count": 47
        }
      ]
    },
    {
      "cell_type": "markdown",
      "source": [
        "**Question 24- Python regex to find sequences of one upper case letter followed by lower case letters**"
      ],
      "metadata": {
        "id": "ycmhd4ZaZC1D"
      }
    },
    {
      "cell_type": "code",
      "source": [
        "text='RegularExpressionIsAnImportantTopicInPython'\n",
        "match_pattern=re.compile(r'[A-Z][a-z]+')\n",
        "match_pattern.findall(text)"
      ],
      "metadata": {
        "colab": {
          "base_uri": "https://localhost:8080/"
        },
        "id": "RwJckE24dM8h",
        "outputId": "12a6c50f-2db4-48bc-f268-f4d3ceb0803c"
      },
      "execution_count": 46,
      "outputs": [
        {
          "output_type": "execute_result",
          "data": {
            "text/plain": [
              "['Regular', 'Expression', 'Is', 'An', 'Important', 'Topic', 'In', 'Python']"
            ]
          },
          "metadata": {},
          "execution_count": 46
        }
      ]
    },
    {
      "cell_type": "markdown",
      "source": [
        "**Question 25- Write a Python program to remove continuous duplicate words from Sentence using Regular Expression.\n",
        "Sample Text: \"Hello hello world world\"**"
      ],
      "metadata": {
        "id": "-hM7iGqwg5Yt"
      }
    },
    {
      "cell_type": "code",
      "source": [
        "sample_text='Hello hello world world'\n",
        "match_pattern= re.compile(r'\\b(\\w+)(\\s+\\1)+\\b')\n",
        "match_pattern.sub(r'\\1',sample_text)"
      ],
      "metadata": {
        "colab": {
          "base_uri": "https://localhost:8080/",
          "height": 36
        },
        "id": "VdqdIsuzdLHZ",
        "outputId": "01a1257e-d4a5-4914-ac15-36e7a7bb0852"
      },
      "execution_count": 45,
      "outputs": [
        {
          "output_type": "execute_result",
          "data": {
            "text/plain": [
              "'Hello hello world'"
            ],
            "application/vnd.google.colaboratory.intrinsic+json": {
              "type": "string"
            }
          },
          "metadata": {},
          "execution_count": 45
        }
      ]
    },
    {
      "cell_type": "markdown",
      "source": [
        "**Question 26-  Write a python program using RegEx to accept string ending with alphanumeric character.**"
      ],
      "metadata": {
        "id": "cMedZEXDkUlu"
      }
    },
    {
      "cell_type": "code",
      "source": [
        "def alphanumeric_string(text):\n",
        "    match_pattern=re.compile(r'[A-Za-z0-9]+$')\n",
        "    if match_pattern.match(text):\n",
        "        return True\n",
        "    else:\n",
        "        return False\n",
        "text1 = \"Hello123\"\n",
        "text2 = \"Hello World\"\n",
        "print(alphanumeric_string(text1))\n",
        "print(alphanumeric_string(text2))"
      ],
      "metadata": {
        "colab": {
          "base_uri": "https://localhost:8080/"
        },
        "id": "mMMk4DMUlXxW",
        "outputId": "5dd380a5-8102-4c91-a98e-04d32ff061b4"
      },
      "execution_count": 44,
      "outputs": [
        {
          "output_type": "stream",
          "name": "stdout",
          "text": [
            "True\n",
            "False\n"
          ]
        }
      ]
    },
    {
      "cell_type": "markdown",
      "source": [
        "**Question 27-Write a python program using RegEx to extract the hashtags.\n",
        "Sample Text:  \"\"\"RT @kapil_kausik: #Doltiwal I mean #xyzabc is \"hurt\" by #Demonetization as the same has rendered USELESS <ed><U+00A0><U+00BD><ed><U+00B1><U+0089> \"acquired funds\" No wo\"\"\"**"
      ],
      "metadata": {
        "id": "VRj8G3HPmPH4"
      }
    },
    {
      "cell_type": "code",
      "source": [
        "sample_text='''RT @kapil_kausik: #Doltiwal I mean #xyzabc is \"hurt\" by #Demonetization as the same has\n",
        "rendered USELESS <U+00A0><U+00BD><U+00B1><U+0089> \"acquired funds\" No wo'''\n",
        "match_pattern=re.compile(r'(#\\w+)')\n",
        "match_pattern.findall(sample_text)"
      ],
      "metadata": {
        "colab": {
          "base_uri": "https://localhost:8080/"
        },
        "id": "p1yK6d3VmbZM",
        "outputId": "fe5c763d-44de-47d9-d89c-a0cbf734bbc8"
      },
      "execution_count": 43,
      "outputs": [
        {
          "output_type": "execute_result",
          "data": {
            "text/plain": [
              "['#Doltiwal', '#xyzabc', '#Demonetization']"
            ]
          },
          "metadata": {},
          "execution_count": 43
        }
      ]
    },
    {
      "cell_type": "markdown",
      "source": [
        "**Question 28- Write a python program using RegEx to remove <U+..> like symbols\n",
        "Check the below sample text, there are strange symbols something of the sort <U+..> all over the place. You need to come up with a general Regex expression that will cover all such symbols.\n",
        "Sample Text: \"@Jags123456 Bharat band on 28??<ed><U+00A0><U+00BD><ed><U+00B8><U+0082>Those who  are protesting #demonetization  are all different party leaders\"**"
      ],
      "metadata": {
        "id": "21dLzsJ3ny-L"
      }
    },
    {
      "cell_type": "code",
      "source": [
        "sample_text='''@Jags123456 Bharat band on 28??<U+00A0><U+00BD><U+00B8><U+0082>Those\n",
        "who are protesting #demonetization are all different party leaders'''\n",
        "match_pattern=re.compile(r'(<U\\+\\w+)')\n",
        "match_pattern.sub(r'',sample_text)\n"
      ],
      "metadata": {
        "colab": {
          "base_uri": "https://localhost:8080/",
          "height": 36
        },
        "id": "mtMXF8eln9Rs",
        "outputId": "1e76e986-ed43-42f7-bb9a-717192cd1585"
      },
      "execution_count": 42,
      "outputs": [
        {
          "output_type": "execute_result",
          "data": {
            "text/plain": [
              "'@Jags123456 Bharat band on 28??>>>>Those\\nwho are protesting #demonetization are all different party leaders'"
            ],
            "application/vnd.google.colaboratory.intrinsic+json": {
              "type": "string"
            }
          },
          "metadata": {},
          "execution_count": 42
        }
      ]
    },
    {
      "cell_type": "markdown",
      "source": [
        "**Question 29- Write a python program to extract dates from the text stored in the text file.\n",
        "Sample Text: Ron was born on 12-09-1992 and he was admitted to school 15-12-1999.\n",
        "Note- Store this sample text in the file and then extract dates.**"
      ],
      "metadata": {
        "id": "M7QPwyV6o0Q_"
      }
    },
    {
      "cell_type": "code",
      "source": [
        "sample_text='Ron was born on 12-09-1992 and he was admitted to school 15-12-1999.'\n",
        "file_name='text.txt'\n",
        "with open(file_name, 'w') as file:\n",
        "    file.write(sample_text)\n",
        "\n",
        "with open(file_name, 'r') as file:\n",
        "    file_contents=file.read()\n",
        "#print(file_contents)\n",
        "\n",
        "match_pattern=re.compile(r'\\d{2}-\\d{2}-\\d{4}')\n",
        "match_pattern.findall(file_contents)\n"
      ],
      "metadata": {
        "id": "xfRUJF7ApBux",
        "colab": {
          "base_uri": "https://localhost:8080/"
        },
        "outputId": "6f695d66-0e77-49df-cf79-c9bd8f126410"
      },
      "execution_count": 40,
      "outputs": [
        {
          "output_type": "execute_result",
          "data": {
            "text/plain": [
              "['12-09-1992', '15-12-1999']"
            ]
          },
          "metadata": {},
          "execution_count": 40
        }
      ]
    },
    {
      "cell_type": "markdown",
      "source": [
        "**Question 30- Create a function in python to remove all words from a string of length between 2 and 4.\n",
        "The use of the re.compile() method is mandatory.\n",
        "Sample Text: \"The following example creates an ArrayList with a capacity of 50 elements. 4 elements are then added to the ArrayList and the ArrayList is trimmed accordingly.\"**"
      ],
      "metadata": {
        "id": "qxoST3D8pGPB"
      }
    },
    {
      "cell_type": "code",
      "source": [
        "def remove_string(text):\n",
        "    match_pattern=re.compile(r'\\b\\w{2,4}\\b')\n",
        "    return match_pattern.sub(r'',text)\n",
        "\n",
        "sample_text='''The following example creates an ArrayList with a capacity of 50 elements.\n",
        " 4 elements are then added to the ArrayList and the ArrayList is trimmed accordingly.'''\n",
        "\n",
        "remove_string(sample_text)"
      ],
      "metadata": {
        "colab": {
          "base_uri": "https://localhost:8080/",
          "height": 36
        },
        "id": "aIq-LT-TpUYW",
        "outputId": "c33a402e-0b55-477c-9e4b-72fb94643dbe"
      },
      "execution_count": 41,
      "outputs": [
        {
          "output_type": "execute_result",
          "data": {
            "text/plain": [
              "' following example creates  ArrayList  a capacity   elements.\\n 4 elements   added   ArrayList   ArrayList  trimmed accordingly.'"
            ],
            "application/vnd.google.colaboratory.intrinsic+json": {
              "type": "string"
            }
          },
          "metadata": {},
          "execution_count": 41
        }
      ]
    }
  ]
}