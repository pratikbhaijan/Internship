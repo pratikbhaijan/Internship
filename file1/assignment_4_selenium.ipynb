{
 "cells": [
  {
   "cell_type": "markdown",
   "id": "adcb3d43",
   "metadata": {},
   "source": [
    "#                                ASSIGNMENT-4 WEB SCRAPPING"
   ]
  },
  {
   "cell_type": "markdown",
   "id": "95c9bcd0",
   "metadata": {},
   "source": [
    "Scrape the details of most viewed videos on YouTube from Wikipedia. Url = https://en.wikipedia.org/wiki/List_of_most-viewed_YouTube_videos You need to find following details: A) Rank\n",
    "B) Name\n",
    "C) Artist\n",
    "D) Upload date\n",
    "E) Views"
   ]
  },
  {
   "cell_type": "code",
   "execution_count": 46,
   "id": "2f05993d",
   "metadata": {},
   "outputs": [],
   "source": [
    "#importing necessary liberaries\n",
    "import selenium\n",
    "from selenium import webdriver\n",
    "from selenium.webdriver.common.by import By\n",
    "import pandas as pd\n",
    "import warnings\n",
    "warnings.filterwarnings('ignore')\n",
    "import re\n",
    "import time\n",
    "from selenium.webdriver.support.ui import WebDriverWait\n",
    "#from selenium.webdriver.support.ui import ElementClickInterceptedException as EC"
   ]
  },
  {
   "cell_type": "code",
   "execution_count": 3,
   "id": "d1120df0",
   "metadata": {},
   "outputs": [],
   "source": [
    "# initializing chrome browser \n",
    "driver=webdriver.Chrome()"
   ]
  },
  {
   "cell_type": "code",
   "execution_count": 4,
   "id": "b34ce66d",
   "metadata": {},
   "outputs": [],
   "source": [
    "# directing to the website\n",
    "driver.get('https://en.wikipedia.org/wiki/List_of_most-viewed_YouTube_videos')"
   ]
  },
  {
   "cell_type": "code",
   "execution_count": 75,
   "id": "7a76fdf2",
   "metadata": {},
   "outputs": [],
   "source": [
    "#scrapping the video title from the website\n",
    "video_title=[]\n",
    "video_tags=driver.find_elements(By.XPATH,'//table[@class=\"wikitable sortable jquery-tablesorter\"]/tbody/tr/td[1]')\n",
    "for i in video_tags:\n",
    "    a=i.text\n",
    "    video_title.append(a)"
   ]
  },
  {
   "cell_type": "code",
   "execution_count": 79,
   "id": "08b2ab57",
   "metadata": {},
   "outputs": [
    {
     "data": {
      "text/plain": [
       "['\"Baby Shark Dance\"[7]',\n",
       " '\"Despacito\"[10]',\n",
       " '\"See You Again\"[20]',\n",
       " '\"Gangnam Style\"⁂[31]',\n",
       " '\"Baby\"*[69]',\n",
       " '\"Bad Romance\"[73]',\n",
       " '\"Charlie Bit My Finger\"[77]',\n",
       " '\"Evolution of Dance\"[79]',\n",
       " '\"Girlfriend\"‡[81][82]',\n",
       " '\"Evolution of Dance\"[79]',\n",
       " '\"Music Is My Hot Hot Sex\"‡[87]',\n",
       " '\"Evolution of Dance\"*[79]',\n",
       " '\"Pokémon Theme Music Video\"‡[92]',\n",
       " '\"Myspace – The Movie\"‡[97][98]',\n",
       " '\"Phony Photo Booth\"‡[101]',\n",
       " '\"The Chronic of Narnia Rap\"‡[107]',\n",
       " '\"Ronaldinho: Touch of Gold\"‡*[110]',\n",
       " '\"I/O Brush\"‡*[116]']"
      ]
     },
     "execution_count": 79,
     "metadata": {},
     "output_type": "execute_result"
    }
   ],
   "source": [
    "#printing video titles\n",
    "video_title"
   ]
  },
  {
   "cell_type": "code",
   "execution_count": null,
   "id": "60d5d370",
   "metadata": {},
   "outputs": [],
   "source": [
    "#the titles are not in proper appeariance"
   ]
  },
  {
   "cell_type": "code",
   "execution_count": 87,
   "id": "283ec0b7",
   "metadata": {},
   "outputs": [],
   "source": [
    "# making titles in proper apperaniance using regular expression \n",
    "video_titles=[]\n",
    "match_pattern=re.compile(r'\"(.*?)\"')\n",
    "for i in video_title:\n",
    "    y=match_pattern.findall(i)\n",
    "    video_titles.extend(y)\n",
    "    \n",
    "    "
   ]
  },
  {
   "cell_type": "code",
   "execution_count": 88,
   "id": "a0c7a8e4",
   "metadata": {},
   "outputs": [
    {
     "data": {
      "text/plain": [
       "['Baby Shark Dance',\n",
       " 'Despacito',\n",
       " 'See You Again',\n",
       " 'Gangnam Style',\n",
       " 'Baby',\n",
       " 'Bad Romance',\n",
       " 'Charlie Bit My Finger',\n",
       " 'Evolution of Dance',\n",
       " 'Girlfriend',\n",
       " 'Evolution of Dance',\n",
       " 'Music Is My Hot Hot Sex',\n",
       " 'Evolution of Dance',\n",
       " 'Pokémon Theme Music Video',\n",
       " 'Myspace – The Movie',\n",
       " 'Phony Photo Booth',\n",
       " 'The Chronic of Narnia Rap',\n",
       " 'Ronaldinho: Touch of Gold',\n",
       " 'I/O Brush']"
      ]
     },
     "execution_count": 88,
     "metadata": {},
     "output_type": "execute_result"
    }
   ],
   "source": [
    "# printing the updated video titles\n",
    "video_titles"
   ]
  },
  {
   "cell_type": "code",
   "execution_count": 89,
   "id": "d964fc3e",
   "metadata": {},
   "outputs": [],
   "source": [
    "#scrapping the artist details\n",
    "artist=[]\n",
    "artist_tags=driver.find_elements(By.XPATH,'//table[@class=\"wikitable sortable jquery-tablesorter\"]/tbody/tr/td[2]')\n",
    "for i in artist_tags:\n",
    "    z=i.text\n",
    "    artist.append(z)"
   ]
  },
  {
   "cell_type": "code",
   "execution_count": 92,
   "id": "3e8862f6",
   "metadata": {},
   "outputs": [
    {
     "data": {
      "text/plain": [
       "[\"Pinkfong Baby Shark - Kids' Songs & Stories\",\n",
       " 'Luis Fonsi',\n",
       " 'Wiz Khalifa',\n",
       " 'Psy',\n",
       " 'Justin Bieber',\n",
       " 'Lady Gaga',\n",
       " 'HDCYT',\n",
       " 'Judson Laipply',\n",
       " 'RCA Records',\n",
       " 'Judson Laipply',\n",
       " 'CLARUSBARTEL72',\n",
       " 'Judson Laipply',\n",
       " 'Smosh',\n",
       " 'eggtea',\n",
       " 'mugenized',\n",
       " 'youtubedude',\n",
       " 'Nikesoccer',\n",
       " 'larfus']"
      ]
     },
     "execution_count": 92,
     "metadata": {},
     "output_type": "execute_result"
    }
   ],
   "source": [
    "#printing artist data\n",
    "(artist)"
   ]
  },
  {
   "cell_type": "code",
   "execution_count": 93,
   "id": "356c0309",
   "metadata": {},
   "outputs": [],
   "source": [
    "# scrapping views from the wikitable\n",
    "views=[]\n",
    "views_tags=driver.find_elements(By.XPATH,'//table[@class=\"wikitable sortable jquery-tablesorter\"]/tbody/tr/td[3]')\n",
    "for i in views_tags:\n",
    "    a=i.text\n",
    "    views.append(a)"
   ]
  },
  {
   "cell_type": "code",
   "execution_count": 94,
   "id": "f8da6a4e",
   "metadata": {},
   "outputs": [
    {
     "data": {
      "text/plain": [
       "['7,046,700,000',\n",
       " '2,993,700,000',\n",
       " '2,894,000,000',\n",
       " '803,700,000',\n",
       " '245,400,000',\n",
       " '178,400,000',\n",
       " '128,900,000',\n",
       " '118,900,000',\n",
       " '92,600,000',\n",
       " '78,400,000',\n",
       " '76,600,000',\n",
       " '10,600,000',\n",
       " '4,300,000',\n",
       " '2,700,000',\n",
       " '3,400,000',\n",
       " '2,300,000',\n",
       " '255,000',\n",
       " '247,000']"
      ]
     },
     "execution_count": 94,
     "metadata": {},
     "output_type": "execute_result"
    }
   ],
   "source": [
    "views"
   ]
  },
  {
   "cell_type": "code",
   "execution_count": 96,
   "id": "d11a5f2d",
   "metadata": {},
   "outputs": [],
   "source": [
    "#scrapping the date of video uploads\n",
    "uploading_dates=[]\n",
    "date_tags=driver.find_elements(By.XPATH,'//table[@class=\"wikitable sortable jquery-tablesorter\"]/tbody/tr/td[4]')\n",
    "for i in date_tags:\n",
    "    b=i.text\n",
    "    uploading_dates.append(b)"
   ]
  },
  {
   "cell_type": "code",
   "execution_count": 97,
   "id": "0364aa9d",
   "metadata": {},
   "outputs": [
    {
     "data": {
      "text/plain": [
       "['June 17, 2016',\n",
       " 'January 12, 2017',\n",
       " 'April 6, 2015',\n",
       " 'July 15, 2012',\n",
       " 'February 19, 2010',\n",
       " 'November 24, 2009',\n",
       " 'May 22, 2007',\n",
       " 'April 6, 2006',\n",
       " 'February 27, 2007',\n",
       " 'April 6, 2006',\n",
       " 'April 9, 2007',\n",
       " 'April 6, 2006',\n",
       " 'November 28, 2005',\n",
       " 'January 31, 2006',\n",
       " 'December 1, 2005',\n",
       " 'December 18, 2005',\n",
       " 'October 21, 2005',\n",
       " 'October 5, 2005']"
      ]
     },
     "execution_count": 97,
     "metadata": {},
     "output_type": "execute_result"
    }
   ],
   "source": [
    "uploading_dates"
   ]
  },
  {
   "cell_type": "code",
   "execution_count": 98,
   "id": "583e2725",
   "metadata": {},
   "outputs": [],
   "source": [
    "#rank\n",
    "rank=[]\n",
    "for i in range(1,19):\n",
    "    rank.append(i)"
   ]
  },
  {
   "cell_type": "code",
   "execution_count": 99,
   "id": "fb734a70",
   "metadata": {},
   "outputs": [
    {
     "data": {
      "text/plain": [
       "[1, 2, 3, 4, 5, 6, 7, 8, 9, 10, 11, 12, 13, 14, 15, 16, 17, 18]"
      ]
     },
     "execution_count": 99,
     "metadata": {},
     "output_type": "execute_result"
    }
   ],
   "source": [
    "rank"
   ]
  },
  {
   "cell_type": "code",
   "execution_count": 100,
   "id": "5f129121",
   "metadata": {},
   "outputs": [],
   "source": [
    "#creating dictionary\n",
    "table_dict={'Rank':rank,'Video_name':video_titles,'Artist':artist,'Upload_date':uploading_dates,'Views':views}"
   ]
  },
  {
   "cell_type": "code",
   "execution_count": 101,
   "id": "c5b11f6c",
   "metadata": {},
   "outputs": [],
   "source": [
    "# converting into dataframe\n",
    "DF_1=pd.DataFrame.from_dict(table_dict)"
   ]
  },
  {
   "cell_type": "code",
   "execution_count": 103,
   "id": "cc0ea4b6",
   "metadata": {},
   "outputs": [
    {
     "data": {
      "text/html": [
       "<div>\n",
       "<style scoped>\n",
       "    .dataframe tbody tr th:only-of-type {\n",
       "        vertical-align: middle;\n",
       "    }\n",
       "\n",
       "    .dataframe tbody tr th {\n",
       "        vertical-align: top;\n",
       "    }\n",
       "\n",
       "    .dataframe thead th {\n",
       "        text-align: right;\n",
       "    }\n",
       "</style>\n",
       "<table border=\"1\" class=\"dataframe\">\n",
       "  <thead>\n",
       "    <tr style=\"text-align: right;\">\n",
       "      <th></th>\n",
       "      <th>Rank</th>\n",
       "      <th>Video_name</th>\n",
       "      <th>Artist</th>\n",
       "      <th>Upload_date</th>\n",
       "      <th>Views</th>\n",
       "    </tr>\n",
       "  </thead>\n",
       "  <tbody>\n",
       "    <tr>\n",
       "      <th>0</th>\n",
       "      <td>1</td>\n",
       "      <td>Baby Shark Dance</td>\n",
       "      <td>Pinkfong Baby Shark - Kids' Songs &amp; Stories</td>\n",
       "      <td>June 17, 2016</td>\n",
       "      <td>7,046,700,000</td>\n",
       "    </tr>\n",
       "    <tr>\n",
       "      <th>1</th>\n",
       "      <td>2</td>\n",
       "      <td>Despacito</td>\n",
       "      <td>Luis Fonsi</td>\n",
       "      <td>January 12, 2017</td>\n",
       "      <td>2,993,700,000</td>\n",
       "    </tr>\n",
       "    <tr>\n",
       "      <th>2</th>\n",
       "      <td>3</td>\n",
       "      <td>See You Again</td>\n",
       "      <td>Wiz Khalifa</td>\n",
       "      <td>April 6, 2015</td>\n",
       "      <td>2,894,000,000</td>\n",
       "    </tr>\n",
       "    <tr>\n",
       "      <th>3</th>\n",
       "      <td>4</td>\n",
       "      <td>Gangnam Style</td>\n",
       "      <td>Psy</td>\n",
       "      <td>July 15, 2012</td>\n",
       "      <td>803,700,000</td>\n",
       "    </tr>\n",
       "    <tr>\n",
       "      <th>4</th>\n",
       "      <td>5</td>\n",
       "      <td>Baby</td>\n",
       "      <td>Justin Bieber</td>\n",
       "      <td>February 19, 2010</td>\n",
       "      <td>245,400,000</td>\n",
       "    </tr>\n",
       "  </tbody>\n",
       "</table>\n",
       "</div>"
      ],
      "text/plain": [
       "   Rank        Video_name                                       Artist  \\\n",
       "0     1  Baby Shark Dance  Pinkfong Baby Shark - Kids' Songs & Stories   \n",
       "1     2         Despacito                                   Luis Fonsi   \n",
       "2     3     See You Again                                  Wiz Khalifa   \n",
       "3     4     Gangnam Style                                          Psy   \n",
       "4     5              Baby                                Justin Bieber   \n",
       "\n",
       "         Upload_date          Views  \n",
       "0      June 17, 2016  7,046,700,000  \n",
       "1   January 12, 2017  2,993,700,000  \n",
       "2      April 6, 2015  2,894,000,000  \n",
       "3      July 15, 2012    803,700,000  \n",
       "4  February 19, 2010    245,400,000  "
      ]
     },
     "execution_count": 103,
     "metadata": {},
     "output_type": "execute_result"
    }
   ],
   "source": [
    "# printing the first 5 attributes of dataframe\n",
    "DF_1.head(5)"
   ]
  },
  {
   "cell_type": "code",
   "execution_count": 104,
   "id": "72bd3f69",
   "metadata": {},
   "outputs": [],
   "source": [
    "# closing the web page\n",
    "driver.quit()"
   ]
  },
  {
   "cell_type": "markdown",
   "id": "45a55f1c",
   "metadata": {},
   "source": [
    "2. Scrape the details team India’s international fixtures from bcci.tv.\n",
    "Url = https://www.bcci.tv/.\n",
    "You need to find following details:\n",
    "A) Series\n",
    "B) Place\n",
    "C) Date\n",
    "D) Time\n",
    "Note: - From bcci.tv home page you have reach to the international fixture page through code."
   ]
  },
  {
   "cell_type": "code",
   "execution_count": 109,
   "id": "49ab99f9",
   "metadata": {},
   "outputs": [],
   "source": [
    "#initializing web browser\n",
    "driver=webdriver.Chrome()\n",
    "driver.maximize_window()"
   ]
  },
  {
   "cell_type": "code",
   "execution_count": 110,
   "id": "66d9e7c0",
   "metadata": {},
   "outputs": [],
   "source": [
    "#directing to the web page\n",
    "driver.get(' https://www.bcci.tv/')"
   ]
  },
  {
   "cell_type": "code",
   "execution_count": 113,
   "id": "4cea0819",
   "metadata": {},
   "outputs": [],
   "source": [
    "# pointing and clicking on the fixture and results\n",
    "international_fixture=driver.find_element(By.XPATH,'/html/body/header/div[3]/div[2]/ul/div[1]/a[2]')\n",
    "international_fixture.click()"
   ]
  },
  {
   "cell_type": "code",
   "execution_count": 114,
   "id": "c0bccf87",
   "metadata": {},
   "outputs": [],
   "source": [
    "#scrapping series data\n",
    "series=[]\n",
    "series_tags=driver.find_elements(By.XPATH,'//h5[@class=\"match-tournament-name ng-binding\"]')\n",
    "for i in series_tags:\n",
    "    a=i.text\n",
    "    series.append(a)"
   ]
  },
  {
   "cell_type": "code",
   "execution_count": 115,
   "id": "3638a9dc",
   "metadata": {},
   "outputs": [
    {
     "data": {
      "text/plain": [
       "['ICC Mens T20 World Cup 2024',\n",
       " 'ICC Mens T20 World Cup 2024',\n",
       " 'South Africa Women Tour Of India Warm Up Match 2024',\n",
       " 'ICC Mens T20 World Cup 2024',\n",
       " 'South Africa Women Tour Of India Odi Series 2024']"
      ]
     },
     "execution_count": 115,
     "metadata": {},
     "output_type": "execute_result"
    }
   ],
   "source": [
    "series"
   ]
  },
  {
   "cell_type": "code",
   "execution_count": 116,
   "id": "cb9d2144",
   "metadata": {},
   "outputs": [],
   "source": [
    "#scrapping place\n",
    "place=[]\n",
    "place_tags=driver.find_elements(By.XPATH,'//span[@class=\"ng-binding ng-scope\"]')\n",
    "for i in place_tags:\n",
    "    b=i.text\n",
    "    place.append(b)"
   ]
  },
  {
   "cell_type": "code",
   "execution_count": 117,
   "id": "9817f205",
   "metadata": {},
   "outputs": [
    {
     "data": {
      "text/plain": [
       "['Nassau County International Cricket Stadium,',\n",
       " 'Nassau County International Cricket Stadium,',\n",
       " 'M Chinnaswamy Stadium,',\n",
       " 'Central Broward Park & Broward County Stadium, Lauderhill,',\n",
       " 'M Chinnaswamy Stadium,']"
      ]
     },
     "execution_count": 117,
     "metadata": {},
     "output_type": "execute_result"
    }
   ],
   "source": [
    "place"
   ]
  },
  {
   "cell_type": "code",
   "execution_count": 118,
   "id": "e4e3200f",
   "metadata": {},
   "outputs": [],
   "source": [
    "#scrapping dates\n",
    "dates=[]\n",
    "date_tags=driver.find_elements(By.XPATH,'//div[@class=\"match-dates ng-binding\"]')\n",
    "for i in date_tags:\n",
    "    c=i.text\n",
    "    dates.append(c)"
   ]
  },
  {
   "cell_type": "code",
   "execution_count": 119,
   "id": "cf15dffc",
   "metadata": {},
   "outputs": [
    {
     "data": {
      "text/plain": [
       "['9 Jun', '12 Jun', '13 Jun', '15 Jun', '16 Jun']"
      ]
     },
     "execution_count": 119,
     "metadata": {},
     "output_type": "execute_result"
    }
   ],
   "source": [
    "dates"
   ]
  },
  {
   "cell_type": "code",
   "execution_count": 120,
   "id": "30ada556",
   "metadata": {},
   "outputs": [],
   "source": [
    "#scrapping time\n",
    "time=[]\n",
    "time_tags=driver.find_elements(By.XPATH,'//div[@class=\"match-time no-margin ng-binding\"]')\n",
    "for i in time_tags:\n",
    "    d=i.text\n",
    "    time.append(d)"
   ]
  },
  {
   "cell_type": "code",
   "execution_count": 121,
   "id": "7edef327",
   "metadata": {},
   "outputs": [
    {
     "data": {
      "text/plain": [
       "['20:00 IST', '20:00 IST', '13:30 IST', '20:00 IST', '13:30 IST']"
      ]
     },
     "execution_count": 121,
     "metadata": {},
     "output_type": "execute_result"
    }
   ],
   "source": [
    "time"
   ]
  },
  {
   "cell_type": "code",
   "execution_count": 124,
   "id": "0373f678",
   "metadata": {},
   "outputs": [],
   "source": [
    "#making dictionary\n",
    "fixture_dict={'Series':series,'Place':place,'Date':dates,'Time':time}"
   ]
  },
  {
   "cell_type": "code",
   "execution_count": 125,
   "id": "fa77f31c",
   "metadata": {},
   "outputs": [],
   "source": [
    "#converting dict into dataframe\n",
    "DF_2=pd.DataFrame.from_dict(fixture_dict)"
   ]
  },
  {
   "cell_type": "code",
   "execution_count": 126,
   "id": "c4a15b3c",
   "metadata": {},
   "outputs": [
    {
     "data": {
      "text/html": [
       "<div>\n",
       "<style scoped>\n",
       "    .dataframe tbody tr th:only-of-type {\n",
       "        vertical-align: middle;\n",
       "    }\n",
       "\n",
       "    .dataframe tbody tr th {\n",
       "        vertical-align: top;\n",
       "    }\n",
       "\n",
       "    .dataframe thead th {\n",
       "        text-align: right;\n",
       "    }\n",
       "</style>\n",
       "<table border=\"1\" class=\"dataframe\">\n",
       "  <thead>\n",
       "    <tr style=\"text-align: right;\">\n",
       "      <th></th>\n",
       "      <th>Series</th>\n",
       "      <th>Place</th>\n",
       "      <th>Date</th>\n",
       "      <th>Time</th>\n",
       "    </tr>\n",
       "  </thead>\n",
       "  <tbody>\n",
       "    <tr>\n",
       "      <th>0</th>\n",
       "      <td>ICC Mens T20 World Cup 2024</td>\n",
       "      <td>Nassau County International Cricket Stadium,</td>\n",
       "      <td>9 Jun</td>\n",
       "      <td>20:00 IST</td>\n",
       "    </tr>\n",
       "    <tr>\n",
       "      <th>1</th>\n",
       "      <td>ICC Mens T20 World Cup 2024</td>\n",
       "      <td>Nassau County International Cricket Stadium,</td>\n",
       "      <td>12 Jun</td>\n",
       "      <td>20:00 IST</td>\n",
       "    </tr>\n",
       "    <tr>\n",
       "      <th>2</th>\n",
       "      <td>South Africa Women Tour Of India Warm Up Match...</td>\n",
       "      <td>M Chinnaswamy Stadium,</td>\n",
       "      <td>13 Jun</td>\n",
       "      <td>13:30 IST</td>\n",
       "    </tr>\n",
       "    <tr>\n",
       "      <th>3</th>\n",
       "      <td>ICC Mens T20 World Cup 2024</td>\n",
       "      <td>Central Broward Park &amp; Broward County Stadium,...</td>\n",
       "      <td>15 Jun</td>\n",
       "      <td>20:00 IST</td>\n",
       "    </tr>\n",
       "    <tr>\n",
       "      <th>4</th>\n",
       "      <td>South Africa Women Tour Of India Odi Series 2024</td>\n",
       "      <td>M Chinnaswamy Stadium,</td>\n",
       "      <td>16 Jun</td>\n",
       "      <td>13:30 IST</td>\n",
       "    </tr>\n",
       "  </tbody>\n",
       "</table>\n",
       "</div>"
      ],
      "text/plain": [
       "                                              Series  \\\n",
       "0                        ICC Mens T20 World Cup 2024   \n",
       "1                        ICC Mens T20 World Cup 2024   \n",
       "2  South Africa Women Tour Of India Warm Up Match...   \n",
       "3                        ICC Mens T20 World Cup 2024   \n",
       "4   South Africa Women Tour Of India Odi Series 2024   \n",
       "\n",
       "                                               Place    Date       Time  \n",
       "0       Nassau County International Cricket Stadium,   9 Jun  20:00 IST  \n",
       "1       Nassau County International Cricket Stadium,  12 Jun  20:00 IST  \n",
       "2                             M Chinnaswamy Stadium,  13 Jun  13:30 IST  \n",
       "3  Central Broward Park & Broward County Stadium,...  15 Jun  20:00 IST  \n",
       "4                             M Chinnaswamy Stadium,  16 Jun  13:30 IST  "
      ]
     },
     "execution_count": 126,
     "metadata": {},
     "output_type": "execute_result"
    }
   ],
   "source": [
    "#printing the dataframe\n",
    "DF_2"
   ]
  },
  {
   "cell_type": "code",
   "execution_count": 127,
   "id": "b9fd6805",
   "metadata": {},
   "outputs": [],
   "source": [
    "#closing the webpage\n",
    "driver.quit()"
   ]
  },
  {
   "cell_type": "markdown",
   "id": "285fb82d",
   "metadata": {},
   "source": [
    "3. Scrape the details of State-wise GDP of India from statisticstime.com.\n",
    "Url = http://statisticstimes.com/\n",
    "You have to find following details: A) Rank\n",
    "B) State\n",
    "C) GSDP(18-19)- at current prices\n",
    "D) GSDP(19-20)- at current prices\n",
    "E) Share(18-19)\n",
    "F) GDP($ billion)\n",
    "Note: - From statisticstimes home page you have to reach to economy page through code."
   ]
  },
  {
   "cell_type": "code",
   "execution_count": 146,
   "id": "5691daf6",
   "metadata": {},
   "outputs": [],
   "source": [
    "# Initializing the web page\n",
    "driver=webdriver.Chrome()\n",
    "driver.maximize_window()"
   ]
  },
  {
   "cell_type": "code",
   "execution_count": 147,
   "id": "1ec267b0",
   "metadata": {},
   "outputs": [],
   "source": [
    "#directing to the website\n",
    "driver.get(' http://statisticstimes.com/')"
   ]
  },
  {
   "cell_type": "code",
   "execution_count": 150,
   "id": "ac04a62c",
   "metadata": {},
   "outputs": [],
   "source": [
    "#clicking on the dropdown\n",
    "economy_dropdown=driver.find_element(By.XPATH,'/html/body/div[2]/div[1]/div[2]/div[2]/button')\n",
    "economy_dropdown.click()"
   ]
  },
  {
   "cell_type": "code",
   "execution_count": 151,
   "id": "6878d970",
   "metadata": {},
   "outputs": [],
   "source": [
    "#selecting the indian economy\n",
    "indian_economy=driver.find_element(By.XPATH,'/html/body/div[2]/div[1]/div[2]/div[2]/div/a[3]')\n",
    "indian_economy.click()"
   ]
  },
  {
   "cell_type": "code",
   "execution_count": 152,
   "id": "09c10d65",
   "metadata": {},
   "outputs": [],
   "source": [
    "#clicking on required gdp field\n",
    "gdp_ind_state=driver.find_element(By.XPATH,'/html/body/div[2]/div[2]/div[2]/ul/li[1]/a')\n",
    "gdp_ind_state.click()"
   ]
  },
  {
   "cell_type": "code",
   "execution_count": 139,
   "id": "f1940cd9",
   "metadata": {},
   "outputs": [],
   "source": [
    "#collecting the state data\n",
    "states=[]\n",
    "states_tags=driver.find_elements(By.XPATH,'//a[@class=\"ec\"]')\n",
    "for i in states_tags:\n",
    "    a=i.text\n",
    "    states.append(a)"
   ]
  },
  {
   "cell_type": "code",
   "execution_count": 141,
   "id": "ad538dcb",
   "metadata": {},
   "outputs": [],
   "source": [
    "states_1=states[20:]"
   ]
  },
  {
   "cell_type": "code",
   "execution_count": 142,
   "id": "d0ace5ad",
   "metadata": {},
   "outputs": [
    {
     "data": {
      "text/plain": [
       "['» Economy of A & N Islands',\n",
       " '» Economy of Andhra Pradesh',\n",
       " '» Economy of Arunachal Pradesh',\n",
       " '» Economy of Assam',\n",
       " '» Economy of Bihar',\n",
       " '» Economy of Chandigarh',\n",
       " '» Economy of Chhattisgarh',\n",
       " '» Economy of Delhi',\n",
       " '» Economy of Goa',\n",
       " '» Economy of Gujarat',\n",
       " '» Economy of Haryana',\n",
       " '» Economy of Himachal Pradesh',\n",
       " '» Economy of Jammu & Kashmir',\n",
       " '» Economy of Jharkhand',\n",
       " '» Economy of Karnataka',\n",
       " '» Economy of Kerala',\n",
       " '» Economy of Madhya Pradesh',\n",
       " '» Economy of Maharashtra',\n",
       " '» Economy of Manipur',\n",
       " '» Economy of Meghalaya',\n",
       " '» Economy of Mizoram',\n",
       " '» Economy of Nagaland',\n",
       " '» Economy of Odisha',\n",
       " '» Economy of Puducherry',\n",
       " '» Economy of Punjab',\n",
       " '» Economy of Rajasthan',\n",
       " '» Economy of Sikkim',\n",
       " '» Economy of Tamil Nadu',\n",
       " '» Economy of Telangana',\n",
       " '» Economy of Tripura',\n",
       " '» Economy of Uttar Pradesh',\n",
       " '» Economy of Uttarakhand',\n",
       " '» Economy of West Bengal']"
      ]
     },
     "execution_count": 142,
     "metadata": {},
     "output_type": "execute_result"
    }
   ],
   "source": [
    "states_1"
   ]
  },
  {
   "cell_type": "code",
   "execution_count": 143,
   "id": "f5b15e1f",
   "metadata": {},
   "outputs": [],
   "source": [
    "# updating the appeariance of the alphabetical order wise state data\n",
    "indian_states=[]\n",
    "match_pattern=re.compile(r'Economy of ([^,]+)')\n",
    "for i in states_1:\n",
    "    b=match_pattern.findall(i)\n",
    "    indian_states.extend(b)\n",
    "    "
   ]
  },
  {
   "cell_type": "code",
   "execution_count": 144,
   "id": "5d1850b1",
   "metadata": {},
   "outputs": [
    {
     "data": {
      "text/plain": [
       "['A & N Islands',\n",
       " 'Andhra Pradesh',\n",
       " 'Arunachal Pradesh',\n",
       " 'Assam',\n",
       " 'Bihar',\n",
       " 'Chandigarh',\n",
       " 'Chhattisgarh',\n",
       " 'Delhi',\n",
       " 'Goa',\n",
       " 'Gujarat',\n",
       " 'Haryana',\n",
       " 'Himachal Pradesh',\n",
       " 'Jammu & Kashmir',\n",
       " 'Jharkhand',\n",
       " 'Karnataka',\n",
       " 'Kerala',\n",
       " 'Madhya Pradesh',\n",
       " 'Maharashtra',\n",
       " 'Manipur',\n",
       " 'Meghalaya',\n",
       " 'Mizoram',\n",
       " 'Nagaland',\n",
       " 'Odisha',\n",
       " 'Puducherry',\n",
       " 'Punjab',\n",
       " 'Rajasthan',\n",
       " 'Sikkim',\n",
       " 'Tamil Nadu',\n",
       " 'Telangana',\n",
       " 'Tripura',\n",
       " 'Uttar Pradesh',\n",
       " 'Uttarakhand',\n",
       " 'West Bengal']"
      ]
     },
     "execution_count": 144,
     "metadata": {},
     "output_type": "execute_result"
    }
   ],
   "source": [
    "indian_states"
   ]
  },
  {
   "cell_type": "code",
   "execution_count": 153,
   "id": "9f2a68fb",
   "metadata": {},
   "outputs": [],
   "source": [
    "#collecting the data of rank\n",
    "rank=[]\n",
    "rank_tags=driver.find_elements(By.XPATH,'//table[@class=\"display dataTable\"]/tbody/tr/td[1]')\n",
    "for i in rank_tags:\n",
    "    a=i.text\n",
    "    rank.append(a)"
   ]
  },
  {
   "cell_type": "code",
   "execution_count": 157,
   "id": "704c7dea",
   "metadata": {},
   "outputs": [],
   "source": [
    "rank=rank[:33]"
   ]
  },
  {
   "cell_type": "code",
   "execution_count": 159,
   "id": "647f147d",
   "metadata": {},
   "outputs": [],
   "source": [
    "#collecting the  rank wise state data\n",
    "states=[]\n",
    "state_tags=driver.find_elements(By.XPATH,'//table[@class=\"display dataTable\"]/tbody/tr/td[2]')\n",
    "for i in state_tags:\n",
    "    b=i.text\n",
    "    states.append(b)"
   ]
  },
  {
   "cell_type": "code",
   "execution_count": 162,
   "id": "5b6233d5",
   "metadata": {},
   "outputs": [],
   "source": [
    "states=states[:33]"
   ]
  },
  {
   "cell_type": "code",
   "execution_count": 163,
   "id": "b5306101",
   "metadata": {},
   "outputs": [
    {
     "data": {
      "text/plain": [
       "['Maharashtra',\n",
       " 'Tamil Nadu',\n",
       " 'Karnataka',\n",
       " 'Uttar Pradesh',\n",
       " 'Gujarat',\n",
       " 'West Bengal',\n",
       " 'Rajasthan',\n",
       " 'Andhra Pradesh',\n",
       " 'Telangana',\n",
       " 'Madhya Pradesh',\n",
       " 'Kerala',\n",
       " 'Delhi',\n",
       " 'Haryana',\n",
       " 'Odisha',\n",
       " 'Bihar',\n",
       " 'Punjab',\n",
       " 'Assam',\n",
       " 'Chhattisgarh',\n",
       " 'Jharkhand',\n",
       " 'Uttarakhand',\n",
       " 'Jammu & Kashmir',\n",
       " 'Himachal Pradesh',\n",
       " 'Goa',\n",
       " 'Tripura',\n",
       " 'Chandigarh',\n",
       " 'Puducherry',\n",
       " 'Meghalaya',\n",
       " 'Sikkim',\n",
       " 'Manipur',\n",
       " 'Arunachal Pradesh',\n",
       " 'Nagaland',\n",
       " 'Mizoram',\n",
       " 'Andaman & Nicobar Islands']"
      ]
     },
     "execution_count": 163,
     "metadata": {},
     "output_type": "execute_result"
    }
   ],
   "source": [
    "states"
   ]
  },
  {
   "cell_type": "code",
   "execution_count": 167,
   "id": "eef3de31",
   "metadata": {},
   "outputs": [],
   "source": [
    "#collecting the data of GDSP 23/24\n",
    "GSDP_1=[]\n",
    "GSDP_tags=driver.find_elements(By.XPATH,'//table[@class=\"display dataTable\"]/tbody/tr/td[3]')\n",
    "for i in GSDP_tags:\n",
    "    c=i.text\n",
    "    (GSDP_1).append(c)"
   ]
  },
  {
   "cell_type": "code",
   "execution_count": 169,
   "id": "cebea5d9",
   "metadata": {},
   "outputs": [],
   "source": [
    "GSDP_1=GSDP_1[:33]"
   ]
  },
  {
   "cell_type": "code",
   "execution_count": 170,
   "id": "5fced5be",
   "metadata": {},
   "outputs": [
    {
     "data": {
      "text/plain": [
       "['-',\n",
       " '2,700,109',\n",
       " '2,500,733',\n",
       " '2,547,861',\n",
       " '-',\n",
       " '1,700,939',\n",
       " '1,524,030',\n",
       " '1,439,674',\n",
       " '1,463,960',\n",
       " '1,363,327',\n",
       " '-',\n",
       " '1,107,746',\n",
       " '1,095,535',\n",
       " '832,790',\n",
       " '-',\n",
       " '736,423',\n",
       " '565,401',\n",
       " '505,887',\n",
       " '-',\n",
       " '346,206',\n",
       " '246,465',\n",
       " '207,430',\n",
       " '-',\n",
       " '-',\n",
       " '-',\n",
       " '-',\n",
       " '47,381',\n",
       " '-',\n",
       " '-',\n",
       " '-',\n",
       " '-',\n",
       " '-',\n",
       " '-']"
      ]
     },
     "execution_count": 170,
     "metadata": {},
     "output_type": "execute_result"
    }
   ],
   "source": [
    "GSDP_1"
   ]
  },
  {
   "cell_type": "code",
   "execution_count": 185,
   "id": "48fa5225",
   "metadata": {},
   "outputs": [],
   "source": [
    "#collecting the data for GSDP 22/23\n",
    "x=[]\n",
    "x_tags=driver.find_elements(By.XPATH,'//table[@class=\"display dataTable\"]/tbody/tr/td[4]')\n",
    "for i in x_tags:\n",
    "    f=i.text\n",
    "    x.append(f)"
   ]
  },
  {
   "cell_type": "code",
   "execution_count": 187,
   "id": "cd45aae7",
   "metadata": {},
   "outputs": [],
   "source": [
    "GSDP_2=x[:33]"
   ]
  },
  {
   "cell_type": "code",
   "execution_count": 189,
   "id": "4dd8ad72",
   "metadata": {},
   "outputs": [
    {
     "data": {
      "text/plain": [
       "['-',\n",
       " '2,364,514',\n",
       " '2,269,995',\n",
       " '2,258,040',\n",
       " '2,230,609',\n",
       " '1,531,758',\n",
       " '1,365,849',\n",
       " '1,303,524',\n",
       " '1,308,034',\n",
       " '1,246,471',\n",
       " '1,046,188',\n",
       " '1,014,688',\n",
       " '984,055',\n",
       " '753,177',\n",
       " '751,396',\n",
       " '676,164',\n",
       " '493,167',\n",
       " '464,399',\n",
       " '393,722',\n",
       " '303,781',\n",
       " '224,226',\n",
       " '191,728',\n",
       " '93,672',\n",
       " '72,636',\n",
       " '54,285',\n",
       " '49,643',\n",
       " '42,697',\n",
       " '42,756',\n",
       " '-',\n",
       " '39,630',\n",
       " '35,643',\n",
       " '-',\n",
       " '-']"
      ]
     },
     "execution_count": 189,
     "metadata": {},
     "output_type": "execute_result"
    }
   ],
   "source": [
    "GSDP_2"
   ]
  },
  {
   "cell_type": "code",
   "execution_count": 190,
   "id": "7c96efcf",
   "metadata": {},
   "outputs": [],
   "source": [
    "#collecting the data for total share\n",
    "share=[]\n",
    "share_tags=driver.find_elements(By.XPATH,'//table[@class=\"display dataTable\"]/tbody/tr/td[6]')\n",
    "for i in share_tags:\n",
    "    g=i.text\n",
    "    share.append(g)"
   ]
  },
  {
   "cell_type": "code",
   "execution_count": 192,
   "id": "55dd45de",
   "metadata": {},
   "outputs": [],
   "source": [
    "share=share[:33]"
   ]
  },
  {
   "cell_type": "code",
   "execution_count": 193,
   "id": "1b8a52a6",
   "metadata": {},
   "outputs": [],
   "source": [
    "#collecting the data for gdp\n",
    "gdp=[]\n",
    "gdp_tags=driver.find_elements(By.XPATH,'//table[@class=\"display dataTable\"]/tbody/tr/td[7]')\n",
    "for i in gdp_tags:\n",
    "    o=i.text\n",
    "    gdp.append(o)"
   ]
  },
  {
   "cell_type": "code",
   "execution_count": 196,
   "id": "70acdaa1",
   "metadata": {},
   "outputs": [],
   "source": [
    "gdp=gdp[:33]"
   ]
  },
  {
   "cell_type": "code",
   "execution_count": 198,
   "id": "cbd1325a",
   "metadata": {},
   "outputs": [
    {
     "data": {
      "text/plain": [
       "33"
      ]
     },
     "execution_count": 198,
     "metadata": {},
     "output_type": "execute_result"
    }
   ],
   "source": [
    "len(gdp)"
   ]
  },
  {
   "cell_type": "code",
   "execution_count": 202,
   "id": "e8d179dc",
   "metadata": {},
   "outputs": [],
   "source": [
    "economy_dict={'Rank':rank,'STATE':states,'GSDP_23/24':GSDP_1,'GSDP_22/24':GSDP_2,'SHARE':share,'GDP_Billion_doller':gdp}"
   ]
  },
  {
   "cell_type": "code",
   "execution_count": 203,
   "id": "dbf322b0",
   "metadata": {},
   "outputs": [],
   "source": [
    "DF_3=pd.DataFrame.from_dict(economy_dict)"
   ]
  },
  {
   "cell_type": "code",
   "execution_count": 205,
   "id": "6c82679b",
   "metadata": {},
   "outputs": [
    {
     "data": {
      "text/html": [
       "<div>\n",
       "<style scoped>\n",
       "    .dataframe tbody tr th:only-of-type {\n",
       "        vertical-align: middle;\n",
       "    }\n",
       "\n",
       "    .dataframe tbody tr th {\n",
       "        vertical-align: top;\n",
       "    }\n",
       "\n",
       "    .dataframe thead th {\n",
       "        text-align: right;\n",
       "    }\n",
       "</style>\n",
       "<table border=\"1\" class=\"dataframe\">\n",
       "  <thead>\n",
       "    <tr style=\"text-align: right;\">\n",
       "      <th></th>\n",
       "      <th>Rank</th>\n",
       "      <th>STATE</th>\n",
       "      <th>GSDP_23/24</th>\n",
       "      <th>GSDP_22/24</th>\n",
       "      <th>SHARE</th>\n",
       "      <th>GDP_Billion_doller</th>\n",
       "    </tr>\n",
       "  </thead>\n",
       "  <tbody>\n",
       "    <tr>\n",
       "      <th>0</th>\n",
       "      <td>1</td>\n",
       "      <td>Maharashtra</td>\n",
       "      <td>-</td>\n",
       "      <td>-</td>\n",
       "      <td>13.17%</td>\n",
       "      <td>414.928</td>\n",
       "    </tr>\n",
       "    <tr>\n",
       "      <th>1</th>\n",
       "      <td>2</td>\n",
       "      <td>Tamil Nadu</td>\n",
       "      <td>2,700,109</td>\n",
       "      <td>2,364,514</td>\n",
       "      <td>8.78%</td>\n",
       "      <td>276.522</td>\n",
       "    </tr>\n",
       "    <tr>\n",
       "      <th>2</th>\n",
       "      <td>3</td>\n",
       "      <td>Karnataka</td>\n",
       "      <td>2,500,733</td>\n",
       "      <td>2,269,995</td>\n",
       "      <td>8.38%</td>\n",
       "      <td>264.080</td>\n",
       "    </tr>\n",
       "    <tr>\n",
       "      <th>3</th>\n",
       "      <td>4</td>\n",
       "      <td>Uttar Pradesh</td>\n",
       "      <td>2,547,861</td>\n",
       "      <td>2,258,040</td>\n",
       "      <td>8.37%</td>\n",
       "      <td>263.747</td>\n",
       "    </tr>\n",
       "    <tr>\n",
       "      <th>4</th>\n",
       "      <td>5</td>\n",
       "      <td>Gujarat</td>\n",
       "      <td>-</td>\n",
       "      <td>2,230,609</td>\n",
       "      <td>8.17%</td>\n",
       "      <td>257.484</td>\n",
       "    </tr>\n",
       "    <tr>\n",
       "      <th>5</th>\n",
       "      <td>6</td>\n",
       "      <td>West Bengal</td>\n",
       "      <td>1,700,939</td>\n",
       "      <td>1,531,758</td>\n",
       "      <td>5.63%</td>\n",
       "      <td>177.456</td>\n",
       "    </tr>\n",
       "    <tr>\n",
       "      <th>6</th>\n",
       "      <td>7</td>\n",
       "      <td>Rajasthan</td>\n",
       "      <td>1,524,030</td>\n",
       "      <td>1,365,849</td>\n",
       "      <td>5.06%</td>\n",
       "      <td>159.334</td>\n",
       "    </tr>\n",
       "    <tr>\n",
       "      <th>7</th>\n",
       "      <td>8</td>\n",
       "      <td>Andhra Pradesh</td>\n",
       "      <td>1,439,674</td>\n",
       "      <td>1,303,524</td>\n",
       "      <td>4.87%</td>\n",
       "      <td>153.324</td>\n",
       "    </tr>\n",
       "    <tr>\n",
       "      <th>8</th>\n",
       "      <td>9</td>\n",
       "      <td>Telangana</td>\n",
       "      <td>1,463,960</td>\n",
       "      <td>1,308,034</td>\n",
       "      <td>4.76%</td>\n",
       "      <td>150.084</td>\n",
       "    </tr>\n",
       "    <tr>\n",
       "      <th>9</th>\n",
       "      <td>10</td>\n",
       "      <td>Madhya Pradesh</td>\n",
       "      <td>1,363,327</td>\n",
       "      <td>1,246,471</td>\n",
       "      <td>4.63%</td>\n",
       "      <td>145.913</td>\n",
       "    </tr>\n",
       "  </tbody>\n",
       "</table>\n",
       "</div>"
      ],
      "text/plain": [
       "  Rank           STATE GSDP_23/24 GSDP_22/24   SHARE GDP_Billion_doller\n",
       "0    1     Maharashtra          -          -  13.17%            414.928\n",
       "1    2      Tamil Nadu  2,700,109  2,364,514   8.78%            276.522\n",
       "2    3       Karnataka  2,500,733  2,269,995   8.38%            264.080\n",
       "3    4   Uttar Pradesh  2,547,861  2,258,040   8.37%            263.747\n",
       "4    5         Gujarat          -  2,230,609   8.17%            257.484\n",
       "5    6     West Bengal  1,700,939  1,531,758   5.63%            177.456\n",
       "6    7       Rajasthan  1,524,030  1,365,849   5.06%            159.334\n",
       "7    8  Andhra Pradesh  1,439,674  1,303,524   4.87%            153.324\n",
       "8    9       Telangana  1,463,960  1,308,034   4.76%            150.084\n",
       "9   10  Madhya Pradesh  1,363,327  1,246,471   4.63%            145.913"
      ]
     },
     "execution_count": 205,
     "metadata": {},
     "output_type": "execute_result"
    }
   ],
   "source": [
    "#printing the first 10 attributes of dataset\n",
    "DF_3.head(10)"
   ]
  },
  {
   "cell_type": "code",
   "execution_count": 206,
   "id": "44aef65e",
   "metadata": {},
   "outputs": [],
   "source": [
    "#closing the browser\n",
    "driver.quit()"
   ]
  },
  {
   "cell_type": "markdown",
   "id": "29589996",
   "metadata": {},
   "source": [
    "4. Scrape the details of trending repositories on Github.com.\n",
    "Url = https://github.com/\n",
    "You have to find the following details:\n",
    "A) Repository title\n",
    "B) Repository description\n",
    "C) Contributors count\n",
    "D) Language used"
   ]
  },
  {
   "cell_type": "code",
   "execution_count": 207,
   "id": "286689a6",
   "metadata": {},
   "outputs": [],
   "source": [
    "#Initializing the driver\n",
    "driver=webdriver.Chrome()\n",
    "driver.maximize_window()"
   ]
  },
  {
   "cell_type": "code",
   "execution_count": 209,
   "id": "8a2bc106",
   "metadata": {},
   "outputs": [],
   "source": [
    "#directing to the link\n",
    "driver.get(' https://github.com/ ')"
   ]
  },
  {
   "cell_type": "code",
   "execution_count": 221,
   "id": "c4ff8886",
   "metadata": {},
   "outputs": [],
   "source": [
    "#collecting the data for repository\n",
    "repository_title=[]\n",
    "repository_tags=driver.find_elements(By.XPATH,'//a[@class=\"Link\"]')\n",
    "for i in repository_tags:\n",
    "    a=i.text\n",
    "    repository_title.append(a)\n"
   ]
  },
  {
   "cell_type": "code",
   "execution_count": 223,
   "id": "229e1c02",
   "metadata": {},
   "outputs": [
    {
     "data": {
      "text/plain": [
       "18"
      ]
     },
     "execution_count": 223,
     "metadata": {},
     "output_type": "execute_result"
    }
   ],
   "source": [
    "len(repository_title)"
   ]
  },
  {
   "cell_type": "code",
   "execution_count": 224,
   "id": "88bb27bc",
   "metadata": {},
   "outputs": [],
   "source": [
    "#collecting the data for description\n",
    "description=[]\n",
    "desc_tags=driver.find_elements(By.XPATH,'//p[@class=\"col-9 color-fg-muted my-1 pr-4\"]')\n",
    "for i in desc_tags:\n",
    "    b=i.text\n",
    "    description.append(b)"
   ]
  },
  {
   "cell_type": "code",
   "execution_count": 226,
   "id": "f3b00683",
   "metadata": {},
   "outputs": [
    {
     "data": {
      "text/plain": [
       "18"
      ]
     },
     "execution_count": 226,
     "metadata": {},
     "output_type": "execute_result"
    }
   ],
   "source": [
    "len(description)"
   ]
  },
  {
   "cell_type": "code",
   "execution_count": 227,
   "id": "9007e871",
   "metadata": {},
   "outputs": [],
   "source": [
    "#collecting the data for languages\n",
    "language=[]\n",
    "language_tags=driver.find_elements(By.XPATH,'//span[@class=\"d-inline-block ml-0 mr-3\"]')\n",
    "for i in language_tags:\n",
    "    c=i.text\n",
    "    language.append(c)"
   ]
  },
  {
   "cell_type": "code",
   "execution_count": 229,
   "id": "43a630a1",
   "metadata": {},
   "outputs": [
    {
     "data": {
      "text/plain": [
       "17"
      ]
     },
     "execution_count": 229,
     "metadata": {},
     "output_type": "execute_result"
    }
   ],
   "source": [
    "len(language)"
   ]
  },
  {
   "cell_type": "code",
   "execution_count": 244,
   "id": "67e7fb9b",
   "metadata": {},
   "outputs": [],
   "source": [
    "# since the language in one of the row is missing, so we are calculating the mode of the language column so that we can fill the data with mode value\n",
    "lang=[]\n",
    "mode=[]\n",
    "\n",
    "for i in language:\n",
    "    count=0\n",
    "    for j in language:\n",
    "        if j==i:\n",
    "            count=count+1\n",
    "        else:\n",
    "            pass\n",
    "    mode.append(count)\n",
    "    lang.append(i)\n",
    "    \n",
    "    "
   ]
  },
  {
   "cell_type": "code",
   "execution_count": 245,
   "id": "871e6a59",
   "metadata": {},
   "outputs": [
    {
     "name": "stdout",
     "output_type": "stream",
     "text": [
      "['PHP', 'TypeScript', 'Lua', 'Dart', 'C', 'Swift', 'Cuda', 'Go', 'C', 'Go', 'JavaScript', 'Svelte', 'Python', 'Java', 'TypeScript', 'Haxe', 'C++']\n",
      "[1, 2, 1, 1, 2, 1, 1, 2, 2, 2, 1, 1, 1, 1, 2, 1, 1]\n"
     ]
    }
   ],
   "source": [
    "# here we are printin the number of times each value of language column is repeating and we found that the Typescript is repeating several time so we can fill the empty data with TypeScript at that position\n",
    "mode_language={}\n",
    "print(lang)\n",
    "print(mode)"
   ]
  },
  {
   "cell_type": "code",
   "execution_count": 246,
   "id": "910deb29",
   "metadata": {},
   "outputs": [],
   "source": [
    "# updating the language at the 13 index position\n",
    "language.insert(13,'TypeScript')"
   ]
  },
  {
   "cell_type": "code",
   "execution_count": 247,
   "id": "f9a24b68",
   "metadata": {},
   "outputs": [
    {
     "data": {
      "text/plain": [
       "18"
      ]
     },
     "execution_count": 247,
     "metadata": {},
     "output_type": "execute_result"
    }
   ],
   "source": [
    "len(language)"
   ]
  },
  {
   "cell_type": "code",
   "execution_count": 236,
   "id": "91e4273d",
   "metadata": {},
   "outputs": [],
   "source": [
    "#contributers data collection\n",
    "contributers_count=[]\n",
    "c_count=driver.find_elements(By.XPATH,'//a[@class=\"Link Link--muted d-inline-block mr-3\"]')\n",
    "for i in c_count:\n",
    "    d=i.text\n",
    "    contributers_count.append(d)"
   ]
  },
  {
   "cell_type": "code",
   "execution_count": 239,
   "id": "eaf018aa",
   "metadata": {},
   "outputs": [],
   "source": [
    "contributers_count=contributers_count[1::2]"
   ]
  },
  {
   "cell_type": "code",
   "execution_count": 248,
   "id": "4483938c",
   "metadata": {},
   "outputs": [],
   "source": [
    "github_dict={'Repository Title':repository_title,'Repository Description':description,'Contributers count':contributers_count,'Language used':language}"
   ]
  },
  {
   "cell_type": "code",
   "execution_count": 249,
   "id": "5bf83184",
   "metadata": {},
   "outputs": [],
   "source": [
    "DF_4=pd.DataFrame(github_dict)"
   ]
  },
  {
   "cell_type": "code",
   "execution_count": 250,
   "id": "b3c71145",
   "metadata": {},
   "outputs": [
    {
     "data": {
      "text/html": [
       "<div>\n",
       "<style scoped>\n",
       "    .dataframe tbody tr th:only-of-type {\n",
       "        vertical-align: middle;\n",
       "    }\n",
       "\n",
       "    .dataframe tbody tr th {\n",
       "        vertical-align: top;\n",
       "    }\n",
       "\n",
       "    .dataframe thead th {\n",
       "        text-align: right;\n",
       "    }\n",
       "</style>\n",
       "<table border=\"1\" class=\"dataframe\">\n",
       "  <thead>\n",
       "    <tr style=\"text-align: right;\">\n",
       "      <th></th>\n",
       "      <th>Repository Title</th>\n",
       "      <th>Repository Description</th>\n",
       "      <th>Contributers count</th>\n",
       "      <th>Language used</th>\n",
       "    </tr>\n",
       "  </thead>\n",
       "  <tbody>\n",
       "    <tr>\n",
       "      <th>0</th>\n",
       "      <td>coollabsio / coolify</td>\n",
       "      <td>An open-source &amp; self-hostable Heroku / Netlif...</td>\n",
       "      <td>1,025</td>\n",
       "      <td>PHP</td>\n",
       "    </tr>\n",
       "    <tr>\n",
       "      <th>1</th>\n",
       "      <td>idootop / mi-gpt</td>\n",
       "      <td>🏠 将小爱音箱接入 ChatGPT 和豆包，改造成你的专属语音助手。</td>\n",
       "      <td>226</td>\n",
       "      <td>TypeScript</td>\n",
       "    </tr>\n",
       "    <tr>\n",
       "      <th>2</th>\n",
       "      <td>LazyVim / LazyVim</td>\n",
       "      <td>Neovim config for the lazy</td>\n",
       "      <td>949</td>\n",
       "      <td>Lua</td>\n",
       "    </tr>\n",
       "    <tr>\n",
       "      <th>3</th>\n",
       "      <td>hiddify / hiddify-next</td>\n",
       "      <td>Multi-platform auto-proxy client, supporting S...</td>\n",
       "      <td>1,044</td>\n",
       "      <td>Dart</td>\n",
       "    </tr>\n",
       "    <tr>\n",
       "      <th>4</th>\n",
       "      <td>ventoy / Ventoy</td>\n",
       "      <td>A new bootable USB solution.</td>\n",
       "      <td>3,901</td>\n",
       "      <td>C</td>\n",
       "    </tr>\n",
       "    <tr>\n",
       "      <th>5</th>\n",
       "      <td>jordanbaird / Ice</td>\n",
       "      <td>Powerful menu bar manager for macOS</td>\n",
       "      <td>162</td>\n",
       "      <td>Swift</td>\n",
       "    </tr>\n",
       "    <tr>\n",
       "      <th>6</th>\n",
       "      <td>nerfstudio-project / gsplat</td>\n",
       "      <td>CUDA accelerated rasterization of gaussian spl...</td>\n",
       "      <td>101</td>\n",
       "      <td>Cuda</td>\n",
       "    </tr>\n",
       "    <tr>\n",
       "      <th>7</th>\n",
       "      <td>JanDeDobbeleer / oh-my-posh</td>\n",
       "      <td>The most customisable and low-latency cross pl...</td>\n",
       "      <td>2,246</td>\n",
       "      <td>Go</td>\n",
       "    </tr>\n",
       "    <tr>\n",
       "      <th>8</th>\n",
       "      <td>libretro / RetroArch</td>\n",
       "      <td>Cross-platform, sophisticated frontend for the...</td>\n",
       "      <td>1,756</td>\n",
       "      <td>C</td>\n",
       "    </tr>\n",
       "    <tr>\n",
       "      <th>9</th>\n",
       "      <td>alist-org / alist</td>\n",
       "      <td>🗂️A file list/WebDAV program that supports mul...</td>\n",
       "      <td>5,005</td>\n",
       "      <td>Go</td>\n",
       "    </tr>\n",
       "    <tr>\n",
       "      <th>10</th>\n",
       "      <td>xenova / transformers.js</td>\n",
       "      <td>State-of-the-art Machine Learning for the web....</td>\n",
       "      <td>464</td>\n",
       "      <td>JavaScript</td>\n",
       "    </tr>\n",
       "    <tr>\n",
       "      <th>11</th>\n",
       "      <td>hcengineering / platform</td>\n",
       "      <td>Huly — All-in-One Project Management Platform ...</td>\n",
       "      <td>369</td>\n",
       "      <td>Svelte</td>\n",
       "    </tr>\n",
       "    <tr>\n",
       "      <th>12</th>\n",
       "      <td>blakeblackshear / frigate</td>\n",
       "      <td>NVR with realtime local object detection for I...</td>\n",
       "      <td>1,446</td>\n",
       "      <td>Python</td>\n",
       "    </tr>\n",
       "    <tr>\n",
       "      <th>13</th>\n",
       "      <td>KenneyNL / Adobe-Alternatives</td>\n",
       "      <td>A list of alternatives for Adobe software</td>\n",
       "      <td>136</td>\n",
       "      <td>TypeScript</td>\n",
       "    </tr>\n",
       "    <tr>\n",
       "      <th>14</th>\n",
       "      <td>termux / termux-app</td>\n",
       "      <td>Termux - a terminal emulator application for A...</td>\n",
       "      <td>3,404</td>\n",
       "      <td>Java</td>\n",
       "    </tr>\n",
       "    <tr>\n",
       "      <th>15</th>\n",
       "      <td>jackyzha0 / quartz</td>\n",
       "      <td>🌱 a fast, batteries-included static-site gener...</td>\n",
       "      <td>2,328</td>\n",
       "      <td>TypeScript</td>\n",
       "    </tr>\n",
       "    <tr>\n",
       "      <th>16</th>\n",
       "      <td>FunkinCrew / Funkin</td>\n",
       "      <td>A rhythm game made with HaxeFlixel</td>\n",
       "      <td>2,202</td>\n",
       "      <td>Haxe</td>\n",
       "    </tr>\n",
       "    <tr>\n",
       "      <th>17</th>\n",
       "      <td>MaaAssistantArknights / MaaAssistantArknights</td>\n",
       "      <td>《明日方舟》小助手，全日常一键长草！| A one-click tool for the d...</td>\n",
       "      <td>1,627</td>\n",
       "      <td>C++</td>\n",
       "    </tr>\n",
       "  </tbody>\n",
       "</table>\n",
       "</div>"
      ],
      "text/plain": [
       "                                 Repository Title  \\\n",
       "0                            coollabsio / coolify   \n",
       "1                                idootop / mi-gpt   \n",
       "2                               LazyVim / LazyVim   \n",
       "3                          hiddify / hiddify-next   \n",
       "4                                 ventoy / Ventoy   \n",
       "5                               jordanbaird / Ice   \n",
       "6                     nerfstudio-project / gsplat   \n",
       "7                     JanDeDobbeleer / oh-my-posh   \n",
       "8                            libretro / RetroArch   \n",
       "9                               alist-org / alist   \n",
       "10                       xenova / transformers.js   \n",
       "11                       hcengineering / platform   \n",
       "12                      blakeblackshear / frigate   \n",
       "13                  KenneyNL / Adobe-Alternatives   \n",
       "14                            termux / termux-app   \n",
       "15                             jackyzha0 / quartz   \n",
       "16                            FunkinCrew / Funkin   \n",
       "17  MaaAssistantArknights / MaaAssistantArknights   \n",
       "\n",
       "                               Repository Description Contributers count  \\\n",
       "0   An open-source & self-hostable Heroku / Netlif...              1,025   \n",
       "1                  🏠 将小爱音箱接入 ChatGPT 和豆包，改造成你的专属语音助手。                226   \n",
       "2                          Neovim config for the lazy                949   \n",
       "3   Multi-platform auto-proxy client, supporting S...              1,044   \n",
       "4                        A new bootable USB solution.              3,901   \n",
       "5                 Powerful menu bar manager for macOS                162   \n",
       "6   CUDA accelerated rasterization of gaussian spl...                101   \n",
       "7   The most customisable and low-latency cross pl...              2,246   \n",
       "8   Cross-platform, sophisticated frontend for the...              1,756   \n",
       "9   🗂️A file list/WebDAV program that supports mul...              5,005   \n",
       "10  State-of-the-art Machine Learning for the web....                464   \n",
       "11  Huly — All-in-One Project Management Platform ...                369   \n",
       "12  NVR with realtime local object detection for I...              1,446   \n",
       "13          A list of alternatives for Adobe software                136   \n",
       "14  Termux - a terminal emulator application for A...              3,404   \n",
       "15  🌱 a fast, batteries-included static-site gener...              2,328   \n",
       "16                 A rhythm game made with HaxeFlixel              2,202   \n",
       "17  《明日方舟》小助手，全日常一键长草！| A one-click tool for the d...              1,627   \n",
       "\n",
       "   Language used  \n",
       "0            PHP  \n",
       "1     TypeScript  \n",
       "2            Lua  \n",
       "3           Dart  \n",
       "4              C  \n",
       "5          Swift  \n",
       "6           Cuda  \n",
       "7             Go  \n",
       "8              C  \n",
       "9             Go  \n",
       "10    JavaScript  \n",
       "11        Svelte  \n",
       "12        Python  \n",
       "13    TypeScript  \n",
       "14          Java  \n",
       "15    TypeScript  \n",
       "16          Haxe  \n",
       "17           C++  "
      ]
     },
     "execution_count": 250,
     "metadata": {},
     "output_type": "execute_result"
    }
   ],
   "source": [
    "#printing the required dataframe\n",
    "DF_4"
   ]
  },
  {
   "cell_type": "markdown",
   "id": "66a50516",
   "metadata": {},
   "source": [
    "Scrape the details of top 100 songs on billiboard.com. Url = https://www.billboard.com/ You have to find the following details:\n",
    "A) Song name\n",
    "B) Artist name\n",
    "C) Last week rank\n",
    "D) Peak rank\n",
    "E) Weeks on board\n",
    "\n",
    "Note: - From the home page you have to click on the charts option then hot 100-page link through code"
   ]
  },
  {
   "cell_type": "code",
   "execution_count": 3,
   "id": "4d9bc18a",
   "metadata": {},
   "outputs": [],
   "source": [
    "#Initializing the web browser \n",
    "driver=webdriver.Chrome()\n",
    "driver.maximize_window()"
   ]
  },
  {
   "cell_type": "code",
   "execution_count": 4,
   "id": "c4a134bd",
   "metadata": {},
   "outputs": [],
   "source": [
    "#directing to the link\n",
    "driver.get(' https://www.billboard.com/')"
   ]
  },
  {
   "cell_type": "code",
   "execution_count": 5,
   "id": "0f309186",
   "metadata": {},
   "outputs": [],
   "source": [
    "#clicking on the chart button\n",
    "charts=driver.find_element(By.XPATH,'/html/body/div[3]/header/div/div[2]/div/div/div[2]/div[2]/div/div/nav/ul/li[1]/a')\n",
    "charts.click()"
   ]
  },
  {
   "cell_type": "code",
   "execution_count": 6,
   "id": "85d856f4",
   "metadata": {},
   "outputs": [],
   "source": [
    "#clicking on the hot hundred\n",
    "hot_hundred=driver.find_element(By.XPATH,'/html/body/div[3]/header/div/div[3]/div/nav/ul/li[1]/a')\n",
    "hot_hundred.click()"
   ]
  },
  {
   "cell_type": "code",
   "execution_count": 11,
   "id": "6a4cdc34",
   "metadata": {},
   "outputs": [],
   "source": [
    "#collecting the song name\n",
    "song_name=[]\n",
    "song_tags=driver.find_elements(By.XPATH,'//li[@class=\"lrv-u-width-100p\"]/ul/li/h3')\n",
    "for i in song_tags:\n",
    "    c=i.text\n",
    "    song_name.append(c)\n",
    "    "
   ]
  },
  {
   "cell_type": "code",
   "execution_count": 13,
   "id": "2b4cd45e",
   "metadata": {},
   "outputs": [
    {
     "data": {
      "text/plain": [
       "100"
      ]
     },
     "execution_count": 13,
     "metadata": {},
     "output_type": "execute_result"
    }
   ],
   "source": [
    "len(song_name)"
   ]
  },
  {
   "cell_type": "code",
   "execution_count": 41,
   "id": "ae99ee3e",
   "metadata": {},
   "outputs": [],
   "source": [
    "#collecting the artist name\n",
    "artist_name=[]\n",
    "artist_tags=driver.find_elements(By.XPATH,'//li[@class=\"lrv-u-width-100p\"]/ul/li/span')\n",
    "for i in artist_tags:\n",
    "    s=i.text\n",
    "    artist_name.append(s)"
   ]
  },
  {
   "cell_type": "code",
   "execution_count": 42,
   "id": "8d2fd4fc",
   "metadata": {},
   "outputs": [
    {
     "data": {
      "text/plain": [
       "['Post Malone Featuring Morgan Wallen',\n",
       " '1',\n",
       " '1',\n",
       " '3',\n",
       " 'Kendrick Lamar',\n",
       " '2',\n",
       " '1',\n",
       " '4',\n",
       " 'Tommy Richman',\n",
       " '3',\n",
       " '2',\n",
       " '5',\n",
       " 'Shaboozey',\n",
       " '4',\n",
       " '3',\n",
       " '7',\n",
       " 'Sabrina Carpenter',\n",
       " '6',\n",
       " '4',\n",
       " '7',\n",
       " 'Zach Bryan',\n",
       " '-',\n",
       " '6',\n",
       " '1',\n",
       " 'Teddy Swims',\n",
       " '7',\n",
       " '1',\n",
       " '42',\n",
       " 'Hozier',\n",
       " '9',\n",
       " '1',\n",
       " '10',\n",
       " 'Benson Boone',\n",
       " '8',\n",
       " '2',\n",
       " '19',\n",
       " 'Billie Eilish',\n",
       " '5',\n",
       " '5',\n",
       " '2',\n",
       " 'Taylor Swift Featuring Post Malone',\n",
       " '10',\n",
       " '1',\n",
       " '6',\n",
       " 'Billie Eilish',\n",
       " '13',\n",
       " '12',\n",
       " '2',\n",
       " 'Future, Metro Boomin & Kendrick Lamar',\n",
       " '11',\n",
       " '1',\n",
       " '10',\n",
       " 'SZA',\n",
       " '14',\n",
       " '6',\n",
       " '14',\n",
       " 'Ariana Grande',\n",
       " '15',\n",
       " '1',\n",
       " '12',\n",
       " 'Billie Eilish',\n",
       " '12',\n",
       " '12',\n",
       " '2',\n",
       " 'Noah Kahan',\n",
       " '20',\n",
       " '9',\n",
       " '35',\n",
       " 'Zach Bryan Featuring Kacey Musgraves',\n",
       " '19',\n",
       " '1',\n",
       " '40',\n",
       " 'Jack Harlow',\n",
       " '21',\n",
       " '1',\n",
       " '29',\n",
       " 'Morgan Wallen Featuring ERNEST',\n",
       " '27',\n",
       " '20',\n",
       " '24',\n",
       " 'Marshmello & Kane Brown',\n",
       " '29',\n",
       " '21',\n",
       " '4',\n",
       " 'Central Cee & Lil Baby',\n",
       " '-',\n",
       " '22',\n",
       " '1',\n",
       " 'Kendrick Lamar',\n",
       " '16',\n",
       " '3',\n",
       " '5',\n",
       " 'Sexyy Red',\n",
       " '32',\n",
       " '20',\n",
       " '11',\n",
       " 'Dasha',\n",
       " '34',\n",
       " '25',\n",
       " '12',\n",
       " 'Sabrina Carpenter',\n",
       " '28',\n",
       " '21',\n",
       " '26',\n",
       " 'Billie Eilish',\n",
       " '17',\n",
       " '17',\n",
       " '2',\n",
       " 'GloRilla',\n",
       " '33',\n",
       " '28',\n",
       " '16',\n",
       " 'Luke Combs',\n",
       " '23',\n",
       " '23',\n",
       " '2',\n",
       " 'Taylor Swift',\n",
       " '26',\n",
       " '3',\n",
       " '6',\n",
       " 'Chappell Roan',\n",
       " '43',\n",
       " '31',\n",
       " '8',\n",
       " 'FloyyMenor X Cris Mj',\n",
       " '46',\n",
       " '27',\n",
       " '11',\n",
       " 'Bailey Zimmerman',\n",
       " '35',\n",
       " '32',\n",
       " '22',\n",
       " 'Billie Eilish',\n",
       " '22',\n",
       " '22',\n",
       " '2',\n",
       " 'Tate McRae',\n",
       " '38',\n",
       " '3',\n",
       " '37',\n",
       " 'Artemas',\n",
       " '39',\n",
       " '12',\n",
       " '10',\n",
       " 'Djo',\n",
       " '41',\n",
       " '11',\n",
       " '15',\n",
       " 'Future, Metro Boomin, Travis Scott & Playboi Carti',\n",
       " '40',\n",
       " '2',\n",
       " '10',\n",
       " 'GloRilla & Megan Thee Stallion',\n",
       " '50',\n",
       " '11',\n",
       " '8',\n",
       " 'Nate Smith',\n",
       " '44',\n",
       " '40',\n",
       " '8',\n",
       " 'Taylor Swift',\n",
       " '30',\n",
       " '2',\n",
       " '6',\n",
       " 'Doja Cat',\n",
       " '42',\n",
       " '7',\n",
       " '36',\n",
       " 'Benson Boone',\n",
       " '51',\n",
       " '40',\n",
       " '10',\n",
       " 'Sexyy Red & Drake',\n",
       " '-',\n",
       " '44',\n",
       " '1',\n",
       " 'Gunna',\n",
       " '37',\n",
       " '26',\n",
       " '3',\n",
       " 'Bryson Tiller',\n",
       " '49',\n",
       " '19',\n",
       " '15',\n",
       " 'Billie Eilish',\n",
       " '25',\n",
       " '25',\n",
       " '2',\n",
       " 'Beyonce',\n",
       " '52',\n",
       " '1',\n",
       " '16',\n",
       " 'Chris Stapleton',\n",
       " '69',\n",
       " '49',\n",
       " '4',\n",
       " 'Billie Eilish',\n",
       " '24',\n",
       " '24',\n",
       " '2',\n",
       " 'Myles Smith',\n",
       " '79',\n",
       " '51',\n",
       " '3',\n",
       " 'Koe Wetzel',\n",
       " '47',\n",
       " '47',\n",
       " '2',\n",
       " 'Billie Eilish',\n",
       " '18',\n",
       " '18',\n",
       " '2',\n",
       " 'Jessie Murph & Jelly Roll',\n",
       " '56',\n",
       " '35',\n",
       " '34',\n",
       " 'Muni Long',\n",
       " '61',\n",
       " '20',\n",
       " '20',\n",
       " '21 Savage',\n",
       " '53',\n",
       " '5',\n",
       " '20',\n",
       " 'Jelly Roll',\n",
       " '60',\n",
       " '57',\n",
       " '8',\n",
       " 'Taylor Swift',\n",
       " '45',\n",
       " '9',\n",
       " '6',\n",
       " 'Drake',\n",
       " '48',\n",
       " '7',\n",
       " '4',\n",
       " 'Travis Scott Featuring Playboi Carti',\n",
       " '62',\n",
       " '5',\n",
       " '30',\n",
       " 'Cody Johnson',\n",
       " '70',\n",
       " '61',\n",
       " '6',\n",
       " 'Billie Eilish',\n",
       " '31',\n",
       " '31',\n",
       " '2',\n",
       " 'Luis R Conriquez x Neton Vega',\n",
       " '72',\n",
       " '63',\n",
       " '4',\n",
       " 'Taylor Swift',\n",
       " '55',\n",
       " '10',\n",
       " '6',\n",
       " 'Taylor Swift',\n",
       " '54',\n",
       " '7',\n",
       " '6',\n",
       " 'Olivia Rodrigo',\n",
       " '68',\n",
       " '14',\n",
       " '10',\n",
       " '¥$: Ye & Ty Dolla $ign Featuring Rich The Kid & Playboi Carti',\n",
       " '59',\n",
       " '1',\n",
       " '16',\n",
       " 'Taylor Swift',\n",
       " '57',\n",
       " '5',\n",
       " '6',\n",
       " 'Bryan Martin',\n",
       " '80',\n",
       " '69',\n",
       " '8',\n",
       " 'Michael Marcagi',\n",
       " '73',\n",
       " '54',\n",
       " '15',\n",
       " 'Taylor Swift',\n",
       " '58',\n",
       " '6',\n",
       " '6',\n",
       " 'Cris Mj',\n",
       " '-',\n",
       " '72',\n",
       " '1',\n",
       " 'Billie Eilish',\n",
       " '36',\n",
       " '36',\n",
       " '2',\n",
       " 'Cardi B',\n",
       " '76',\n",
       " '9',\n",
       " '11',\n",
       " 'Dua Lipa',\n",
       " '78',\n",
       " '43',\n",
       " '7',\n",
       " 'BossMan DLow',\n",
       " '75',\n",
       " '49',\n",
       " '17',\n",
       " 'Taylor Swift Featuring Florence + The Machine',\n",
       " '64',\n",
       " '8',\n",
       " '6',\n",
       " 'Tucker Wetmore',\n",
       " '93',\n",
       " '75',\n",
       " '9',\n",
       " 'Taylor Swift',\n",
       " '65',\n",
       " '14',\n",
       " '6',\n",
       " 'Taylor Swift',\n",
       " '66',\n",
       " '4',\n",
       " '6',\n",
       " 'Bakar Featuring Summer Walker',\n",
       " '86',\n",
       " '53',\n",
       " '8',\n",
       " 'Mark Ambor',\n",
       " '90',\n",
       " '82',\n",
       " '5',\n",
       " 'Twenty One Pilots',\n",
       " '-',\n",
       " '83',\n",
       " '1',\n",
       " 'Kehlani',\n",
       " '-',\n",
       " '84',\n",
       " '1',\n",
       " 'Kenny Chesney',\n",
       " '92',\n",
       " '85',\n",
       " '3',\n",
       " 'Tyler Hubbard',\n",
       " '77',\n",
       " '62',\n",
       " '11',\n",
       " 'The Red Clay Strays',\n",
       " '99',\n",
       " '71',\n",
       " '11',\n",
       " 'Jordan Davis',\n",
       " '87',\n",
       " '71',\n",
       " '13',\n",
       " 'Don Toliver',\n",
       " '89',\n",
       " '38',\n",
       " '16',\n",
       " 'Tucker Wetmore',\n",
       " '97',\n",
       " '77',\n",
       " '10',\n",
       " 'Drake',\n",
       " '74',\n",
       " '17',\n",
       " '6',\n",
       " 'Taylor Swift',\n",
       " '81',\n",
       " '12',\n",
       " '6',\n",
       " 'Kendrick Lamar',\n",
       " '67',\n",
       " '12',\n",
       " '4',\n",
       " 'Sam Hunt',\n",
       " '96',\n",
       " '66',\n",
       " '12',\n",
       " 'Ashley Cooke',\n",
       " '-',\n",
       " '95',\n",
       " '1',\n",
       " 'Don Toliver Featuring Charlie Wilson & Cash Cobain',\n",
       " '-',\n",
       " '96',\n",
       " '1',\n",
       " 'Shoreline Mafia Presents OhGeesy & Fenix Flexin',\n",
       " '98',\n",
       " '97',\n",
       " '2',\n",
       " 'Taylor Swift',\n",
       " '82',\n",
       " '13',\n",
       " '6',\n",
       " 'Gunna',\n",
       " '71',\n",
       " '54',\n",
       " '3',\n",
       " 'Fuerza Regida',\n",
       " '-',\n",
       " '66',\n",
       " '13']"
      ]
     },
     "execution_count": 42,
     "metadata": {},
     "output_type": "execute_result"
    }
   ],
   "source": [
    "artist_name"
   ]
  },
  {
   "cell_type": "code",
   "execution_count": 43,
   "id": "7e03fe80",
   "metadata": {},
   "outputs": [],
   "source": [
    "artist_name=artist_name[::4]"
   ]
  },
  {
   "cell_type": "code",
   "execution_count": 44,
   "id": "e126b607",
   "metadata": {},
   "outputs": [
    {
     "data": {
      "text/plain": [
       "['Post Malone Featuring Morgan Wallen',\n",
       " 'Kendrick Lamar',\n",
       " 'Tommy Richman',\n",
       " 'Shaboozey',\n",
       " 'Sabrina Carpenter',\n",
       " 'Zach Bryan',\n",
       " 'Teddy Swims',\n",
       " 'Hozier',\n",
       " 'Benson Boone',\n",
       " 'Billie Eilish',\n",
       " 'Taylor Swift Featuring Post Malone',\n",
       " 'Billie Eilish',\n",
       " 'Future, Metro Boomin & Kendrick Lamar',\n",
       " 'SZA',\n",
       " 'Ariana Grande',\n",
       " 'Billie Eilish',\n",
       " 'Noah Kahan',\n",
       " 'Zach Bryan Featuring Kacey Musgraves',\n",
       " 'Jack Harlow',\n",
       " 'Morgan Wallen Featuring ERNEST',\n",
       " 'Marshmello & Kane Brown',\n",
       " 'Central Cee & Lil Baby',\n",
       " 'Kendrick Lamar',\n",
       " 'Sexyy Red',\n",
       " 'Dasha',\n",
       " 'Sabrina Carpenter',\n",
       " 'Billie Eilish',\n",
       " 'GloRilla',\n",
       " 'Luke Combs',\n",
       " 'Taylor Swift',\n",
       " 'Chappell Roan',\n",
       " 'FloyyMenor X Cris Mj',\n",
       " 'Bailey Zimmerman',\n",
       " 'Billie Eilish',\n",
       " 'Tate McRae',\n",
       " 'Artemas',\n",
       " 'Djo',\n",
       " 'Future, Metro Boomin, Travis Scott & Playboi Carti',\n",
       " 'GloRilla & Megan Thee Stallion',\n",
       " 'Nate Smith',\n",
       " 'Taylor Swift',\n",
       " 'Doja Cat',\n",
       " 'Benson Boone',\n",
       " 'Sexyy Red & Drake',\n",
       " 'Gunna',\n",
       " 'Bryson Tiller',\n",
       " 'Billie Eilish',\n",
       " 'Beyonce',\n",
       " 'Chris Stapleton',\n",
       " 'Billie Eilish',\n",
       " 'Myles Smith',\n",
       " 'Koe Wetzel',\n",
       " 'Billie Eilish',\n",
       " 'Jessie Murph & Jelly Roll',\n",
       " 'Muni Long',\n",
       " '21 Savage',\n",
       " 'Jelly Roll',\n",
       " 'Taylor Swift',\n",
       " 'Drake',\n",
       " 'Travis Scott Featuring Playboi Carti',\n",
       " 'Cody Johnson',\n",
       " 'Billie Eilish',\n",
       " 'Luis R Conriquez x Neton Vega',\n",
       " 'Taylor Swift',\n",
       " 'Taylor Swift',\n",
       " 'Olivia Rodrigo',\n",
       " '¥$: Ye & Ty Dolla $ign Featuring Rich The Kid & Playboi Carti',\n",
       " 'Taylor Swift',\n",
       " 'Bryan Martin',\n",
       " 'Michael Marcagi',\n",
       " 'Taylor Swift',\n",
       " 'Cris Mj',\n",
       " 'Billie Eilish',\n",
       " 'Cardi B',\n",
       " 'Dua Lipa',\n",
       " 'BossMan DLow',\n",
       " 'Taylor Swift Featuring Florence + The Machine',\n",
       " 'Tucker Wetmore',\n",
       " 'Taylor Swift',\n",
       " 'Taylor Swift',\n",
       " 'Bakar Featuring Summer Walker',\n",
       " 'Mark Ambor',\n",
       " 'Twenty One Pilots',\n",
       " 'Kehlani',\n",
       " 'Kenny Chesney',\n",
       " 'Tyler Hubbard',\n",
       " 'The Red Clay Strays',\n",
       " 'Jordan Davis',\n",
       " 'Don Toliver',\n",
       " 'Tucker Wetmore',\n",
       " 'Drake',\n",
       " 'Taylor Swift',\n",
       " 'Kendrick Lamar',\n",
       " 'Sam Hunt',\n",
       " 'Ashley Cooke',\n",
       " 'Don Toliver Featuring Charlie Wilson & Cash Cobain',\n",
       " 'Shoreline Mafia Presents OhGeesy & Fenix Flexin',\n",
       " 'Taylor Swift',\n",
       " 'Gunna',\n",
       " 'Fuerza Regida']"
      ]
     },
     "execution_count": 44,
     "metadata": {},
     "output_type": "execute_result"
    }
   ],
   "source": [
    "artist_name"
   ]
  },
  {
   "cell_type": "code",
   "execution_count": 45,
   "id": "58b61a3c",
   "metadata": {},
   "outputs": [],
   "source": [
    "#collecting the data for last week rank\n",
    "lw_rank=[]\n",
    "lw_tags=driver.find_elements(By.XPATH,'//li[@class=\"o-chart-results-list__item // a-chart-color u-width-72 u-width-55@mobile-max u-width-55@tablet-only lrv-u-flex lrv-u-flex-shrink-0 lrv-u-align-items-center lrv-u-justify-content-center lrv-u-border-b-1 u-border-b-0@mobile-max lrv-u-border-color-grey-light u-background-color-white-064@mobile-max u-hidden@mobile-max\"]/span')\n",
    "for i in lw_tags:\n",
    "    l=i.text\n",
    "    lw_rank.append(l)"
   ]
  },
  {
   "cell_type": "code",
   "execution_count": 50,
   "id": "09c88e10",
   "metadata": {},
   "outputs": [],
   "source": [
    "lw_rank=lw_rank[::2]"
   ]
  },
  {
   "cell_type": "code",
   "execution_count": 52,
   "id": "4df8017d",
   "metadata": {},
   "outputs": [
    {
     "data": {
      "text/plain": [
       "100"
      ]
     },
     "execution_count": 52,
     "metadata": {},
     "output_type": "execute_result"
    }
   ],
   "source": [
    "len(lw_rank)"
   ]
  },
  {
   "cell_type": "code",
   "execution_count": 55,
   "id": "e4d651e9",
   "metadata": {},
   "outputs": [],
   "source": [
    "#collecting the data for peak rank\n",
    "pk_rank=[]\n",
    "pk_tags=driver.find_elements(By.XPATH,'//li[@class=\"o-chart-results-list__item // a-chart-bg-color a-chart-color u-width-72 u-width-55@mobile-max u-width-55@tablet-only lrv-u-flex lrv-u-flex-shrink-0 lrv-u-align-items-center lrv-u-justify-content-center lrv-u-background-color-grey-lightest lrv-u-border-b-1 u-border-b-0@mobile-max lrv-u-border-color-grey-light u-hidden@mobile-max\"]/span')\n",
    "for tag in pk_tags:\n",
    "    t=tag.text\n",
    "    pk_rank.append(t)"
   ]
  },
  {
   "cell_type": "code",
   "execution_count": 57,
   "id": "fe4229f1",
   "metadata": {},
   "outputs": [
    {
     "data": {
      "text/plain": [
       "100"
      ]
     },
     "execution_count": 57,
     "metadata": {},
     "output_type": "execute_result"
    }
   ],
   "source": [
    "len(pk_rank)"
   ]
  },
  {
   "cell_type": "code",
   "execution_count": 58,
   "id": "6a6b5e50",
   "metadata": {},
   "outputs": [],
   "source": [
    "#collecting the data for weeks on board\n",
    "wks_on_board=[]\n",
    "wks_tags=driver.find_elements(By.XPATH,'//li[@class=\"o-chart-results-list__item // a-chart-color u-width-72 u-width-55@mobile-max u-width-55@tablet-only lrv-u-flex lrv-u-flex-shrink-0 lrv-u-align-items-center lrv-u-justify-content-center lrv-u-border-b-1 u-border-b-0@mobile-max lrv-u-border-color-grey-light u-background-color-white-064@mobile-max u-hidden@mobile-max\"]/span')\n",
    "for tag in wks_tags:\n",
    "    x=tag.text\n",
    "    wks_on_board.append(x)"
   ]
  },
  {
   "cell_type": "code",
   "execution_count": 60,
   "id": "fa15d301",
   "metadata": {},
   "outputs": [],
   "source": [
    "wks_on_board=wks_on_board[1::2]"
   ]
  },
  {
   "cell_type": "code",
   "execution_count": 62,
   "id": "f16deb58",
   "metadata": {},
   "outputs": [
    {
     "data": {
      "text/plain": [
       "100"
      ]
     },
     "execution_count": 62,
     "metadata": {},
     "output_type": "execute_result"
    }
   ],
   "source": [
    "len(wks_on_board)"
   ]
  },
  {
   "cell_type": "code",
   "execution_count": 63,
   "id": "36050a6d",
   "metadata": {},
   "outputs": [],
   "source": [
    "billiboard_dict={'Song Name':song_name,'Artist_name':artist_name,'Last_week rank':lw_rank,'Peak Rank':pk_rank,'Weeks on Board':wks_on_board}\n"
   ]
  },
  {
   "cell_type": "code",
   "execution_count": 64,
   "id": "b1e53ea1",
   "metadata": {},
   "outputs": [],
   "source": [
    "DF_5=pd.DataFrame.from_dict(billiboard_dict)"
   ]
  },
  {
   "cell_type": "code",
   "execution_count": 66,
   "id": "76c1d100",
   "metadata": {},
   "outputs": [
    {
     "data": {
      "text/html": [
       "<div>\n",
       "<style scoped>\n",
       "    .dataframe tbody tr th:only-of-type {\n",
       "        vertical-align: middle;\n",
       "    }\n",
       "\n",
       "    .dataframe tbody tr th {\n",
       "        vertical-align: top;\n",
       "    }\n",
       "\n",
       "    .dataframe thead th {\n",
       "        text-align: right;\n",
       "    }\n",
       "</style>\n",
       "<table border=\"1\" class=\"dataframe\">\n",
       "  <thead>\n",
       "    <tr style=\"text-align: right;\">\n",
       "      <th></th>\n",
       "      <th>Song Name</th>\n",
       "      <th>Artist_name</th>\n",
       "      <th>Last_week rank</th>\n",
       "      <th>Peak Rank</th>\n",
       "      <th>Weeks on Board</th>\n",
       "    </tr>\n",
       "  </thead>\n",
       "  <tbody>\n",
       "    <tr>\n",
       "      <th>0</th>\n",
       "      <td>I Had Some Help</td>\n",
       "      <td>Post Malone Featuring Morgan Wallen</td>\n",
       "      <td>1</td>\n",
       "      <td>1</td>\n",
       "      <td>3</td>\n",
       "    </tr>\n",
       "    <tr>\n",
       "      <th>1</th>\n",
       "      <td>Not Like Us</td>\n",
       "      <td>Kendrick Lamar</td>\n",
       "      <td>2</td>\n",
       "      <td>1</td>\n",
       "      <td>4</td>\n",
       "    </tr>\n",
       "    <tr>\n",
       "      <th>2</th>\n",
       "      <td>Million Dollar Baby</td>\n",
       "      <td>Tommy Richman</td>\n",
       "      <td>3</td>\n",
       "      <td>2</td>\n",
       "      <td>5</td>\n",
       "    </tr>\n",
       "    <tr>\n",
       "      <th>3</th>\n",
       "      <td>A Bar Song (Tipsy)</td>\n",
       "      <td>Shaboozey</td>\n",
       "      <td>4</td>\n",
       "      <td>3</td>\n",
       "      <td>7</td>\n",
       "    </tr>\n",
       "    <tr>\n",
       "      <th>4</th>\n",
       "      <td>Espresso</td>\n",
       "      <td>Sabrina Carpenter</td>\n",
       "      <td>6</td>\n",
       "      <td>4</td>\n",
       "      <td>7</td>\n",
       "    </tr>\n",
       "    <tr>\n",
       "      <th>5</th>\n",
       "      <td>Pink Skies</td>\n",
       "      <td>Zach Bryan</td>\n",
       "      <td>-</td>\n",
       "      <td>6</td>\n",
       "      <td>1</td>\n",
       "    </tr>\n",
       "    <tr>\n",
       "      <th>6</th>\n",
       "      <td>Lose Control</td>\n",
       "      <td>Teddy Swims</td>\n",
       "      <td>7</td>\n",
       "      <td>1</td>\n",
       "      <td>42</td>\n",
       "    </tr>\n",
       "    <tr>\n",
       "      <th>7</th>\n",
       "      <td>Too Sweet</td>\n",
       "      <td>Hozier</td>\n",
       "      <td>9</td>\n",
       "      <td>1</td>\n",
       "      <td>10</td>\n",
       "    </tr>\n",
       "    <tr>\n",
       "      <th>8</th>\n",
       "      <td>Beautiful Things</td>\n",
       "      <td>Benson Boone</td>\n",
       "      <td>8</td>\n",
       "      <td>2</td>\n",
       "      <td>19</td>\n",
       "    </tr>\n",
       "    <tr>\n",
       "      <th>9</th>\n",
       "      <td>Lunch</td>\n",
       "      <td>Billie Eilish</td>\n",
       "      <td>5</td>\n",
       "      <td>5</td>\n",
       "      <td>2</td>\n",
       "    </tr>\n",
       "  </tbody>\n",
       "</table>\n",
       "</div>"
      ],
      "text/plain": [
       "             Song Name                          Artist_name Last_week rank  \\\n",
       "0      I Had Some Help  Post Malone Featuring Morgan Wallen              1   \n",
       "1          Not Like Us                       Kendrick Lamar              2   \n",
       "2  Million Dollar Baby                        Tommy Richman              3   \n",
       "3   A Bar Song (Tipsy)                            Shaboozey              4   \n",
       "4             Espresso                    Sabrina Carpenter              6   \n",
       "5           Pink Skies                           Zach Bryan              -   \n",
       "6         Lose Control                          Teddy Swims              7   \n",
       "7            Too Sweet                               Hozier              9   \n",
       "8     Beautiful Things                         Benson Boone              8   \n",
       "9                Lunch                        Billie Eilish              5   \n",
       "\n",
       "  Peak Rank Weeks on Board  \n",
       "0         1              3  \n",
       "1         1              4  \n",
       "2         2              5  \n",
       "3         3              7  \n",
       "4         4              7  \n",
       "5         6              1  \n",
       "6         1             42  \n",
       "7         1             10  \n",
       "8         2             19  \n",
       "9         5              2  "
      ]
     },
     "execution_count": 66,
     "metadata": {},
     "output_type": "execute_result"
    }
   ],
   "source": [
    "#printing the required data frame\n",
    "DF_5.head(10)"
   ]
  },
  {
   "cell_type": "code",
   "execution_count": 67,
   "id": "ccdb0d37",
   "metadata": {},
   "outputs": [],
   "source": [
    "#closing the webbrowser\n",
    "driver.quit()"
   ]
  },
  {
   "cell_type": "markdown",
   "id": "ed426b9a",
   "metadata": {},
   "source": [
    "6. Scrape the details of Highest selling novels.\n",
    "A) Book name\n",
    "B) Author name\n",
    "C) Volumes sold\n",
    "D) Publisher\n",
    "E) Genre\n",
    "Url - https://www.theguardian.com/news/datablog/2012/aug/09/best-selling-books-all-time-fifty-shades-grey-compare"
   ]
  },
  {
   "cell_type": "code",
   "execution_count": 68,
   "id": "b2ec7995",
   "metadata": {},
   "outputs": [],
   "source": [
    "#Initializing the web browser\n",
    "driver=webdriver.Chrome()\n",
    "driver.maximize_window()"
   ]
  },
  {
   "cell_type": "code",
   "execution_count": 69,
   "id": "54604006",
   "metadata": {},
   "outputs": [],
   "source": [
    "#directing to the web site\n",
    "driver.get('https://www.theguardian.com/news/datablog/2012/aug/09/best-selling-books-all-time-fifty-shades-grey-compare')"
   ]
  },
  {
   "cell_type": "code",
   "execution_count": 71,
   "id": "c4db28fc",
   "metadata": {},
   "outputs": [],
   "source": [
    "#collecting the data of book names\n",
    "book_names=[]\n",
    "book_tags=driver.find_elements(By.XPATH,'//table[@class=\"in-article sortable\"]/tbody/tr/td[2]')\n",
    "for tag in book_tags:\n",
    "    q=tag.text\n",
    "    book_names.append(q)\n"
   ]
  },
  {
   "cell_type": "code",
   "execution_count": 74,
   "id": "cbdbce6d",
   "metadata": {},
   "outputs": [
    {
     "data": {
      "text/plain": [
       "100"
      ]
     },
     "execution_count": 74,
     "metadata": {},
     "output_type": "execute_result"
    }
   ],
   "source": [
    "len(book_names)"
   ]
  },
  {
   "cell_type": "code",
   "execution_count": 75,
   "id": "d533a064",
   "metadata": {},
   "outputs": [],
   "source": [
    "#collecting the data of author\n",
    "author=[]\n",
    "author_tags=driver.find_elements(By.XPATH,'//table[@class=\"in-article sortable\"]/tbody/tr/td[3]')\n",
    "for tag in author_tags:\n",
    "    a=tag.text\n",
    "    author.append(a)"
   ]
  },
  {
   "cell_type": "code",
   "execution_count": 77,
   "id": "4282dd0c",
   "metadata": {},
   "outputs": [
    {
     "data": {
      "text/plain": [
       "100"
      ]
     },
     "execution_count": 77,
     "metadata": {},
     "output_type": "execute_result"
    }
   ],
   "source": [
    "len(author)"
   ]
  },
  {
   "cell_type": "code",
   "execution_count": 78,
   "id": "bb29a7dc",
   "metadata": {},
   "outputs": [],
   "source": [
    "#collecting the data of volume sold\n",
    "volume_sold=[]\n",
    "vol_tags=driver.find_elements(By.XPATH,'//table[@class=\"in-article sortable\"]/tbody/tr/td[4]')\n",
    "for tag in vol_tags:\n",
    "    b=tag.text\n",
    "    volume_sold.append(b)"
   ]
  },
  {
   "cell_type": "code",
   "execution_count": 80,
   "id": "37489763",
   "metadata": {},
   "outputs": [
    {
     "data": {
      "text/plain": [
       "100"
      ]
     },
     "execution_count": 80,
     "metadata": {},
     "output_type": "execute_result"
    }
   ],
   "source": [
    "len(volume_sold)"
   ]
  },
  {
   "cell_type": "code",
   "execution_count": 81,
   "id": "95cfae56",
   "metadata": {},
   "outputs": [],
   "source": [
    "#collecting the data of publisher\n",
    "publisher=[]\n",
    "pub_tags=driver.find_elements(By.XPATH,'//table[@class=\"in-article sortable\"]/tbody/tr/td[5]')\n",
    "for tag in pub_tags:\n",
    "    c=tag.text\n",
    "    publisher.append(c)"
   ]
  },
  {
   "cell_type": "code",
   "execution_count": 83,
   "id": "6922df8e",
   "metadata": {},
   "outputs": [
    {
     "data": {
      "text/plain": [
       "100"
      ]
     },
     "execution_count": 83,
     "metadata": {},
     "output_type": "execute_result"
    }
   ],
   "source": [
    "len(publisher)"
   ]
  },
  {
   "cell_type": "code",
   "execution_count": 84,
   "id": "50c44e1e",
   "metadata": {},
   "outputs": [],
   "source": [
    "#collecting the data of genre\n",
    "genre=[]\n",
    "genre_tags=driver.find_elements(By.XPATH,'//table[@class=\"in-article sortable\"]/tbody/tr/td[6]')\n",
    "for tag in genre_tags:\n",
    "    e=tag.text\n",
    "    genre.append(e)"
   ]
  },
  {
   "cell_type": "code",
   "execution_count": 86,
   "id": "2850297a",
   "metadata": {},
   "outputs": [
    {
     "data": {
      "text/plain": [
       "100"
      ]
     },
     "execution_count": 86,
     "metadata": {},
     "output_type": "execute_result"
    }
   ],
   "source": [
    "len(genre)"
   ]
  },
  {
   "cell_type": "code",
   "execution_count": 87,
   "id": "ab5da657",
   "metadata": {},
   "outputs": [],
   "source": [
    "novel_dict={'Book Name':book_names,'Author Name':author,'Volume Sold':volume_sold,'Publisher':publisher,'Genre':genre}"
   ]
  },
  {
   "cell_type": "code",
   "execution_count": 88,
   "id": "81915e13",
   "metadata": {},
   "outputs": [],
   "source": [
    "DF_6=pd.DataFrame.from_dict(novel_dict)"
   ]
  },
  {
   "cell_type": "code",
   "execution_count": 91,
   "id": "3f5cc4ce",
   "metadata": {},
   "outputs": [
    {
     "data": {
      "text/html": [
       "<div>\n",
       "<style scoped>\n",
       "    .dataframe tbody tr th:only-of-type {\n",
       "        vertical-align: middle;\n",
       "    }\n",
       "\n",
       "    .dataframe tbody tr th {\n",
       "        vertical-align: top;\n",
       "    }\n",
       "\n",
       "    .dataframe thead th {\n",
       "        text-align: right;\n",
       "    }\n",
       "</style>\n",
       "<table border=\"1\" class=\"dataframe\">\n",
       "  <thead>\n",
       "    <tr style=\"text-align: right;\">\n",
       "      <th></th>\n",
       "      <th>Book Name</th>\n",
       "      <th>Author Name</th>\n",
       "      <th>Volume Sold</th>\n",
       "      <th>Publisher</th>\n",
       "      <th>Genre</th>\n",
       "    </tr>\n",
       "  </thead>\n",
       "  <tbody>\n",
       "    <tr>\n",
       "      <th>0</th>\n",
       "      <td>Da Vinci Code,The</td>\n",
       "      <td>Brown, Dan</td>\n",
       "      <td>5,094,805</td>\n",
       "      <td>Transworld</td>\n",
       "      <td>Crime, Thriller &amp; Adventure</td>\n",
       "    </tr>\n",
       "    <tr>\n",
       "      <th>1</th>\n",
       "      <td>Harry Potter and the Deathly Hallows</td>\n",
       "      <td>Rowling, J.K.</td>\n",
       "      <td>4,475,152</td>\n",
       "      <td>Bloomsbury</td>\n",
       "      <td>Children's Fiction</td>\n",
       "    </tr>\n",
       "    <tr>\n",
       "      <th>2</th>\n",
       "      <td>Harry Potter and the Philosopher's Stone</td>\n",
       "      <td>Rowling, J.K.</td>\n",
       "      <td>4,200,654</td>\n",
       "      <td>Bloomsbury</td>\n",
       "      <td>Children's Fiction</td>\n",
       "    </tr>\n",
       "    <tr>\n",
       "      <th>3</th>\n",
       "      <td>Harry Potter and the Order of the Phoenix</td>\n",
       "      <td>Rowling, J.K.</td>\n",
       "      <td>4,179,479</td>\n",
       "      <td>Bloomsbury</td>\n",
       "      <td>Children's Fiction</td>\n",
       "    </tr>\n",
       "    <tr>\n",
       "      <th>4</th>\n",
       "      <td>Fifty Shades of Grey</td>\n",
       "      <td>James, E. L.</td>\n",
       "      <td>3,758,936</td>\n",
       "      <td>Random House</td>\n",
       "      <td>Romance &amp; Sagas</td>\n",
       "    </tr>\n",
       "    <tr>\n",
       "      <th>5</th>\n",
       "      <td>Harry Potter and the Goblet of Fire</td>\n",
       "      <td>Rowling, J.K.</td>\n",
       "      <td>3,583,215</td>\n",
       "      <td>Bloomsbury</td>\n",
       "      <td>Children's Fiction</td>\n",
       "    </tr>\n",
       "    <tr>\n",
       "      <th>6</th>\n",
       "      <td>Harry Potter and the Chamber of Secrets</td>\n",
       "      <td>Rowling, J.K.</td>\n",
       "      <td>3,484,047</td>\n",
       "      <td>Bloomsbury</td>\n",
       "      <td>Children's Fiction</td>\n",
       "    </tr>\n",
       "    <tr>\n",
       "      <th>7</th>\n",
       "      <td>Harry Potter and the Prisoner of Azkaban</td>\n",
       "      <td>Rowling, J.K.</td>\n",
       "      <td>3,377,906</td>\n",
       "      <td>Bloomsbury</td>\n",
       "      <td>Children's Fiction</td>\n",
       "    </tr>\n",
       "    <tr>\n",
       "      <th>8</th>\n",
       "      <td>Angels and Demons</td>\n",
       "      <td>Brown, Dan</td>\n",
       "      <td>3,193,946</td>\n",
       "      <td>Transworld</td>\n",
       "      <td>Crime, Thriller &amp; Adventure</td>\n",
       "    </tr>\n",
       "    <tr>\n",
       "      <th>9</th>\n",
       "      <td>Harry Potter and the Half-blood Prince:Childre...</td>\n",
       "      <td>Rowling, J.K.</td>\n",
       "      <td>2,950,264</td>\n",
       "      <td>Bloomsbury</td>\n",
       "      <td>Children's Fiction</td>\n",
       "    </tr>\n",
       "  </tbody>\n",
       "</table>\n",
       "</div>"
      ],
      "text/plain": [
       "                                           Book Name    Author Name  \\\n",
       "0                                  Da Vinci Code,The     Brown, Dan   \n",
       "1               Harry Potter and the Deathly Hallows  Rowling, J.K.   \n",
       "2           Harry Potter and the Philosopher's Stone  Rowling, J.K.   \n",
       "3          Harry Potter and the Order of the Phoenix  Rowling, J.K.   \n",
       "4                               Fifty Shades of Grey   James, E. L.   \n",
       "5                Harry Potter and the Goblet of Fire  Rowling, J.K.   \n",
       "6            Harry Potter and the Chamber of Secrets  Rowling, J.K.   \n",
       "7           Harry Potter and the Prisoner of Azkaban  Rowling, J.K.   \n",
       "8                                  Angels and Demons     Brown, Dan   \n",
       "9  Harry Potter and the Half-blood Prince:Childre...  Rowling, J.K.   \n",
       "\n",
       "  Volume Sold     Publisher                        Genre  \n",
       "0   5,094,805    Transworld  Crime, Thriller & Adventure  \n",
       "1   4,475,152    Bloomsbury           Children's Fiction  \n",
       "2   4,200,654    Bloomsbury           Children's Fiction  \n",
       "3   4,179,479    Bloomsbury           Children's Fiction  \n",
       "4   3,758,936  Random House              Romance & Sagas  \n",
       "5   3,583,215    Bloomsbury           Children's Fiction  \n",
       "6   3,484,047    Bloomsbury           Children's Fiction  \n",
       "7   3,377,906    Bloomsbury           Children's Fiction  \n",
       "8   3,193,946    Transworld  Crime, Thriller & Adventure  \n",
       "9   2,950,264    Bloomsbury           Children's Fiction  "
      ]
     },
     "execution_count": 91,
     "metadata": {},
     "output_type": "execute_result"
    }
   ],
   "source": [
    "#printing out the required data frame\n",
    "DF_6.head(10)"
   ]
  },
  {
   "cell_type": "code",
   "execution_count": 92,
   "id": "b1dc7328",
   "metadata": {},
   "outputs": [],
   "source": [
    "#closing the driver\n",
    "driver.quit()"
   ]
  },
  {
   "cell_type": "markdown",
   "id": "d823d8a2",
   "metadata": {},
   "source": [
    "7. Scrape the details most watched tv series of all time from imdb.com.\n",
    "Url = https://www.imdb.com/list/ls095964455/ You have to find the following details:\n",
    "A) Name\n",
    "B) Year span\n",
    "C) Genre\n",
    "D) Run time\n",
    "E) Ratings\n",
    "F) Votes"
   ]
  },
  {
   "cell_type": "code",
   "execution_count": 2,
   "id": "1ef496d3",
   "metadata": {},
   "outputs": [],
   "source": [
    "#Initializing the web browser\n",
    "driver=webdriver.Chrome()\n",
    "driver.maximize_window()"
   ]
  },
  {
   "cell_type": "code",
   "execution_count": 4,
   "id": "30dd0a8a",
   "metadata": {},
   "outputs": [],
   "source": [
    "# directing to the link\n",
    "driver.get('https://www.imdb.com/list/ls095964455/ ')"
   ]
  },
  {
   "cell_type": "code",
   "execution_count": 1,
   "id": "5f86a31f",
   "metadata": {},
   "outputs": [
    {
     "name": "stdout",
     "output_type": "stream",
     "text": [
      "the link above is showing 404 error\n"
     ]
    }
   ],
   "source": [
    "print('the link above is showing 404 error')"
   ]
  },
  {
   "cell_type": "code",
   "execution_count": 33,
   "id": "b4e7a1d0",
   "metadata": {},
   "outputs": [],
   "source": [
    "#closing the web browser\n",
    "driver.quit()"
   ]
  },
  {
   "cell_type": "markdown",
   "id": "0f17b067",
   "metadata": {},
   "source": [
    "8. Details of Datasets from UCI machine learning repositories.\n",
    "Url = https://archive.ics.uci.edu/ You have to find the following details:\n",
    "A) Dataset name\n",
    "B) Data type\n",
    "C) Task\n",
    "D) Attribute type\n",
    "E) No of instances\n",
    "F) No of attribute G) Year\n",
    "Note: - from the home page you have to go to the Show All Dataset page through code.\n",
    "ASSIGNMENT"
   ]
  },
  {
   "cell_type": "code",
   "execution_count": 34,
   "id": "b5a3adbe",
   "metadata": {},
   "outputs": [],
   "source": [
    "#initializing the web browser\n",
    "driver=webdriver.Chrome()\n",
    "driver.maximize_window()"
   ]
  },
  {
   "cell_type": "code",
   "execution_count": 35,
   "id": "375c9d6d",
   "metadata": {},
   "outputs": [],
   "source": [
    "#directing the link\n",
    "driver.get(' https://archive.ics.uci.edu/ ')"
   ]
  },
  {
   "cell_type": "code",
   "execution_count": 36,
   "id": "50403fc3",
   "metadata": {},
   "outputs": [],
   "source": [
    "#clicking on dataset\n",
    "view_dataset_tag=driver.find_element(By.XPATH,'//a[@class=\"btn-primary btn\"]')\n",
    "view_dataset_tag.click()"
   ]
  },
  {
   "cell_type": "code",
   "execution_count": 47,
   "id": "8e5c9555",
   "metadata": {},
   "outputs": [],
   "source": [
    "#collecting the dataset data\n",
    "dataset=[]\n",
    "\n",
    "dataset_tags=driver.find_elements(By.XPATH,'//a[@class=\"link-hover link text-xl font-semibold\"]')\n",
    "for tag in dataset_tags:\n",
    "    s=tag.text\n",
    "    dataset.append(s)\n",
    "    "
   ]
  },
  {
   "cell_type": "code",
   "execution_count": 48,
   "id": "a2772075",
   "metadata": {},
   "outputs": [
    {
     "data": {
      "text/plain": [
       "['Iris',\n",
       " 'Dry Bean',\n",
       " 'Heart Disease',\n",
       " 'Rice (Cammeo and Osmancik)',\n",
       " 'Raisin',\n",
       " 'Adult',\n",
       " 'Breast Cancer Wisconsin (Diagnostic)',\n",
       " 'Wine',\n",
       " 'Wine Quality',\n",
       " 'Bank Marketing']"
      ]
     },
     "execution_count": 48,
     "metadata": {},
     "output_type": "execute_result"
    }
   ],
   "source": [
    "dataset"
   ]
  },
  {
   "cell_type": "code",
   "execution_count": 52,
   "id": "b60cb12c",
   "metadata": {},
   "outputs": [],
   "source": [
    "#collecting the task data\n",
    "task=[]\n",
    "task_tags=driver.find_elements(By.XPATH,'//p[@class=\"truncate\"]')\n",
    "for tag in task_tags:\n",
    "    c=tag.text\n",
    "    task.append(c)"
   ]
  },
  {
   "cell_type": "code",
   "execution_count": 53,
   "id": "1d3e9723",
   "metadata": {},
   "outputs": [
    {
     "data": {
      "text/plain": [
       "['A small classic dataset from Fisher, 1936. One of the earliest known datasets used for evaluating classification methods.',\n",
       " 'Images of 13,611 grains of 7 different registered dry beans were taken with a high-resolution camera. A total of 16 features; 12 dimensions and 4 shape forms, were obtained from the grains.',\n",
       " '4 databases: Cleveland, Hungary, Switzerland, and the VA Long Beach',\n",
       " \"A total of 3810 rice grain's images were taken for the two species, processed and feature inferences were made. 7 morphological features were obtained for each grain of rice.\",\n",
       " 'Images of the Kecimen and Besni raisin varieties were obtained with CVS. A total of 900 raisins were used, including 450 from both varieties, and 7 morphological features were extracted.',\n",
       " 'Predict whether income exceeds $50K/yr based on census data. Also known as \"Census Income\" dataset.',\n",
       " 'Diagnostic Wisconsin Breast Cancer Database.',\n",
       " 'Using chemical analysis to determine the origin of wines',\n",
       " 'Two datasets are included, related to red and white vinho verde wine samples, from the north of Portugal. The goal is to model wine quality based on physicochemical tests (see [Cortez et al., 2009], http://www3.dsi.uminho.pt/pcortez/wine/).',\n",
       " 'The data is related with direct marketing campaigns (phone calls) of a Portuguese banking institution. The classification goal is to predict if the client will subscribe a term deposit (variable y).']"
      ]
     },
     "execution_count": 53,
     "metadata": {},
     "output_type": "execute_result"
    }
   ],
   "source": [
    "task"
   ]
  },
  {
   "cell_type": "code",
   "execution_count": 62,
   "id": "5165ce6b",
   "metadata": {},
   "outputs": [],
   "source": [
    "# collecting the attributes and instances\n",
    "inst_attr=[]\n",
    "tags=driver.find_elements(By.XPATH,'//div[@class=\"col-span-3 flex items-center gap-2\"]/span')\n",
    "for tag in tags:\n",
    "    d=tag.text\n",
    "    inst_attr.append(d)"
   ]
  },
  {
   "cell_type": "code",
   "execution_count": null,
   "id": "13c65b4e",
   "metadata": {},
   "outputs": [],
   "source": [
    "# seperating attributes and instances"
   ]
  },
  {
   "cell_type": "code",
   "execution_count": 63,
   "id": "a892e281",
   "metadata": {},
   "outputs": [],
   "source": [
    "instances=inst_attr[2::4]"
   ]
  },
  {
   "cell_type": "code",
   "execution_count": 64,
   "id": "7b5b082c",
   "metadata": {},
   "outputs": [
    {
     "data": {
      "text/plain": [
       "['150 Instances',\n",
       " '13.61K Instances',\n",
       " '303 Instances',\n",
       " '3.81K Instances',\n",
       " '900 Instances',\n",
       " '48.84K Instances',\n",
       " '569 Instances',\n",
       " '178 Instances',\n",
       " '4.9K Instances',\n",
       " '45.21K Instances']"
      ]
     },
     "execution_count": 64,
     "metadata": {},
     "output_type": "execute_result"
    }
   ],
   "source": [
    "instances"
   ]
  },
  {
   "cell_type": "code",
   "execution_count": 67,
   "id": "c22419dd",
   "metadata": {},
   "outputs": [],
   "source": [
    "attributes=inst_attr[3::4]"
   ]
  },
  {
   "cell_type": "code",
   "execution_count": 80,
   "id": "93ed155d",
   "metadata": {},
   "outputs": [
    {
     "data": {
      "text/plain": [
       "['4 Features',\n",
       " '16 Features',\n",
       " '13 Features',\n",
       " '7 Features',\n",
       " '8 Features',\n",
       " '14 Features',\n",
       " '30 Features',\n",
       " '13 Features',\n",
       " '12 Features',\n",
       " '17 Features']"
      ]
     },
     "execution_count": 80,
     "metadata": {},
     "output_type": "execute_result"
    }
   ],
   "source": [
    "attributes"
   ]
  },
  {
   "cell_type": "code",
   "execution_count": 78,
   "id": "f38b0231",
   "metadata": {},
   "outputs": [],
   "source": [
    "# updating the apperance of instances\n",
    "numeric_instances=[]\n",
    "match_pattern=re.compile(r'([\\d.]+K?)')\n",
    "for instance in instances:\n",
    "    match=match_pattern.search(instance)\n",
    "    if match:\n",
    "        numeric_instances.append((match.group()))"
   ]
  },
  {
   "cell_type": "code",
   "execution_count": 79,
   "id": "54b597a5",
   "metadata": {},
   "outputs": [
    {
     "data": {
      "text/plain": [
       "['150',\n",
       " '13.61K',\n",
       " '303',\n",
       " '3.81K',\n",
       " '900',\n",
       " '48.84K',\n",
       " '569',\n",
       " '178',\n",
       " '4.9K',\n",
       " '45.21K']"
      ]
     },
     "execution_count": 79,
     "metadata": {},
     "output_type": "execute_result"
    }
   ],
   "source": [
    "numeric_instances"
   ]
  },
  {
   "cell_type": "code",
   "execution_count": 85,
   "id": "b27d16c5",
   "metadata": {},
   "outputs": [],
   "source": [
    "#updating the appearance of attributes\n",
    "numeric_attributes=[]\n",
    "match_pattern=re.compile(r'(\\d+)')\n",
    "for attribute in attributes:\n",
    "    match=match_pattern.search(attribute)\n",
    "    if match:\n",
    "        numeric_attributes.append(int(match.group()))"
   ]
  },
  {
   "cell_type": "code",
   "execution_count": 86,
   "id": "35038cd4",
   "metadata": {},
   "outputs": [
    {
     "data": {
      "text/plain": [
       "[4, 16, 13, 7, 8, 14, 30, 13, 12, 17]"
      ]
     },
     "execution_count": 86,
     "metadata": {},
     "output_type": "execute_result"
    }
   ],
   "source": [
    "numeric_attributes"
   ]
  },
  {
   "cell_type": "code",
   "execution_count": 87,
   "id": "9afc876b",
   "metadata": {},
   "outputs": [],
   "source": [
    "dataset_dict={'Data Set':dataset,'Task':task,'Number of Instances':numeric_instances,'Number of Attributes':numeric_attributes}"
   ]
  },
  {
   "cell_type": "code",
   "execution_count": 89,
   "id": "6c387f51",
   "metadata": {},
   "outputs": [],
   "source": [
    "DF_8=pd.DataFrame.from_dict(dataset_dict)"
   ]
  },
  {
   "cell_type": "code",
   "execution_count": 91,
   "id": "7dc07aca",
   "metadata": {},
   "outputs": [
    {
     "data": {
      "text/html": [
       "<div>\n",
       "<style scoped>\n",
       "    .dataframe tbody tr th:only-of-type {\n",
       "        vertical-align: middle;\n",
       "    }\n",
       "\n",
       "    .dataframe tbody tr th {\n",
       "        vertical-align: top;\n",
       "    }\n",
       "\n",
       "    .dataframe thead th {\n",
       "        text-align: right;\n",
       "    }\n",
       "</style>\n",
       "<table border=\"1\" class=\"dataframe\">\n",
       "  <thead>\n",
       "    <tr style=\"text-align: right;\">\n",
       "      <th></th>\n",
       "      <th>Data Set</th>\n",
       "      <th>Task</th>\n",
       "      <th>Number of Instances</th>\n",
       "      <th>Number of Attributes</th>\n",
       "    </tr>\n",
       "  </thead>\n",
       "  <tbody>\n",
       "    <tr>\n",
       "      <th>0</th>\n",
       "      <td>Iris</td>\n",
       "      <td>A small classic dataset from Fisher, 1936. One...</td>\n",
       "      <td>150</td>\n",
       "      <td>4</td>\n",
       "    </tr>\n",
       "    <tr>\n",
       "      <th>1</th>\n",
       "      <td>Dry Bean</td>\n",
       "      <td>Images of 13,611 grains of 7 different registe...</td>\n",
       "      <td>13.61K</td>\n",
       "      <td>16</td>\n",
       "    </tr>\n",
       "    <tr>\n",
       "      <th>2</th>\n",
       "      <td>Heart Disease</td>\n",
       "      <td>4 databases: Cleveland, Hungary, Switzerland, ...</td>\n",
       "      <td>303</td>\n",
       "      <td>13</td>\n",
       "    </tr>\n",
       "    <tr>\n",
       "      <th>3</th>\n",
       "      <td>Rice (Cammeo and Osmancik)</td>\n",
       "      <td>A total of 3810 rice grain's images were taken...</td>\n",
       "      <td>3.81K</td>\n",
       "      <td>7</td>\n",
       "    </tr>\n",
       "    <tr>\n",
       "      <th>4</th>\n",
       "      <td>Raisin</td>\n",
       "      <td>Images of the Kecimen and Besni raisin varieti...</td>\n",
       "      <td>900</td>\n",
       "      <td>8</td>\n",
       "    </tr>\n",
       "    <tr>\n",
       "      <th>5</th>\n",
       "      <td>Adult</td>\n",
       "      <td>Predict whether income exceeds $50K/yr based o...</td>\n",
       "      <td>48.84K</td>\n",
       "      <td>14</td>\n",
       "    </tr>\n",
       "    <tr>\n",
       "      <th>6</th>\n",
       "      <td>Breast Cancer Wisconsin (Diagnostic)</td>\n",
       "      <td>Diagnostic Wisconsin Breast Cancer Database.</td>\n",
       "      <td>569</td>\n",
       "      <td>30</td>\n",
       "    </tr>\n",
       "    <tr>\n",
       "      <th>7</th>\n",
       "      <td>Wine</td>\n",
       "      <td>Using chemical analysis to determine the origi...</td>\n",
       "      <td>178</td>\n",
       "      <td>13</td>\n",
       "    </tr>\n",
       "    <tr>\n",
       "      <th>8</th>\n",
       "      <td>Wine Quality</td>\n",
       "      <td>Two datasets are included, related to red and ...</td>\n",
       "      <td>4.9K</td>\n",
       "      <td>12</td>\n",
       "    </tr>\n",
       "    <tr>\n",
       "      <th>9</th>\n",
       "      <td>Bank Marketing</td>\n",
       "      <td>The data is related with direct marketing camp...</td>\n",
       "      <td>45.21K</td>\n",
       "      <td>17</td>\n",
       "    </tr>\n",
       "  </tbody>\n",
       "</table>\n",
       "</div>"
      ],
      "text/plain": [
       "                               Data Set  \\\n",
       "0                                  Iris   \n",
       "1                              Dry Bean   \n",
       "2                         Heart Disease   \n",
       "3            Rice (Cammeo and Osmancik)   \n",
       "4                                Raisin   \n",
       "5                                 Adult   \n",
       "6  Breast Cancer Wisconsin (Diagnostic)   \n",
       "7                                  Wine   \n",
       "8                          Wine Quality   \n",
       "9                        Bank Marketing   \n",
       "\n",
       "                                                Task Number of Instances  \\\n",
       "0  A small classic dataset from Fisher, 1936. One...                 150   \n",
       "1  Images of 13,611 grains of 7 different registe...              13.61K   \n",
       "2  4 databases: Cleveland, Hungary, Switzerland, ...                 303   \n",
       "3  A total of 3810 rice grain's images were taken...               3.81K   \n",
       "4  Images of the Kecimen and Besni raisin varieti...                 900   \n",
       "5  Predict whether income exceeds $50K/yr based o...              48.84K   \n",
       "6       Diagnostic Wisconsin Breast Cancer Database.                 569   \n",
       "7  Using chemical analysis to determine the origi...                 178   \n",
       "8  Two datasets are included, related to red and ...                4.9K   \n",
       "9  The data is related with direct marketing camp...              45.21K   \n",
       "\n",
       "   Number of Attributes  \n",
       "0                     4  \n",
       "1                    16  \n",
       "2                    13  \n",
       "3                     7  \n",
       "4                     8  \n",
       "5                    14  \n",
       "6                    30  \n",
       "7                    13  \n",
       "8                    12  \n",
       "9                    17  "
      ]
     },
     "execution_count": 91,
     "metadata": {},
     "output_type": "execute_result"
    }
   ],
   "source": [
    "#printing out the required dataset\n",
    "DF_8"
   ]
  },
  {
   "cell_type": "code",
   "execution_count": null,
   "id": "5bbd309a",
   "metadata": {},
   "outputs": [],
   "source": []
  }
 ],
 "metadata": {
  "kernelspec": {
   "display_name": "Python 3 (ipykernel)",
   "language": "python",
   "name": "python3"
  },
  "language_info": {
   "codemirror_mode": {
    "name": "ipython",
    "version": 3
   },
   "file_extension": ".py",
   "mimetype": "text/x-python",
   "name": "python",
   "nbconvert_exporter": "python",
   "pygments_lexer": "ipython3",
   "version": "3.10.9"
  }
 },
 "nbformat": 4,
 "nbformat_minor": 5
}
