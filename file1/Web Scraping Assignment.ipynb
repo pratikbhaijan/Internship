{
 "cells": [
  {
   "cell_type": "markdown",
   "id": "15801aa7",
   "metadata": {},
   "source": [
    "#                     Assignment:-Web Scrapping By BeautifulSoup"
   ]
  },
  {
   "cell_type": "code",
   "execution_count": 5,
   "id": "ac6572cb",
   "metadata": {},
   "outputs": [],
   "source": [
    "from bs4 import BeautifulSoup\n",
    "import requests\n",
    "import re\n",
    "import pandas as pd"
   ]
  },
  {
   "cell_type": "markdown",
   "id": "de6d428c",
   "metadata": {},
   "source": [
    "Write a python program to display IMDB’s Top rated 100 Indian movies’ data https://www.imdb.com/list/ls056092300/ (i.e. name, rating, year ofrelease) and make data frame"
   ]
  },
  {
   "cell_type": "code",
   "execution_count": 9,
   "id": "da9fa0be",
   "metadata": {},
   "outputs": [
    {
     "data": {
      "text/html": [
       "<div>\n",
       "<style scoped>\n",
       "    .dataframe tbody tr th:only-of-type {\n",
       "        vertical-align: middle;\n",
       "    }\n",
       "\n",
       "    .dataframe tbody tr th {\n",
       "        vertical-align: top;\n",
       "    }\n",
       "\n",
       "    .dataframe thead th {\n",
       "        text-align: right;\n",
       "    }\n",
       "</style>\n",
       "<table border=\"1\" class=\"dataframe\">\n",
       "  <thead>\n",
       "    <tr style=\"text-align: right;\">\n",
       "      <th></th>\n",
       "      <th>Movie_Name</th>\n",
       "      <th>rattings</th>\n",
       "      <th>Date_of_release</th>\n",
       "    </tr>\n",
       "  </thead>\n",
       "  <tbody>\n",
       "    <tr>\n",
       "      <th>0</th>\n",
       "      <td>Ship of Theseus</td>\n",
       "      <td>8</td>\n",
       "      <td>(2012)</td>\n",
       "    </tr>\n",
       "    <tr>\n",
       "      <th>1</th>\n",
       "      <td>Iruvar</td>\n",
       "      <td>8.4</td>\n",
       "      <td>(1997)</td>\n",
       "    </tr>\n",
       "    <tr>\n",
       "      <th>2</th>\n",
       "      <td>Kaagaz Ke Phool</td>\n",
       "      <td>7.8</td>\n",
       "      <td>(1959)</td>\n",
       "    </tr>\n",
       "    <tr>\n",
       "      <th>3</th>\n",
       "      <td>Lagaan: Once Upon a Time in India</td>\n",
       "      <td>8.1</td>\n",
       "      <td>(2001)</td>\n",
       "    </tr>\n",
       "    <tr>\n",
       "      <th>4</th>\n",
       "      <td>Pather Panchali</td>\n",
       "      <td>8.2</td>\n",
       "      <td>(1955)</td>\n",
       "    </tr>\n",
       "  </tbody>\n",
       "</table>\n",
       "</div>"
      ],
      "text/plain": [
       "                          Movie_Name rattings Date_of_release\n",
       "0                    Ship of Theseus        8          (2012)\n",
       "1                             Iruvar      8.4          (1997)\n",
       "2                    Kaagaz Ke Phool      7.8          (1959)\n",
       "3  Lagaan: Once Upon a Time in India      8.1          (2001)\n",
       "4                    Pather Panchali      8.2          (1955)"
      ]
     },
     "execution_count": 9,
     "metadata": {},
     "output_type": "execute_result"
    }
   ],
   "source": [
    "response=requests.get('https://www.imdb.com/list/ls056092300/')\n",
    "soup=BeautifulSoup(response.text,'lxml')\n",
    "a=soup.find('div',class_='lister-item-content')\n",
    "b=soup.find_all('span',class_=\"ipl-rating-star__rating\")\n",
    "name=soup.find_all('h3')\n",
    "strin=' '\n",
    "list_of_movies=[]\n",
    "release_date=[]\n",
    "ratt=[]\n",
    "for n in name:\n",
    "    list_of_movies.append((strin.join(n.text.split()[1:-1])))\n",
    "    release_date.append(n.text.split()[-1])\n",
    "#release_date\n",
    "#movie_name=name.text.split()[1:-1]\n",
    "#stri=' '\n",
    "#nam=stri.join(movie_name)\n",
    "#rd=name.text.split()[-1]\n",
    "#rd\n",
    "for j in b:\n",
    "    ratt.append(j.text)\n",
    "rattings=ratt[0::23]\n",
    "movies=list_of_movies[:100]\n",
    "date=release_date[:100]\n",
    "dt={'Movie_Name':movies,\"rattings\":rattings,'Date_of_release':date}\n",
    "df=pd.DataFrame(dt)\n",
    "df.head()\n",
    "#print(len(release_date))\n",
    "#print(rattings)"
   ]
  },
  {
   "cell_type": "markdown",
   "id": "1523ff64",
   "metadata": {},
   "source": [
    "Please visit https://www.cnbc.com/world/?region=world and scrap- a) headings b) date c) News link"
   ]
  },
  {
   "cell_type": "code",
   "execution_count": 10,
   "id": "9fc98800",
   "metadata": {},
   "outputs": [
    {
     "data": {
      "text/html": [
       "<div>\n",
       "<style scoped>\n",
       "    .dataframe tbody tr th:only-of-type {\n",
       "        vertical-align: middle;\n",
       "    }\n",
       "\n",
       "    .dataframe tbody tr th {\n",
       "        vertical-align: top;\n",
       "    }\n",
       "\n",
       "    .dataframe thead th {\n",
       "        text-align: right;\n",
       "    }\n",
       "</style>\n",
       "<table border=\"1\" class=\"dataframe\">\n",
       "  <thead>\n",
       "    <tr style=\"text-align: right;\">\n",
       "      <th></th>\n",
       "      <th>News_Heading</th>\n",
       "      <th>Link</th>\n",
       "    </tr>\n",
       "  </thead>\n",
       "  <tbody>\n",
       "    <tr>\n",
       "      <th>0</th>\n",
       "      <td>Buy the dip on tech stocks like Apple and Nvid...</td>\n",
       "      <td>https://www.cnbc.com/2024/04/27/buy-the-dip-on...</td>\n",
       "    </tr>\n",
       "    <tr>\n",
       "      <th>1</th>\n",
       "      <td>All the data so far is showing inflation isn't...</td>\n",
       "      <td>https://www.cnbc.com/2024/04/26/all-the-data-s...</td>\n",
       "    </tr>\n",
       "    <tr>\n",
       "      <th>2</th>\n",
       "      <td>S&amp;P 500 posts best week since November, Nasdaq...</td>\n",
       "      <td>https://www.cnbc.com/2024/04/25/stock-market-t...</td>\n",
       "    </tr>\n",
       "    <tr>\n",
       "      <th>3</th>\n",
       "      <td>The Fed will be the main event in the week ahe...</td>\n",
       "      <td>https://www.cnbc.com/2024/04/26/the-fed-will-b...</td>\n",
       "    </tr>\n",
       "    <tr>\n",
       "      <th>4</th>\n",
       "      <td>An AI-focused ETF from a hedge fund veteran is...</td>\n",
       "      <td>https://www.cnbc.com/2024/04/27/an-ai-focused-...</td>\n",
       "    </tr>\n",
       "  </tbody>\n",
       "</table>\n",
       "</div>"
      ],
      "text/plain": [
       "                                        News_Heading  \\\n",
       "0  Buy the dip on tech stocks like Apple and Nvid...   \n",
       "1  All the data so far is showing inflation isn't...   \n",
       "2  S&P 500 posts best week since November, Nasdaq...   \n",
       "3  The Fed will be the main event in the week ahe...   \n",
       "4  An AI-focused ETF from a hedge fund veteran is...   \n",
       "\n",
       "                                                Link  \n",
       "0  https://www.cnbc.com/2024/04/27/buy-the-dip-on...  \n",
       "1  https://www.cnbc.com/2024/04/26/all-the-data-s...  \n",
       "2  https://www.cnbc.com/2024/04/25/stock-market-t...  \n",
       "3  https://www.cnbc.com/2024/04/26/the-fed-will-b...  \n",
       "4  https://www.cnbc.com/2024/04/27/an-ai-focused-...  "
      ]
     },
     "execution_count": 10,
     "metadata": {},
     "output_type": "execute_result"
    }
   ],
   "source": [
    "def news_link(url):\n",
    "    \n",
    "    response=requests.get(url)\n",
    "    soup=BeautifulSoup(response.text,'html.parser')\n",
    "    news_heading_1=[]\n",
    "    link=[]\n",
    "    for tags in soup.find_all('div',class_=\"Card-textContent\"):\n",
    "        news_heading_1.append(tags.text)\n",
    "        for i in (tags.find_all('a')):\n",
    "            link.append(i.get('href'))\n",
    "    #news_heading_1\n",
    "    #d={'News_Heading':news_heading_1,'Link':link}\n",
    "\n",
    "    #df=pd.DataFrame(d)\n",
    "    #df.head()\n",
    "    final_link=[]\n",
    "    #print(news_heading_2)\n",
    "    for i in link:\n",
    "        if len(i)>50:\n",
    "            final_link.append(i)\n",
    "    (final_link)\n",
    "    d={'News_Heading':news_heading_1,'Link':final_link}\n",
    "\n",
    "    df=pd.DataFrame(d)\n",
    "    df.head()\n",
    "news_link('https://www.cnbc.com/world/?region=world')"
   ]
  },
  {
   "cell_type": "markdown",
   "id": "62510f97",
   "metadata": {},
   "source": [
    "Write a python program to display all the header tags from wikipedia.org."
   ]
  },
  {
   "cell_type": "code",
   "execution_count": 12,
   "id": "e46247d6",
   "metadata": {},
   "outputs": [
    {
     "name": "stdout",
     "output_type": "stream",
     "text": [
      "h1: Main Page\n",
      "h1: Welcome to Wikipedia\n",
      "h2: From today's featured article\n",
      "h2: Did you know ...\n",
      "h2: In the news\n",
      "h2: On this day\n",
      "h2: Today's featured picture\n",
      "h2: Other areas of Wikipedia\n",
      "h2: Wikipedia's sister projects\n",
      "h2: Wikipedia languages\n"
     ]
    }
   ],
   "source": [
    "def headings(url):\n",
    "    \n",
    "\n",
    "\n",
    "    response = requests.get(url)\n",
    "\n",
    "    soup = BeautifulSoup(response.text, \"html.parser\")\n",
    "\n",
    "    header_tags = soup.find_all(re.compile(r'^h\\d'))\n",
    "\n",
    "    for tag in header_tags:\n",
    "        print(tag.name + \":\", tag.text.strip())\n",
    "headings('https://en.wikipedia.org/wiki/Main_Page')"
   ]
  },
  {
   "cell_type": "code",
   "execution_count": null,
   "id": "d0209f35",
   "metadata": {},
   "outputs": [],
   "source": [
    "List out the former President of India from the url :https://presidentofindia.nic.in/"
   ]
  },
  {
   "cell_type": "code",
   "execution_count": 16,
   "id": "834c53e7",
   "metadata": {},
   "outputs": [
    {
     "name": "stdout",
     "output_type": "stream",
     "text": [
      "                former_president\n",
      "0           Shri Ram Nath Kovind\n",
      "1          Shri Pranab Mukherjee\n",
      "2   Smt Pratibha Devisingh Patil\n",
      "3         DR. A.P.J. Abdul Kalam\n",
      "4           Shri K. R. Narayanan\n",
      "5        Dr Shankar Dayal Sharma\n",
      "6            Shri R Venkataraman\n",
      "7               Giani Zail Singh\n",
      "8      Shri Neelam Sanjiva Reddy\n",
      "9       Dr. Fakhruddin Ali Ahmed\n",
      "10  Shri Varahagiri Venkata Giri\n",
      "11              Dr. Zakir Husain\n",
      "12  Dr. Sarvepalli Radhakrishnan\n",
      "13           Dr. Rajendra Prasad\n"
     ]
    }
   ],
   "source": [
    "def taking_header(url):\n",
    "    \n",
    "    h3=[]\n",
    "    h5=[]\n",
    "\n",
    "    requests.get(url)\n",
    "    \n",
    "    for tag in BeautifulSoup(requests.get(url).text,'html.parser').find_all(re.compile(r'h3|h5')):\n",
    "        \n",
    "        if tag.name=='h3':\n",
    "            h3.append(tag.text.strip())\n",
    "        else:\n",
    "            h5.append(tag.text.strip())\n",
    "    h31=h3[:14]\n",
    "    \n",
    "    dictt={'former_president':h31}\n",
    "    df=pd.DataFrame(dictt)\n",
    "    print(df.replace(\" \",\"\"))\n",
    "taking_header('https://presidentofindia.nic.in/')"
   ]
  },
  {
   "cell_type": "markdown",
   "id": "6d232f5d",
   "metadata": {},
   "source": [
    "Please visit https://www.keaipublishing.com/en/journals/artificial-intelligence-in-agriculture/most-downloaded- articles/ and scrap- a) Paper title b) date c) Author"
   ]
  },
  {
   "cell_type": "code",
   "execution_count": 18,
   "id": "a9fe42b1",
   "metadata": {},
   "outputs": [
    {
     "name": "stdout",
     "output_type": "stream",
     "text": [
      "since the response we have got here is <Response [404]> which means page is not fount on the given url\n"
     ]
    }
   ],
   "source": [
    "response=requests.get('https://www.keaipublishing.com/en/journals/artificial-intelligence-in-agriculture/most-downloaded')\n",
    "soup=BeautifulSoup(response.text,'html.parser')\n",
    "print(f\"since the response we have got here is {response} which means page is not fount on the given url\")"
   ]
  },
  {
   "cell_type": "code",
   "execution_count": null,
   "id": "c1965497",
   "metadata": {},
   "outputs": [],
   "source": []
  }
 ],
 "metadata": {
  "kernelspec": {
   "display_name": "Python 3 (ipykernel)",
   "language": "python",
   "name": "python3"
  },
  "language_info": {
   "codemirror_mode": {
    "name": "ipython",
    "version": 3
   },
   "file_extension": ".py",
   "mimetype": "text/x-python",
   "name": "python",
   "nbconvert_exporter": "python",
   "pygments_lexer": "ipython3",
   "version": "3.9.7"
  }
 },
 "nbformat": 4,
 "nbformat_minor": 5
}
