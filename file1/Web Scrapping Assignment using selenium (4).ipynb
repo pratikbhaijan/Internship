{
 "cells": [
  {
   "cell_type": "markdown",
   "id": "e87b233a-0e95-4c57-82c4-bd6b6ae24192",
   "metadata": {},
   "source": [
    "## Assignment Web Scraping using Selenium"
   ]
  },
  {
   "cell_type": "markdown",
   "id": "a588287f-851a-4996-9bd1-a8595a0a826f",
   "metadata": {},
   "source": [
    "Q1: In this question you have to scrape data using the filters available on the webpage You have to use the location and \n",
    "salary filter. \n",
    "You have to scrape data for “Data Scientist” designation for first 10 job results. \n",
    "You have to scrape the job-title, job-location, company name, experience required. \n",
    "The location filter to be used is “Delhi/NCR”. The salary filter to be used is “3-6” lakhs \n",
    "The task will be done as shown in the below steps: \n",
    "1. first get the web page https://www.naukri.com/\n",
    "2. Enter “Data Scientist” in “Skill, Designations, and Companies” field. \n",
    "3. Then click the search button. \n",
    "4. Then apply the location filter and salary filter by checking the respective boxes \n",
    "5. Then scrape the data for the first 10 jobs results you get. \n",
    "6. Finally create a dataframe of the scraped data. "
   ]
  },
  {
   "cell_type": "code",
   "execution_count": 1,
   "id": "efb98daf-b6c9-4680-80ad-0f2130bc5fc1",
   "metadata": {},
   "outputs": [],
   "source": [
    "#importing required Liberary\n",
    "import selenium\n",
    "from selenium import webdriver\n",
    "import pandas as pd\n",
    "import warnings\n",
    "warnings.filterwarnings('ignore')\n",
    "from selenium.webdriver.common.by import By"
   ]
  },
  {
   "cell_type": "code",
   "execution_count": 14,
   "id": "669e54d7-4b9b-480a-a2a3-2b21ac2b8bde",
   "metadata": {},
   "outputs": [],
   "source": [
    "#selecting webdriver\n",
    "driver=webdriver.Chrome()"
   ]
  },
  {
   "cell_type": "code",
   "execution_count": 15,
   "id": "2e18e2e5-de79-421a-b4fd-fa984016b015",
   "metadata": {},
   "outputs": [],
   "source": [
    "# getting the web page \n",
    "driver.get('https://www.naukri.com/')"
   ]
  },
  {
   "cell_type": "code",
   "execution_count": 16,
   "id": "1d7a9880-527c-4578-8978-475eb95f2bf8",
   "metadata": {},
   "outputs": [],
   "source": [
    "#entering the skill and location\n",
    "skill=driver.find_element(By.CLASS_NAME,\"suggestor-input \")\n",
    "skill.send_keys('Data Scientist')\n",
    "location=driver.find_element(By.XPATH,\"/html/body/div[1]/div[7]/div/div/div[5]/div/div/div/div[1]/div/input\")\n",
    "location.send_keys('Delhi/NCR')"
   ]
  },
  {
   "cell_type": "code",
   "execution_count": 17,
   "id": "f0d2949b-4d07-4a70-b213-162f84933bc7",
   "metadata": {},
   "outputs": [],
   "source": [
    "#clicking on the search tab\n",
    "search=driver.find_element(By.CLASS_NAME,\"qsbSubmit\")\n",
    "search.click()"
   ]
  },
  {
   "cell_type": "code",
   "execution_count": 24,
   "id": "1c631cbc-c8f1-4b07-84a5-929440f2147d",
   "metadata": {},
   "outputs": [],
   "source": [
    "#checking the Delhi/NCR location filter\n",
    "location_filter=driver.find_element(By.XPATH,'//*[@id=\"search-result-container\"]/div[1]/div[1]/div/div/div[2]/div[2]/div[2]/div[1]/label/p/span[1]')\n",
    "driver.execute_script('arguments[0].click()',location_filter)"
   ]
  },
  {
   "cell_type": "code",
   "execution_count": 27,
   "id": "856d5ffd-fb07-4738-8ff2-bb37bb545820",
   "metadata": {},
   "outputs": [],
   "source": [
    "#checking the salary 3-6 lakh filter tab\n",
    "salary_filter=driver.find_element(By.XPATH,'/html/body/div/div/main/div[1]/div[1]/div/div/div[2]/div[6]/div[2]/div[2]/label/p/span[1]')\n",
    "driver.execute_script('arguments[0].click()',salary_filter)"
   ]
  },
  {
   "cell_type": "code",
   "execution_count": 64,
   "id": "6ccf890f-ba55-4cd1-aa93-ebf7d9bc0cdb",
   "metadata": {},
   "outputs": [],
   "source": [
    "# creating empty list of \n",
    "job_title=[]\n",
    "job_location=[]\n",
    "company_name=[]\n",
    "experience_required=[]"
   ]
  },
  {
   "cell_type": "code",
   "execution_count": 65,
   "id": "7eb63efe-a66f-4564-8775-92b37cd2ddfa",
   "metadata": {},
   "outputs": [],
   "source": [
    "# Scrapping the job_titles \n",
    "title_tags=driver.find_elements(By.XPATH,'//div[@class=\"srp-jobtuple-wrapper\"]/div/div/a')\n",
    "for i in title_tags:\n",
    "    title=i.text\n",
    "    job_title.append(title)"
   ]
  },
  {
   "cell_type": "code",
   "execution_count": 66,
   "id": "a3577036-36a5-41b4-99e2-ccd2842b3484",
   "metadata": {},
   "outputs": [
    {
     "data": {
      "text/plain": [
       "20"
      ]
     },
     "execution_count": 66,
     "metadata": {},
     "output_type": "execute_result"
    }
   ],
   "source": [
    "len(job_title)"
   ]
  },
  {
   "cell_type": "code",
   "execution_count": 67,
   "id": "a9621e22-0634-41d0-b158-49ae30a133c2",
   "metadata": {},
   "outputs": [],
   "source": [
    "# Scrapping the Job_locations\n",
    "location=driver.find_elements(By.XPATH,'//span[@class=\"locWdth\"]')\n",
    "for j in location:\n",
    "    loc=j.text\n",
    "    job_location.append(loc)"
   ]
  },
  {
   "cell_type": "code",
   "execution_count": 68,
   "id": "43546a02-d088-4d38-b03f-6631fa25321c",
   "metadata": {},
   "outputs": [
    {
     "data": {
      "text/plain": [
       "20"
      ]
     },
     "execution_count": 68,
     "metadata": {},
     "output_type": "execute_result"
    }
   ],
   "source": [
    "len(job_location)"
   ]
  },
  {
   "cell_type": "code",
   "execution_count": 69,
   "id": "d1168b46-a74f-4039-a16d-4d9162dcfbb0",
   "metadata": {},
   "outputs": [],
   "source": [
    "#Scrapping Company Name\n",
    "comp_name=driver.find_elements(By.XPATH,'//span[@class=\" comp-dtls-wrap\"]/a[1]')\n",
    "for k in comp_name:\n",
    "    name=k.text\n",
    "    company_name.append(name)"
   ]
  },
  {
   "cell_type": "code",
   "execution_count": 70,
   "id": "c6187f42-ee11-49c0-80dc-dca6cb58e107",
   "metadata": {},
   "outputs": [
    {
     "data": {
      "text/plain": [
       "20"
      ]
     },
     "execution_count": 70,
     "metadata": {},
     "output_type": "execute_result"
    }
   ],
   "source": [
    "len(company_name)"
   ]
  },
  {
   "cell_type": "code",
   "execution_count": 71,
   "id": "f767dc52-4f17-4a91-9a50-5d404b6ab75c",
   "metadata": {},
   "outputs": [],
   "source": [
    "#scrapping the experience required\n",
    "experience=driver.find_elements(By.XPATH,'//span[@class=\"expwdth\"]')\n",
    "for l in experience:\n",
    "    exp=l.text\n",
    "    experience_required.append(exp)"
   ]
  },
  {
   "cell_type": "code",
   "execution_count": 74,
   "id": "b8c6f0b2-6e0f-4155-92dc-3917d1b83b1f",
   "metadata": {},
   "outputs": [
    {
     "data": {
      "text/plain": [
       "20"
      ]
     },
     "execution_count": 74,
     "metadata": {},
     "output_type": "execute_result"
    }
   ],
   "source": [
    "len(experience_required)"
   ]
  },
  {
   "cell_type": "code",
   "execution_count": 78,
   "id": "1601f18d-4358-4dc3-9e1c-98c551dc9424",
   "metadata": {},
   "outputs": [],
   "source": [
    "# Creating data frame for job_title,job_location,company_name,experience_required\n",
    "dictionary={'Job_Title':job_title,'Job_Location':job_location,'Company_Name':company_name,'Experience_required':experience_required}\n",
    "DF=pd.DataFrame(dictionary)"
   ]
  },
  {
   "cell_type": "code",
   "execution_count": 79,
   "id": "fa669df3-c387-4589-b2b7-dd2c1f5b3148",
   "metadata": {},
   "outputs": [
    {
     "data": {
      "text/html": [
       "<div>\n",
       "<style scoped>\n",
       "    .dataframe tbody tr th:only-of-type {\n",
       "        vertical-align: middle;\n",
       "    }\n",
       "\n",
       "    .dataframe tbody tr th {\n",
       "        vertical-align: top;\n",
       "    }\n",
       "\n",
       "    .dataframe thead th {\n",
       "        text-align: right;\n",
       "    }\n",
       "</style>\n",
       "<table border=\"1\" class=\"dataframe\">\n",
       "  <thead>\n",
       "    <tr style=\"text-align: right;\">\n",
       "      <th></th>\n",
       "      <th>Job_Title</th>\n",
       "      <th>Job_Location</th>\n",
       "      <th>Company_Name</th>\n",
       "      <th>Experience_required</th>\n",
       "    </tr>\n",
       "  </thead>\n",
       "  <tbody>\n",
       "    <tr>\n",
       "      <th>0</th>\n",
       "      <td>Data Scientist</td>\n",
       "      <td>Gurugram, Bengaluru</td>\n",
       "      <td>Blackbuck</td>\n",
       "      <td>3-7 Yrs</td>\n",
       "    </tr>\n",
       "    <tr>\n",
       "      <th>1</th>\n",
       "      <td>Data Scientist - NLP, Gen AI</td>\n",
       "      <td>Noida</td>\n",
       "      <td>R Systems International</td>\n",
       "      <td>5-8 Yrs</td>\n",
       "    </tr>\n",
       "    <tr>\n",
       "      <th>2</th>\n",
       "      <td>Global GI Data Scientist</td>\n",
       "      <td>Faridabad</td>\n",
       "      <td>Hitachi Ltd.</td>\n",
       "      <td>3-5 Yrs</td>\n",
       "    </tr>\n",
       "    <tr>\n",
       "      <th>3</th>\n",
       "      <td>Data Scientist</td>\n",
       "      <td>Kolkata, Mumbai, New Delhi, Hyderabad, Pune, C...</td>\n",
       "      <td>Digital Glyde</td>\n",
       "      <td>3-7 Yrs</td>\n",
       "    </tr>\n",
       "    <tr>\n",
       "      <th>4</th>\n",
       "      <td>Python Data Scientist</td>\n",
       "      <td>Kolkata, Mumbai, New Delhi, Hyderabad, Pune, C...</td>\n",
       "      <td>Wizaltia Hr Solutions</td>\n",
       "      <td>2-7 Yrs</td>\n",
       "    </tr>\n",
       "    <tr>\n",
       "      <th>5</th>\n",
       "      <td>Data Scientist</td>\n",
       "      <td>Kolkata, Mumbai, New Delhi, Hyderabad, Pune, C...</td>\n",
       "      <td>Kmart</td>\n",
       "      <td>3-5 Yrs</td>\n",
       "    </tr>\n",
       "    <tr>\n",
       "      <th>6</th>\n",
       "      <td>Data Scientist</td>\n",
       "      <td>Kolkata, Mumbai, New Delhi, Hyderabad, Pune, C...</td>\n",
       "      <td>KAS Services</td>\n",
       "      <td>3-5 Yrs</td>\n",
       "    </tr>\n",
       "    <tr>\n",
       "      <th>7</th>\n",
       "      <td>Data Scientist</td>\n",
       "      <td>Kolkata, Mumbai, New Delhi, Hyderabad, Pune, C...</td>\n",
       "      <td>Scienaptic Systems</td>\n",
       "      <td>2-7 Yrs</td>\n",
       "    </tr>\n",
       "    <tr>\n",
       "      <th>8</th>\n",
       "      <td>Lead Data Scientist</td>\n",
       "      <td>Kolkata, Mumbai, New Delhi, Hyderabad, Pune, C...</td>\n",
       "      <td>Elitefit.ai</td>\n",
       "      <td>3-7 Yrs</td>\n",
       "    </tr>\n",
       "    <tr>\n",
       "      <th>9</th>\n",
       "      <td>Data Scientist</td>\n",
       "      <td>Kolkata, Mumbai, New Delhi, Hyderabad, Pune, C...</td>\n",
       "      <td>Kashsam Data Solutions</td>\n",
       "      <td>3-7 Yrs</td>\n",
       "    </tr>\n",
       "    <tr>\n",
       "      <th>10</th>\n",
       "      <td>Data Scientist (Telco)</td>\n",
       "      <td>Gurugram, Bengaluru</td>\n",
       "      <td>PayU</td>\n",
       "      <td>2-7 Yrs</td>\n",
       "    </tr>\n",
       "    <tr>\n",
       "      <th>11</th>\n",
       "      <td>Associate Scientist - Data Sourcing &amp; Solutions</td>\n",
       "      <td>Gurugram</td>\n",
       "      <td>Axa Technology Services</td>\n",
       "      <td>1-4 Yrs</td>\n",
       "    </tr>\n",
       "    <tr>\n",
       "      <th>12</th>\n",
       "      <td>Global GI Data Scientist</td>\n",
       "      <td>Faridabad</td>\n",
       "      <td>Hitachi Energy</td>\n",
       "      <td>3-5 Yrs</td>\n",
       "    </tr>\n",
       "    <tr>\n",
       "      <th>13</th>\n",
       "      <td>Senior Data Scientist</td>\n",
       "      <td>Noida</td>\n",
       "      <td>Innovaccer</td>\n",
       "      <td>3-4 Yrs</td>\n",
       "    </tr>\n",
       "    <tr>\n",
       "      <th>14</th>\n",
       "      <td>Data Scientist</td>\n",
       "      <td>Noida</td>\n",
       "      <td>Times Internet</td>\n",
       "      <td>3-8 Yrs</td>\n",
       "    </tr>\n",
       "    <tr>\n",
       "      <th>15</th>\n",
       "      <td>Python and ML Trainer</td>\n",
       "      <td>Hyderabad, New Delhi, Pune, Gurugram, Bengaluru</td>\n",
       "      <td>The Scholar</td>\n",
       "      <td>3-8 Yrs</td>\n",
       "    </tr>\n",
       "    <tr>\n",
       "      <th>16</th>\n",
       "      <td>Associate Scientist - Data Sourcing &amp; Solutions</td>\n",
       "      <td>Gurugram</td>\n",
       "      <td>AXA Global Business Services</td>\n",
       "      <td>1-4 Yrs</td>\n",
       "    </tr>\n",
       "    <tr>\n",
       "      <th>17</th>\n",
       "      <td>Data Scientist</td>\n",
       "      <td>Kolkata, Mumbai, New Delhi, Hyderabad, Pune, C...</td>\n",
       "      <td>Fort Technologies</td>\n",
       "      <td>1-3 Yrs</td>\n",
       "    </tr>\n",
       "    <tr>\n",
       "      <th>18</th>\n",
       "      <td>Data Scientist</td>\n",
       "      <td>Gurugram, Bengaluru</td>\n",
       "      <td>Acenet</td>\n",
       "      <td>3-4 Yrs</td>\n",
       "    </tr>\n",
       "    <tr>\n",
       "      <th>19</th>\n",
       "      <td>Data Scientist</td>\n",
       "      <td>Varanasi, Kannur, Mumbai, New Delhi</td>\n",
       "      <td>Searchurcollege</td>\n",
       "      <td>1-3 Yrs</td>\n",
       "    </tr>\n",
       "  </tbody>\n",
       "</table>\n",
       "</div>"
      ],
      "text/plain": [
       "                                          Job_Title  \\\n",
       "0                                    Data Scientist   \n",
       "1                      Data Scientist - NLP, Gen AI   \n",
       "2                          Global GI Data Scientist   \n",
       "3                                    Data Scientist   \n",
       "4                             Python Data Scientist   \n",
       "5                                    Data Scientist   \n",
       "6                                    Data Scientist   \n",
       "7                                    Data Scientist   \n",
       "8                               Lead Data Scientist   \n",
       "9                                    Data Scientist   \n",
       "10                           Data Scientist (Telco)   \n",
       "11  Associate Scientist - Data Sourcing & Solutions   \n",
       "12                         Global GI Data Scientist   \n",
       "13                            Senior Data Scientist   \n",
       "14                                   Data Scientist   \n",
       "15                            Python and ML Trainer   \n",
       "16  Associate Scientist - Data Sourcing & Solutions   \n",
       "17                                   Data Scientist   \n",
       "18                                   Data Scientist   \n",
       "19                                   Data Scientist   \n",
       "\n",
       "                                         Job_Location  \\\n",
       "0                                 Gurugram, Bengaluru   \n",
       "1                                               Noida   \n",
       "2                                           Faridabad   \n",
       "3   Kolkata, Mumbai, New Delhi, Hyderabad, Pune, C...   \n",
       "4   Kolkata, Mumbai, New Delhi, Hyderabad, Pune, C...   \n",
       "5   Kolkata, Mumbai, New Delhi, Hyderabad, Pune, C...   \n",
       "6   Kolkata, Mumbai, New Delhi, Hyderabad, Pune, C...   \n",
       "7   Kolkata, Mumbai, New Delhi, Hyderabad, Pune, C...   \n",
       "8   Kolkata, Mumbai, New Delhi, Hyderabad, Pune, C...   \n",
       "9   Kolkata, Mumbai, New Delhi, Hyderabad, Pune, C...   \n",
       "10                                Gurugram, Bengaluru   \n",
       "11                                           Gurugram   \n",
       "12                                          Faridabad   \n",
       "13                                              Noida   \n",
       "14                                              Noida   \n",
       "15    Hyderabad, New Delhi, Pune, Gurugram, Bengaluru   \n",
       "16                                           Gurugram   \n",
       "17  Kolkata, Mumbai, New Delhi, Hyderabad, Pune, C...   \n",
       "18                                Gurugram, Bengaluru   \n",
       "19                Varanasi, Kannur, Mumbai, New Delhi   \n",
       "\n",
       "                    Company_Name Experience_required  \n",
       "0                      Blackbuck             3-7 Yrs  \n",
       "1        R Systems International             5-8 Yrs  \n",
       "2                   Hitachi Ltd.             3-5 Yrs  \n",
       "3                  Digital Glyde             3-7 Yrs  \n",
       "4          Wizaltia Hr Solutions             2-7 Yrs  \n",
       "5                          Kmart             3-5 Yrs  \n",
       "6                   KAS Services             3-5 Yrs  \n",
       "7             Scienaptic Systems             2-7 Yrs  \n",
       "8                    Elitefit.ai             3-7 Yrs  \n",
       "9         Kashsam Data Solutions             3-7 Yrs  \n",
       "10                          PayU             2-7 Yrs  \n",
       "11       Axa Technology Services             1-4 Yrs  \n",
       "12                Hitachi Energy             3-5 Yrs  \n",
       "13                    Innovaccer             3-4 Yrs  \n",
       "14                Times Internet             3-8 Yrs  \n",
       "15                   The Scholar             3-8 Yrs  \n",
       "16  AXA Global Business Services             1-4 Yrs  \n",
       "17             Fort Technologies             1-3 Yrs  \n",
       "18                        Acenet             3-4 Yrs  \n",
       "19               Searchurcollege             1-3 Yrs  "
      ]
     },
     "execution_count": 79,
     "metadata": {},
     "output_type": "execute_result"
    }
   ],
   "source": [
    "DF"
   ]
  },
  {
   "cell_type": "markdown",
   "id": "ab85ba6a-2165-45d1-b164-cbee3210b380",
   "metadata": {},
   "source": [
    "Q2: Write a python program to scrape data for “Data Scientist” Job position in “Bangalore” location. You have to scrape the \n",
    "job-title, job-location, company_name, experience_required. You have to scrape first 10 jobs data.\n",
    "This task will be done in following steps:\n",
    "1. First get the webpage https://www.shine.com/\n",
    "2. Enter “Data Analyst” in “Job title, Skills” field and enter “Bangalore” in “enter the location” field.\n",
    "3. Then click the searchbutton. \n",
    "4. Then scrape the data for the first 10 jobs results you get. \n",
    "5. Finally create a dataframe of the scraped data. "
   ]
  },
  {
   "cell_type": "code",
   "execution_count": 80,
   "id": "7bcab127-2c2d-4fa4-83be-6538f4103c7a",
   "metadata": {},
   "outputs": [],
   "source": [
    "#importing necessary Liberary\n",
    "import selenium\n",
    "from selenium import webdriver\n",
    "import pandas as pd\n",
    "from selenium.webdriver.common.by import By\n",
    "import warnings\n",
    "warnings.filterwarnings('ignore')\n",
    "import time"
   ]
  },
  {
   "cell_type": "code",
   "execution_count": 81,
   "id": "f4406840-0a64-4d30-9e41-874c0ca74b17",
   "metadata": {},
   "outputs": [],
   "source": [
    "#Selecting the web driver\n",
    "driver=webdriver.Chrome()"
   ]
  },
  {
   "cell_type": "code",
   "execution_count": 82,
   "id": "94365276-ddeb-45fe-ade0-0d70b0713bae",
   "metadata": {},
   "outputs": [],
   "source": [
    "#getting the web page\n",
    "driver.get(' https://www.shine.com/')"
   ]
  },
  {
   "cell_type": "code",
   "execution_count": 83,
   "id": "4edecc74-e45a-42f3-b21a-f396008f7081",
   "metadata": {},
   "outputs": [],
   "source": [
    "# entering job skill required in search tab\n",
    "job_skill=driver.find_element(By.CLASS_NAME,\"form-control  \")\n",
    "job_skill.send_keys('Data Analyst')"
   ]
  },
  {
   "cell_type": "code",
   "execution_count": 84,
   "id": "2cc6279d-c234-4bb7-a5cd-7303f9473d1c",
   "metadata": {},
   "outputs": [],
   "source": [
    "# entering job location in search tab\n",
    "location=driver.find_element(By.XPATH,'/html/body/div/div[4]/div/div[2]/div[2]/div/form/div/div[1]/ul/li[2]/div/input')\n",
    "location.send_keys('Bangalore')"
   ]
  },
  {
   "cell_type": "code",
   "execution_count": 89,
   "id": "e6082380-f68b-4e98-8537-10e818767370",
   "metadata": {},
   "outputs": [],
   "source": [
    "# clicking on the search tab\n",
    "searching=driver.find_element(By.XPATH,'/html/body/div/div[4]/div/div[2]/div[2]/div/form/div/div[2]/div/button')\n",
    "searching.click()"
   ]
  },
  {
   "cell_type": "code",
   "execution_count": 90,
   "id": "422cb9fc-8906-455d-9e14-b729ffe3d78d",
   "metadata": {},
   "outputs": [],
   "source": [
    "# creating the empty list for \n",
    "job_title=[]\n",
    "company_name=[]\n",
    "job_location=[]\n",
    "experience_required=[]"
   ]
  },
  {
   "cell_type": "code",
   "execution_count": 92,
   "id": "f6e4777a-88eb-41ba-bf05-eeddcfa39566",
   "metadata": {},
   "outputs": [],
   "source": [
    "#Scrapping job title from the web page\n",
    "title_tags=driver.find_elements(By.XPATH,'//strong[@class=\"jobCard_pReplaceH2__xWmHg\"]')\n",
    "for i in title_tags:\n",
    "    title=i.text\n",
    "    job_title.append(title)"
   ]
  },
  {
   "cell_type": "code",
   "execution_count": 95,
   "id": "22862767-f85f-4b7e-8357-50033c47bc62",
   "metadata": {},
   "outputs": [
    {
     "data": {
      "text/plain": [
       "20"
      ]
     },
     "execution_count": 95,
     "metadata": {},
     "output_type": "execute_result"
    }
   ],
   "source": [
    "len(job_title)"
   ]
  },
  {
   "cell_type": "code",
   "execution_count": 96,
   "id": "605a5da5-ee8a-478a-8445-8eaa0cafdfb9",
   "metadata": {},
   "outputs": [],
   "source": [
    "#Scrapping the company name\n",
    "company=driver.find_elements(By.XPATH,'//div[@class=\"jobCard_jobCard_cName__mYnow\"]')\n",
    "for i in company:\n",
    "    comp=i.text\n",
    "    company_name.append(comp)"
   ]
  },
  {
   "cell_type": "code",
   "execution_count": 99,
   "id": "dd1f80c5-e6ed-47db-9604-5693f2d41c82",
   "metadata": {},
   "outputs": [
    {
     "data": {
      "text/plain": [
       "20"
      ]
     },
     "execution_count": 99,
     "metadata": {},
     "output_type": "execute_result"
    }
   ],
   "source": [
    "len(company_name)"
   ]
  },
  {
   "cell_type": "code",
   "execution_count": 100,
   "id": "bfa1fb79-fa88-4599-9701-5862f1d8c7d4",
   "metadata": {},
   "outputs": [],
   "source": [
    "#Scrapping Job location\n",
    "location_tags=driver.find_elements(By.XPATH,'//div[@class=\" jobCard_jobCard_lists_item__YxRkV jobCard_locationIcon__zrWt2\"]')\n",
    "for i in location_tags:\n",
    "    location=i.text\n",
    "    job_location.append(location)"
   ]
  },
  {
   "cell_type": "code",
   "execution_count": 103,
   "id": "416ed871-db60-488d-a4cc-56b9e3c69b94",
   "metadata": {},
   "outputs": [
    {
     "data": {
      "text/plain": [
       "20"
      ]
     },
     "execution_count": 103,
     "metadata": {},
     "output_type": "execute_result"
    }
   ],
   "source": [
    "len(job_location)"
   ]
  },
  {
   "cell_type": "code",
   "execution_count": 104,
   "id": "9246340f-ee26-48e6-9273-b2f096d92fca",
   "metadata": {},
   "outputs": [],
   "source": [
    "#Scrapping experience required\n",
    "experience_tags=driver.find_elements(By.XPATH,'//div[@class=\" jobCard_jobCard_lists_item__YxRkV jobCard_jobIcon__3FB1t\"]')\n",
    "for i in experience_tags:\n",
    "    expe=i.text\n",
    "    experience_required.append(expe)"
   ]
  },
  {
   "cell_type": "code",
   "execution_count": 107,
   "id": "60736738-7186-4ae7-a8d4-d780ef608f55",
   "metadata": {},
   "outputs": [
    {
     "data": {
      "text/plain": [
       "20"
      ]
     },
     "execution_count": 107,
     "metadata": {},
     "output_type": "execute_result"
    }
   ],
   "source": [
    "len(experience_required)"
   ]
  },
  {
   "cell_type": "code",
   "execution_count": 108,
   "id": "713876de-e670-41ac-8efb-f91e93499d81",
   "metadata": {},
   "outputs": [],
   "source": [
    "#creating a data frame from dictionary\n",
    "dictionary_1={'Job title':job_title,'Company Name':company_name,'Job Location':job_location,'Experience Required':experience_required}\n",
    "DF_1=pd.DataFrame(dictionary_1)"
   ]
  },
  {
   "cell_type": "code",
   "execution_count": 109,
   "id": "d8cdcc8d-3142-4d05-8b9e-7a599fa2b268",
   "metadata": {},
   "outputs": [
    {
     "data": {
      "text/html": [
       "<div>\n",
       "<style scoped>\n",
       "    .dataframe tbody tr th:only-of-type {\n",
       "        vertical-align: middle;\n",
       "    }\n",
       "\n",
       "    .dataframe tbody tr th {\n",
       "        vertical-align: top;\n",
       "    }\n",
       "\n",
       "    .dataframe thead th {\n",
       "        text-align: right;\n",
       "    }\n",
       "</style>\n",
       "<table border=\"1\" class=\"dataframe\">\n",
       "  <thead>\n",
       "    <tr style=\"text-align: right;\">\n",
       "      <th></th>\n",
       "      <th>Job title</th>\n",
       "      <th>Company Name</th>\n",
       "      <th>Job Location</th>\n",
       "      <th>Experience Required</th>\n",
       "    </tr>\n",
       "  </thead>\n",
       "  <tbody>\n",
       "    <tr>\n",
       "      <th>0</th>\n",
       "      <td>Data Analyst , Senior Data Analyst , Data Anal...</td>\n",
       "      <td>appsoft solutions</td>\n",
       "      <td>Bangalore\\n+8</td>\n",
       "      <td>0 to 4 Yrs</td>\n",
       "    </tr>\n",
       "    <tr>\n",
       "      <th>1</th>\n",
       "      <td>Data Analyst</td>\n",
       "      <td>valenta bpo solutions pvt. ltd.</td>\n",
       "      <td>Bangalore</td>\n",
       "      <td>4 to 5 Yrs</td>\n",
       "    </tr>\n",
       "    <tr>\n",
       "      <th>2</th>\n",
       "      <td>Data Analyst (Power BI, Python, SQL)- Internal...</td>\n",
       "      <td>talent leads hr solutions pvt ltd</td>\n",
       "      <td>Bangalore</td>\n",
       "      <td>3 to 8 Yrs</td>\n",
       "    </tr>\n",
       "    <tr>\n",
       "      <th>3</th>\n",
       "      <td>Clinical Data Analyst</td>\n",
       "      <td>techno endura</td>\n",
       "      <td>Bangalore\\n+6</td>\n",
       "      <td>0 to 1 Yr</td>\n",
       "    </tr>\n",
       "    <tr>\n",
       "      <th>4</th>\n",
       "      <td>Data Analyst Fresher and Experience Vacancy</td>\n",
       "      <td>radhika enterprises</td>\n",
       "      <td>Bangalore\\n+12</td>\n",
       "      <td>0 to 4 Yrs</td>\n",
       "    </tr>\n",
       "    <tr>\n",
       "      <th>5</th>\n",
       "      <td>Data Analyst Opening</td>\n",
       "      <td>radhika enterprises</td>\n",
       "      <td>Bangalore\\n+12</td>\n",
       "      <td>0 to 4 Yrs</td>\n",
       "    </tr>\n",
       "    <tr>\n",
       "      <th>6</th>\n",
       "      <td>Data Analyst Recruitment</td>\n",
       "      <td>radhika enterprises</td>\n",
       "      <td>Bangalore\\n+12</td>\n",
       "      <td>0 to 4 Yrs</td>\n",
       "    </tr>\n",
       "    <tr>\n",
       "      <th>7</th>\n",
       "      <td>Data Analyst Recruitment</td>\n",
       "      <td>radhika enterprises</td>\n",
       "      <td>Bangalore\\n+12</td>\n",
       "      <td>0 to 4 Yrs</td>\n",
       "    </tr>\n",
       "    <tr>\n",
       "      <th>8</th>\n",
       "      <td>Business Analyst</td>\n",
       "      <td>mackenzie modern it solutions priva...</td>\n",
       "      <td>Bangalore\\n+6</td>\n",
       "      <td>4 to 6 Yrs</td>\n",
       "    </tr>\n",
       "    <tr>\n",
       "      <th>9</th>\n",
       "      <td>MIS Analyst</td>\n",
       "      <td>quess corp (magna infotech)</td>\n",
       "      <td>Bangalore</td>\n",
       "      <td>8 to 13 Yrs</td>\n",
       "    </tr>\n",
       "    <tr>\n",
       "      <th>10</th>\n",
       "      <td>Data Governance Analyst</td>\n",
       "      <td>white horse manpower consultancy (p...</td>\n",
       "      <td>Bangalore</td>\n",
       "      <td>5 to 8 Yrs</td>\n",
       "    </tr>\n",
       "    <tr>\n",
       "      <th>11</th>\n",
       "      <td>Immediate Joiner For SENIOR DATA ENGINEER __ P...</td>\n",
       "      <td>sigma allied services private limit...</td>\n",
       "      <td>Bangalore\\n+8</td>\n",
       "      <td>5 to 10 Yrs</td>\n",
       "    </tr>\n",
       "    <tr>\n",
       "      <th>12</th>\n",
       "      <td>Azure Data Engineer</td>\n",
       "      <td>live connections placements pvt ltd</td>\n",
       "      <td>Bangalore\\n+3</td>\n",
       "      <td>4 to 7 Yrs</td>\n",
       "    </tr>\n",
       "    <tr>\n",
       "      <th>13</th>\n",
       "      <td>Data Science- Manager</td>\n",
       "      <td>mackenzie modern it solutions priva...</td>\n",
       "      <td>Bangalore\\n+7</td>\n",
       "      <td>6 to 11 Yrs</td>\n",
       "    </tr>\n",
       "    <tr>\n",
       "      <th>14</th>\n",
       "      <td>Data Science- Manager</td>\n",
       "      <td>mackenzie modern it solutions priva...</td>\n",
       "      <td>Bangalore\\n+7</td>\n",
       "      <td>5 to 10 Yrs</td>\n",
       "    </tr>\n",
       "    <tr>\n",
       "      <th>15</th>\n",
       "      <td>Data Support Executive</td>\n",
       "      <td>mackenzie modern it solutions priva...</td>\n",
       "      <td>Bangalore\\n+7</td>\n",
       "      <td>5 to 10 Yrs</td>\n",
       "    </tr>\n",
       "    <tr>\n",
       "      <th>16</th>\n",
       "      <td>Data Analytics</td>\n",
       "      <td>prathigna.com hr solutions private ...</td>\n",
       "      <td>Bangalore\\n+3</td>\n",
       "      <td>6 to 10 Yrs</td>\n",
       "    </tr>\n",
       "    <tr>\n",
       "      <th>17</th>\n",
       "      <td>Manager Data Science</td>\n",
       "      <td>mackenzie modern it solutions priva...</td>\n",
       "      <td>Bangalore\\n+7</td>\n",
       "      <td>5 to 9 Yrs</td>\n",
       "    </tr>\n",
       "    <tr>\n",
       "      <th>18</th>\n",
       "      <td>Data Science Analytics</td>\n",
       "      <td>mackenzie modern it solutions priva...</td>\n",
       "      <td>Bangalore\\n+7</td>\n",
       "      <td>5 to 10 Yrs</td>\n",
       "    </tr>\n",
       "    <tr>\n",
       "      <th>19</th>\n",
       "      <td>Data Engineer-OBIEE</td>\n",
       "      <td>ltimindtree limited</td>\n",
       "      <td>Bangalore\\n+1</td>\n",
       "      <td>5 to 10 Yrs</td>\n",
       "    </tr>\n",
       "  </tbody>\n",
       "</table>\n",
       "</div>"
      ],
      "text/plain": [
       "                                            Job title  \\\n",
       "0   Data Analyst , Senior Data Analyst , Data Anal...   \n",
       "1                                        Data Analyst   \n",
       "2   Data Analyst (Power BI, Python, SQL)- Internal...   \n",
       "3                               Clinical Data Analyst   \n",
       "4         Data Analyst Fresher and Experience Vacancy   \n",
       "5                                Data Analyst Opening   \n",
       "6                            Data Analyst Recruitment   \n",
       "7                            Data Analyst Recruitment   \n",
       "8                                    Business Analyst   \n",
       "9                                         MIS Analyst   \n",
       "10                            Data Governance Analyst   \n",
       "11  Immediate Joiner For SENIOR DATA ENGINEER __ P...   \n",
       "12                                Azure Data Engineer   \n",
       "13                              Data Science- Manager   \n",
       "14                              Data Science- Manager   \n",
       "15                             Data Support Executive   \n",
       "16                                     Data Analytics   \n",
       "17                               Manager Data Science   \n",
       "18                             Data Science Analytics   \n",
       "19                                Data Engineer-OBIEE   \n",
       "\n",
       "                              Company Name    Job Location Experience Required  \n",
       "0                        appsoft solutions   Bangalore\\n+8          0 to 4 Yrs  \n",
       "1          valenta bpo solutions pvt. ltd.       Bangalore          4 to 5 Yrs  \n",
       "2        talent leads hr solutions pvt ltd       Bangalore          3 to 8 Yrs  \n",
       "3                            techno endura   Bangalore\\n+6           0 to 1 Yr  \n",
       "4                      radhika enterprises  Bangalore\\n+12          0 to 4 Yrs  \n",
       "5                      radhika enterprises  Bangalore\\n+12          0 to 4 Yrs  \n",
       "6                      radhika enterprises  Bangalore\\n+12          0 to 4 Yrs  \n",
       "7                      radhika enterprises  Bangalore\\n+12          0 to 4 Yrs  \n",
       "8   mackenzie modern it solutions priva...   Bangalore\\n+6          4 to 6 Yrs  \n",
       "9              quess corp (magna infotech)       Bangalore         8 to 13 Yrs  \n",
       "10  white horse manpower consultancy (p...       Bangalore          5 to 8 Yrs  \n",
       "11  sigma allied services private limit...   Bangalore\\n+8         5 to 10 Yrs  \n",
       "12     live connections placements pvt ltd   Bangalore\\n+3          4 to 7 Yrs  \n",
       "13  mackenzie modern it solutions priva...   Bangalore\\n+7         6 to 11 Yrs  \n",
       "14  mackenzie modern it solutions priva...   Bangalore\\n+7         5 to 10 Yrs  \n",
       "15  mackenzie modern it solutions priva...   Bangalore\\n+7         5 to 10 Yrs  \n",
       "16  prathigna.com hr solutions private ...   Bangalore\\n+3         6 to 10 Yrs  \n",
       "17  mackenzie modern it solutions priva...   Bangalore\\n+7          5 to 9 Yrs  \n",
       "18  mackenzie modern it solutions priva...   Bangalore\\n+7         5 to 10 Yrs  \n",
       "19                     ltimindtree limited   Bangalore\\n+1         5 to 10 Yrs  "
      ]
     },
     "execution_count": 109,
     "metadata": {},
     "output_type": "execute_result"
    }
   ],
   "source": [
    "DF_1"
   ]
  },
  {
   "cell_type": "code",
   "execution_count": 110,
   "id": "f7f7bb05-e7b2-4490-ae77-841da548f69f",
   "metadata": {},
   "outputs": [],
   "source": [
    "#closing the web driver\n",
    "driver.quit()"
   ]
  },
  {
   "cell_type": "markdown",
   "id": "98063b89-496a-4e07-b2ce-b967028eeb58",
   "metadata": {},
   "source": [
    "Q3.Scrape 100 reviews data from flipkart.com for iphone11 phone. You have to go the link: \n",
    "https://www.flipkart.com/apple-iphone-11-black-64-gb/product\u0002reviews/itm4e5041ba101fd?pid=MOBFWQ6BXGJCEYNY&lid=LSTMOBFWQ6BXGJCEYNYZXSHRJ&marketplace=FLIPKART\n",
    "As shown in the above page you have to scrape the tick marked attributes. These are:\n",
    "1. Rating\n",
    "2. Review summary\n",
    "3. Full review\n",
    "4. You have to scrape this data for first 100reviews.\n",
    "Note: All the stepsrequired during scraping should be done through code only and not manually.\n"
   ]
  },
  {
   "cell_type": "code",
   "execution_count": 160,
   "id": "85fcce4a-39d1-4b21-a3f9-e60915a504bb",
   "metadata": {},
   "outputs": [],
   "source": [
    "#importing Necessary liberary\n",
    "import selenium\n",
    "from selenium import webdriver\n",
    "from selenium.webdriver.common.by import By\n",
    "import pandas as pd\n",
    "import warnings\n",
    "warnings.filterwarnings('ignore')\n",
    "import time"
   ]
  },
  {
   "cell_type": "code",
   "execution_count": 171,
   "id": "1d2e6293-97be-4395-80c4-163a496743e2",
   "metadata": {},
   "outputs": [],
   "source": [
    "# choosing web driver\n",
    "driver=webdriver.Chrome()"
   ]
  },
  {
   "cell_type": "code",
   "execution_count": 172,
   "id": "bb9841b6-9193-4fc5-9484-7378c2b300d7",
   "metadata": {},
   "outputs": [],
   "source": [
    "#getting the required web page\n",
    "driver.get('https://www.flipkart.com/apple-iphone-11-black-128-gb/product-reviews/itm8244e8d955aba?pid=MOBFWQ6BKRYBP5X8&lid=LSTMOBFWQ6BKRYBP5X8X0KYUG&marketplace=FLIPKART')"
   ]
  },
  {
   "cell_type": "code",
   "execution_count": 163,
   "id": "e0fd8799-3bd6-480a-85b3-cd8bd99ea1b8",
   "metadata": {},
   "outputs": [],
   "source": [
    "#creating the empty liist for\n",
    "ratings=[]\n",
    "review_summary=[]\n",
    "full_review=[]"
   ]
  },
  {
   "cell_type": "code",
   "execution_count": 164,
   "id": "540bff65-a29c-4b78-8db9-1cee0e215f41",
   "metadata": {},
   "outputs": [],
   "source": [
    "#Scrrapping Rattings from web page\n",
    "for i in range(10):\n",
    "    rating_tags=driver.find_elements(By.XPATH,'//div[@class=\"XQDdHH Ga3i8K\"]')\n",
    "    for j in rating_tags:\n",
    "        rate=j.text\n",
    "        ratings.append(rate)\n",
    "#for next button\n",
    "    next_button=driver.find_element(By.XPATH,'/html/body/div/div/div[3]/div/div/div[2]/div[13]/div/div/nav/a[11]')\n",
    "    next_button.click()\n",
    "    time.sleep(3)"
   ]
  },
  {
   "cell_type": "code",
   "execution_count": 165,
   "id": "707a6fd7-64f1-4c34-9e4d-0a06fee9c7cb",
   "metadata": {},
   "outputs": [
    {
     "data": {
      "text/plain": [
       "100"
      ]
     },
     "execution_count": 165,
     "metadata": {},
     "output_type": "execute_result"
    }
   ],
   "source": [
    "len(ratings)"
   ]
  },
  {
   "cell_type": "code",
   "execution_count": 168,
   "id": "0978d2ca-e62c-4598-9766-0ed2aefba6c9",
   "metadata": {},
   "outputs": [],
   "source": [
    "#Scrapping review summary\n",
    "for i in range(10):\n",
    "    summery_tags=driver.find_elements(By.XPATH,'//p[@class=\"z9E0IG\"]')\n",
    "    for j in summery_tags:\n",
    "        summary=j.text\n",
    "        review_summary.append(summary)\n",
    "#for next button\n",
    "    next_button=driver.find_element(By.XPATH,'/html/body/div/div/div[3]/div/div/div[2]/div[13]/div/div/nav/a[11]')\n",
    "    next_button.click()\n",
    "    time.sleep(3)\n",
    "    "
   ]
  },
  {
   "cell_type": "code",
   "execution_count": 169,
   "id": "ab537ba4-8b14-4da2-89cc-e957bd639552",
   "metadata": {},
   "outputs": [
    {
     "data": {
      "text/plain": [
       "100"
      ]
     },
     "execution_count": 169,
     "metadata": {},
     "output_type": "execute_result"
    }
   ],
   "source": [
    "len(review_summary)"
   ]
  },
  {
   "cell_type": "code",
   "execution_count": 173,
   "id": "daed4d8f-00a8-4e4d-b578-d9659069a018",
   "metadata": {},
   "outputs": [],
   "source": [
    "for i in range(10):\n",
    "    full_review_tags=driver.find_elements(By.XPATH,'//div[@class=\"row\"]/div/div/div')\n",
    "    for i in full_review_tags:\n",
    "        rev=i.text\n",
    "        full_review.append(rev)\n",
    "    next_button=driver.find_element(By.XPATH,'/html/body/div/div/div[3]/div/div/div[2]/div[13]/div/div/nav/a[11]')\n",
    "    next_button.click()\n",
    "    time.sleep(3)\n",
    "    "
   ]
  },
  {
   "cell_type": "code",
   "execution_count": 181,
   "id": "ace64a6c-d665-4ba7-aba3-3a11461c46fd",
   "metadata": {},
   "outputs": [
    {
     "data": {
      "text/plain": [
       "['Camera is awesome\\nBest battery backup\\nA performer 👌🏻\\nIt will be a real value for money if they provide charger and earphone inbox!',\n",
       " '',\n",
       " '',\n",
       " 'Very very good',\n",
       " '',\n",
       " '',\n",
       " 'This is amazing at all',\n",
       " '',\n",
       " '',\n",
       " 'Feeling awesome after getting the delivery of my phone. Dual speakers makes the sound quality very loud. Amazing!!']"
      ]
     },
     "execution_count": 181,
     "metadata": {},
     "output_type": "execute_result"
    }
   ],
   "source": [
    "#there are empty string present in full_summary\n",
    "full_review[:10]"
   ]
  },
  {
   "cell_type": "code",
   "execution_count": 182,
   "id": "aedffaed-f599-4b8a-bf27-552705039d55",
   "metadata": {},
   "outputs": [],
   "source": [
    "# removing empty string from_full_review\n",
    "detailed_review=[]\n",
    "for review in full_review:\n",
    "    if review!='':\n",
    "        detailed_review.append(review)"
   ]
  },
  {
   "cell_type": "code",
   "execution_count": 183,
   "id": "a9f3b4bf-e960-466c-b9b4-c6ee9755ff8c",
   "metadata": {},
   "outputs": [
    {
     "data": {
      "text/plain": [
       "100"
      ]
     },
     "execution_count": 183,
     "metadata": {},
     "output_type": "execute_result"
    }
   ],
   "source": [
    "len(detailed_review)"
   ]
  },
  {
   "cell_type": "code",
   "execution_count": 185,
   "id": "294d8639-3be4-4c3c-a2fa-f11b4d63dca3",
   "metadata": {},
   "outputs": [
    {
     "data": {
      "text/html": [
       "<div>\n",
       "<style scoped>\n",
       "    .dataframe tbody tr th:only-of-type {\n",
       "        vertical-align: middle;\n",
       "    }\n",
       "\n",
       "    .dataframe tbody tr th {\n",
       "        vertical-align: top;\n",
       "    }\n",
       "\n",
       "    .dataframe thead th {\n",
       "        text-align: right;\n",
       "    }\n",
       "</style>\n",
       "<table border=\"1\" class=\"dataframe\">\n",
       "  <thead>\n",
       "    <tr style=\"text-align: right;\">\n",
       "      <th></th>\n",
       "      <th>rattings</th>\n",
       "      <th>review summary</th>\n",
       "      <th>full_review</th>\n",
       "    </tr>\n",
       "  </thead>\n",
       "  <tbody>\n",
       "    <tr>\n",
       "      <th>0</th>\n",
       "      <td>5</td>\n",
       "      <td>Classy product</td>\n",
       "      <td>Camera is awesome\\nBest battery backup\\nA perf...</td>\n",
       "    </tr>\n",
       "    <tr>\n",
       "      <th>1</th>\n",
       "      <td>5</td>\n",
       "      <td>Terrific</td>\n",
       "      <td>Very very good</td>\n",
       "    </tr>\n",
       "    <tr>\n",
       "      <th>2</th>\n",
       "      <td>5</td>\n",
       "      <td>Wonderful</td>\n",
       "      <td>This is amazing at all</td>\n",
       "    </tr>\n",
       "    <tr>\n",
       "      <th>3</th>\n",
       "      <td>5</td>\n",
       "      <td>Worth every penny</td>\n",
       "      <td>Feeling awesome after getting the delivery of ...</td>\n",
       "    </tr>\n",
       "    <tr>\n",
       "      <th>4</th>\n",
       "      <td>5</td>\n",
       "      <td>Best in the market!</td>\n",
       "      <td>Good Camera</td>\n",
       "    </tr>\n",
       "    <tr>\n",
       "      <th>...</th>\n",
       "      <td>...</td>\n",
       "      <td>...</td>\n",
       "      <td>...</td>\n",
       "    </tr>\n",
       "    <tr>\n",
       "      <th>95</th>\n",
       "      <td>5</td>\n",
       "      <td>Highly recommended</td>\n",
       "      <td>Got if for 43000/- I Flipkart. In market it wa...</td>\n",
       "    </tr>\n",
       "    <tr>\n",
       "      <th>96</th>\n",
       "      <td>5</td>\n",
       "      <td>Perfect product!</td>\n",
       "      <td>Nice 👌👌👌👌👌👌</td>\n",
       "    </tr>\n",
       "    <tr>\n",
       "      <th>97</th>\n",
       "      <td>5</td>\n",
       "      <td>Terrific</td>\n",
       "      <td>Must buy</td>\n",
       "    </tr>\n",
       "    <tr>\n",
       "      <th>98</th>\n",
       "      <td>5</td>\n",
       "      <td>Brilliant</td>\n",
       "      <td>Good looking awesome mobile</td>\n",
       "    </tr>\n",
       "    <tr>\n",
       "      <th>99</th>\n",
       "      <td>5</td>\n",
       "      <td>Fabulous!</td>\n",
       "      <td>Just amazing purchase , thanks Flipkart and Ko...</td>\n",
       "    </tr>\n",
       "  </tbody>\n",
       "</table>\n",
       "<p>100 rows × 3 columns</p>\n",
       "</div>"
      ],
      "text/plain": [
       "   rattings       review summary  \\\n",
       "0         5       Classy product   \n",
       "1         5             Terrific   \n",
       "2         5            Wonderful   \n",
       "3         5    Worth every penny   \n",
       "4         5  Best in the market!   \n",
       "..      ...                  ...   \n",
       "95        5   Highly recommended   \n",
       "96        5     Perfect product!   \n",
       "97        5             Terrific   \n",
       "98        5            Brilliant   \n",
       "99        5            Fabulous!   \n",
       "\n",
       "                                          full_review  \n",
       "0   Camera is awesome\\nBest battery backup\\nA perf...  \n",
       "1                                      Very very good  \n",
       "2                              This is amazing at all  \n",
       "3   Feeling awesome after getting the delivery of ...  \n",
       "4                                         Good Camera  \n",
       "..                                                ...  \n",
       "95  Got if for 43000/- I Flipkart. In market it wa...  \n",
       "96                                        Nice 👌👌👌👌👌👌  \n",
       "97                                           Must buy  \n",
       "98                        Good looking awesome mobile  \n",
       "99  Just amazing purchase , thanks Flipkart and Ko...  \n",
       "\n",
       "[100 rows x 3 columns]"
      ]
     },
     "execution_count": 185,
     "metadata": {},
     "output_type": "execute_result"
    }
   ],
   "source": [
    "# Creating Data Frame\n",
    "dictionary_2={'rattings':ratings,'review summary':review_summary,'full_review':detailed_review}\n",
    "DF_2=pd.DataFrame(dictionary_2)\n",
    "DF_2"
   ]
  },
  {
   "cell_type": "code",
   "execution_count": 186,
   "id": "9d57d5d1-d423-4b6f-84d9-329e09eb252a",
   "metadata": {},
   "outputs": [],
   "source": [
    "#closing the browser\n",
    "driver.quit()"
   ]
  },
  {
   "cell_type": "markdown",
   "id": "6838799e-6546-4e15-bdc2-c000d83feba8",
   "metadata": {},
   "source": [
    "Q4: Scrape data forfirst 100 sneakers you find when you visit flipkart.com and search for “sneakers” in the search\n",
    "field.\n",
    "You have to scrape 3 attributes of each sneaker:\n",
    "1. Brand\n",
    "2. ProductDescription\n",
    "3. Price\n",
    "As shown in the below image, you have to scrape the above attributes"
   ]
  },
  {
   "cell_type": "code",
   "execution_count": 1,
   "id": "06433ea5-795b-41e9-827c-fec508874aa8",
   "metadata": {},
   "outputs": [],
   "source": [
    "#importing require Liberary\n",
    "import selenium\n",
    "from selenium import webdriver\n",
    "from selenium.webdriver.common.by import By\n",
    "import pandas as pd\n",
    "import warnings\n",
    "warnings.filterwarnings('ignore')\n",
    "import time"
   ]
  },
  {
   "cell_type": "code",
   "execution_count": 87,
   "id": "48a130a3-8eb6-44ae-9b35-5d2845f5859e",
   "metadata": {},
   "outputs": [],
   "source": [
    "#choosing web driver\n",
    "driver=webdriver.Chrome()"
   ]
  },
  {
   "cell_type": "code",
   "execution_count": 88,
   "id": "20983306-da0e-4b5f-9f4d-8d1f3370660e",
   "metadata": {},
   "outputs": [],
   "source": [
    "#getting web page\n",
    "driver.get('https://www.flipkart.com/')"
   ]
  },
  {
   "cell_type": "code",
   "execution_count": 89,
   "id": "c85158ad-a7de-4594-808a-1456255b6a9c",
   "metadata": {},
   "outputs": [],
   "source": [
    "#searching for sneaker\n",
    "product=driver.find_element(By.XPATH,'/html/body/div[1]/div/div[1]/div/div/div/div/div[1]/div/div[1]/div/div[1]/div[1]/header/div[1]/div[2]/form/div/div/input')\n",
    "product.send_keys('sneakers')"
   ]
  },
  {
   "cell_type": "code",
   "execution_count": 90,
   "id": "b1cd8694-742c-454c-8224-c2ae82f7e739",
   "metadata": {},
   "outputs": [],
   "source": [
    "#clicking on search icon\n",
    "search_icon=driver.find_element(By.XPATH,'/html/body/div[1]/div/div[1]/div/div/div/div/div[1]/div/div[1]/div/div[1]/div[1]/header/div[1]/div[2]/form/div/button')\n",
    "search_icon.click()"
   ]
  },
  {
   "cell_type": "code",
   "execution_count": 80,
   "id": "17a8cc5b-2ce4-4f08-b558-f79908f95245",
   "metadata": {},
   "outputs": [],
   "source": [
    "#creating empty list for following\n",
    "brand=[]\n",
    "product_description=[]\n",
    "price=[]"
   ]
  },
  {
   "cell_type": "code",
   "execution_count": 81,
   "id": "27310c44-fe51-43e0-8711-245b6835f677",
   "metadata": {},
   "outputs": [],
   "source": [
    "#Scrapping the Brand details\n",
    "for i in range(3):\n",
    "    brand_tags=driver.find_elements(By.XPATH,'//div[@class=\"syl9yP\"]')\n",
    "    for j in brand_tags:\n",
    "        branding=j.text\n",
    "        brand.append(branding)\n",
    "    next_button=driver.find_element(By.XPATH,'/html/body/div/div/div[3]/div[1]/div[2]/div[12]/div/div/nav/a[11]')\n",
    "    next_button.click()\n",
    "    time.sleep(3)"
   ]
  },
  {
   "cell_type": "code",
   "execution_count": 92,
   "id": "d99e70d9-a333-440d-9791-c32ab422c60a",
   "metadata": {},
   "outputs": [],
   "source": [
    "#taking first 100 entries\n",
    "new_brand=brand[:100]"
   ]
  },
  {
   "cell_type": "code",
   "execution_count": 86,
   "id": "e703ce52-ba95-4457-9f20-c2ee169fcbad",
   "metadata": {},
   "outputs": [],
   "source": [
    "# scrapping product description\n",
    "for j in range(3):\n",
    "    dec_tag=driver.find_elements(By.XPATH,'//a[@class=\"WKTcLC\"]')\n",
    "    for i in dec_tag:\n",
    "        dec=i.text\n",
    "        product_description.append(dec)\n",
    "    next_button=driver.find_element(By.XPATH,'/html/body/div/div/div[3]/div[1]/div[2]/div[12]/div/div/nav/a[11]')\n",
    "    next_button.click()\n",
    "    time.sleep(3)\n",
    "    "
   ]
  },
  {
   "cell_type": "code",
   "execution_count": 93,
   "id": "6268ed6a-f337-4519-826e-8bad497af609",
   "metadata": {},
   "outputs": [],
   "source": [
    "#taking first 100 entries\n",
    "new_dec=product_description[:100]"
   ]
  },
  {
   "cell_type": "code",
   "execution_count": 91,
   "id": "7dd7e9f1-2bef-474c-9b86-670f7bc22bc3",
   "metadata": {},
   "outputs": [],
   "source": [
    "#Scrapping the price of sneakers\n",
    "for i in range(3):\n",
    "    price_tags=driver.find_elements(By.XPATH,'//div[@class=\"Nx9bqj\"]')\n",
    "    for j in price_tags:\n",
    "        prize=j.text\n",
    "        price.append(prize)\n",
    "    next_button=driver.find_element(By.XPATH,'/html/body/div/div/div[3]/div[1]/div[2]/div[12]/div/div/nav/a[11]')\n",
    "    next_button.click()\n",
    "    time.sleep(3)"
   ]
  },
  {
   "cell_type": "code",
   "execution_count": 94,
   "id": "a3444b8e-420a-4094-b59a-13d1f5867d3b",
   "metadata": {},
   "outputs": [],
   "source": [
    "#taking first 100 entries\n",
    "new_price=price[:100]"
   ]
  },
  {
   "cell_type": "code",
   "execution_count": 95,
   "id": "c23912b0-fa89-40a1-9dc6-2334176ed978",
   "metadata": {},
   "outputs": [],
   "source": [
    "dectionary_3={'Brand':new_brand,'Product Description':new_dec,'Price':new_price}\n",
    "DF_3=pd.DataFrame(dectionary_3)"
   ]
  },
  {
   "cell_type": "code",
   "execution_count": 97,
   "id": "905d25cd-3753-4068-8fe5-d01617e9ff13",
   "metadata": {},
   "outputs": [
    {
     "data": {
      "text/html": [
       "<div>\n",
       "<style scoped>\n",
       "    .dataframe tbody tr th:only-of-type {\n",
       "        vertical-align: middle;\n",
       "    }\n",
       "\n",
       "    .dataframe tbody tr th {\n",
       "        vertical-align: top;\n",
       "    }\n",
       "\n",
       "    .dataframe thead th {\n",
       "        text-align: right;\n",
       "    }\n",
       "</style>\n",
       "<table border=\"1\" class=\"dataframe\">\n",
       "  <thead>\n",
       "    <tr style=\"text-align: right;\">\n",
       "      <th></th>\n",
       "      <th>Brand</th>\n",
       "      <th>Product Description</th>\n",
       "      <th>Price</th>\n",
       "    </tr>\n",
       "  </thead>\n",
       "  <tbody>\n",
       "    <tr>\n",
       "      <th>0</th>\n",
       "      <td>ROASTER</td>\n",
       "      <td>Stylish Shoes for Girls Sneakers For Women</td>\n",
       "      <td>₹317</td>\n",
       "    </tr>\n",
       "    <tr>\n",
       "      <th>1</th>\n",
       "      <td>Shozie</td>\n",
       "      <td>Trending Stylish Casual Outdoor Shoes Sneakers...</td>\n",
       "      <td>₹399</td>\n",
       "    </tr>\n",
       "    <tr>\n",
       "      <th>2</th>\n",
       "      <td>URBANBOX</td>\n",
       "      <td>Casual Sneaker Shoes for Men | Classic Rounded...</td>\n",
       "      <td>₹299</td>\n",
       "    </tr>\n",
       "    <tr>\n",
       "      <th>3</th>\n",
       "      <td>RED TAPE</td>\n",
       "      <td>Casual Sneakers Shoes for Men | Soft Cushioned...</td>\n",
       "      <td>₹1,649</td>\n",
       "    </tr>\n",
       "    <tr>\n",
       "      <th>4</th>\n",
       "      <td>RED TAPE</td>\n",
       "      <td>Sneakers For Men</td>\n",
       "      <td>₹1,769</td>\n",
       "    </tr>\n",
       "    <tr>\n",
       "      <th>...</th>\n",
       "      <td>...</td>\n",
       "      <td>...</td>\n",
       "      <td>...</td>\n",
       "    </tr>\n",
       "    <tr>\n",
       "      <th>95</th>\n",
       "      <td>RapidBox</td>\n",
       "      <td>DAVID Sneakers For Men</td>\n",
       "      <td>₹1,458</td>\n",
       "    </tr>\n",
       "    <tr>\n",
       "      <th>96</th>\n",
       "      <td>PUMA</td>\n",
       "      <td>Comfortable Outdoor,Casual, walking, Training,...</td>\n",
       "      <td>₹1,299</td>\n",
       "    </tr>\n",
       "    <tr>\n",
       "      <th>97</th>\n",
       "      <td>Combit</td>\n",
       "      <td>Comfortable Outdoor,Casual, walking, Training,...</td>\n",
       "      <td>₹2,530</td>\n",
       "    </tr>\n",
       "    <tr>\n",
       "      <th>98</th>\n",
       "      <td>PUMA</td>\n",
       "      <td>Ferrari Caven 2.0 Sneakers For Men</td>\n",
       "      <td>₹1,977</td>\n",
       "    </tr>\n",
       "    <tr>\n",
       "      <th>99</th>\n",
       "      <td>RapidBox</td>\n",
       "      <td>Puma Technner Sneakers For Men</td>\n",
       "      <td>₹1,769</td>\n",
       "    </tr>\n",
       "  </tbody>\n",
       "</table>\n",
       "<p>100 rows × 3 columns</p>\n",
       "</div>"
      ],
      "text/plain": [
       "       Brand                                Product Description   Price\n",
       "0    ROASTER         Stylish Shoes for Girls Sneakers For Women    ₹317\n",
       "1     Shozie  Trending Stylish Casual Outdoor Shoes Sneakers...    ₹399\n",
       "2   URBANBOX  Casual Sneaker Shoes for Men | Classic Rounded...    ₹299\n",
       "3   RED TAPE  Casual Sneakers Shoes for Men | Soft Cushioned...  ₹1,649\n",
       "4   RED TAPE                                   Sneakers For Men  ₹1,769\n",
       "..       ...                                                ...     ...\n",
       "95  RapidBox                             DAVID Sneakers For Men  ₹1,458\n",
       "96      PUMA  Comfortable Outdoor,Casual, walking, Training,...  ₹1,299\n",
       "97    Combit  Comfortable Outdoor,Casual, walking, Training,...  ₹2,530\n",
       "98      PUMA                 Ferrari Caven 2.0 Sneakers For Men  ₹1,977\n",
       "99  RapidBox                     Puma Technner Sneakers For Men  ₹1,769\n",
       "\n",
       "[100 rows x 3 columns]"
      ]
     },
     "execution_count": 97,
     "metadata": {},
     "output_type": "execute_result"
    }
   ],
   "source": [
    "DF_3"
   ]
  },
  {
   "cell_type": "code",
   "execution_count": 98,
   "id": "aff5abdd-5ff6-4e9a-8b2d-78142114d7bb",
   "metadata": {},
   "outputs": [],
   "source": [
    "#closing web page\n",
    "driver.quit()"
   ]
  },
  {
   "cell_type": "markdown",
   "id": "2749bf22-5e28-45e3-aa2a-d66475ef70ce",
   "metadata": {},
   "source": [
    "Q5: Go to webpage https://www.amazon.in/ Enter “Laptop” in the search field and then click the search icon. Then set CPU\n",
    "Type filter to “Intel Core i7” as shown in the below image:\n",
    "Aftersetting the filters scrape first 10 laptops data. You have to scrape 3 attributes for each laptop:\r\n",
    "1. Title\r\n",
    "2. Ratings\r\n",
    "3. Price"
   ]
  },
  {
   "cell_type": "code",
   "execution_count": 39,
   "id": "41a1e303-9c5d-4b88-b0ea-0aba45abd78e",
   "metadata": {},
   "outputs": [],
   "source": [
    "#importing require Liberary\n",
    "import selenium\n",
    "from selenium import webdriver\n",
    "from selenium.webdriver.common.by import By\n",
    "import pandas as pd\n",
    "import warnings\n",
    "warnings.filterwarnings('ignore')\n",
    "import time"
   ]
  },
  {
   "cell_type": "code",
   "execution_count": 40,
   "id": "9d7b4ac0-c35e-43e6-8f8a-018d256cd003",
   "metadata": {},
   "outputs": [],
   "source": [
    "#choosing web driver\n",
    "driver=webdriver.Chrome()"
   ]
  },
  {
   "cell_type": "code",
   "execution_count": 41,
   "id": "c4ff9069-dd5b-4d12-ac40-d6b517c47fc0",
   "metadata": {},
   "outputs": [],
   "source": [
    "#getting web page\n",
    "driver.get(' https://www.amazon.in/')"
   ]
  },
  {
   "cell_type": "code",
   "execution_count": 42,
   "id": "166e25e1-682c-40f3-8886-5013039e4f1e",
   "metadata": {},
   "outputs": [],
   "source": [
    "#searching for Laptop in search bar\n",
    "product_input=driver.find_element(By.XPATH,'/html/body/div[1]/header/div/div[1]/div[2]/div/form/div[2]/div[1]/input' )\n",
    "product_input.send_keys('Laptop')"
   ]
  },
  {
   "cell_type": "code",
   "execution_count": 43,
   "id": "100a9889-8d8e-4be6-a8d0-40064d8bef77",
   "metadata": {},
   "outputs": [],
   "source": [
    "#clicking on search bar\n",
    "search=driver.find_element(By.XPATH,'/html/body/div[1]/header/div/div[1]/div[2]/div/form/div[3]/div/span/input')\n",
    "search.click()"
   ]
  },
  {
   "cell_type": "code",
   "execution_count": 46,
   "id": "aea513c0-ff54-49ee-bb6d-3faf43e47ac8",
   "metadata": {},
   "outputs": [],
   "source": [
    "#applying filter\n",
    "filter=driver.find_element(By.XPATH,'/html/body/div[2]/div[1]/div[1]/div[2]/div/div[3]/span/div[1]/div/div/div[6]/ul[18]/span/span[10]/li/span/a/div')\n",
    "filter.click()"
   ]
  },
  {
   "cell_type": "code",
   "execution_count": 47,
   "id": "2bdf6170-1ee2-48ad-b7fe-8fc39ee9764a",
   "metadata": {},
   "outputs": [],
   "source": [
    "Creating empty lists for\n",
    "title=[]\n",
    "ratting=[]\n",
    "price=[]"
   ]
  },
  {
   "cell_type": "code",
   "execution_count": 48,
   "id": "304f16fd-7e26-45d5-9d24-32413866a819",
   "metadata": {},
   "outputs": [],
   "source": [
    "#scrapping title\n",
    "title_tags=driver.find_elements(By.XPATH,'//div[@class=\"a-section a-spacing-none puis-padding-right-small s-title-instructions-style\"]')\n",
    "for i in title_tags:\n",
    "    head=i.text\n",
    "    title.append(head)"
   ]
  },
  {
   "cell_type": "code",
   "execution_count": 49,
   "id": "f1367c1e-b80b-4646-9320-8ce6e32ba267",
   "metadata": {},
   "outputs": [
    {
     "data": {
      "text/plain": [
       "24"
      ]
     },
     "execution_count": 49,
     "metadata": {},
     "output_type": "execute_result"
    }
   ],
   "source": [
    "len(title)"
   ]
  },
  {
   "cell_type": "code",
   "execution_count": 50,
   "id": "a347c3e9-fde2-47c7-9fd9-f65533337926",
   "metadata": {},
   "outputs": [],
   "source": [
    "#Scrapping Prices\n",
    "price_tags=driver.find_elements(By.XPATH,'//span[@class=\"a-price-whole\"]')\n",
    "for i in price_tags:\n",
    "    priz=i.text\n",
    "    price.append(priz)"
   ]
  },
  {
   "cell_type": "code",
   "execution_count": 51,
   "id": "5772a152-f3ef-484b-8c01-48dc18330761",
   "metadata": {},
   "outputs": [
    {
     "data": {
      "text/plain": [
       "24"
      ]
     },
     "execution_count": 51,
     "metadata": {},
     "output_type": "execute_result"
    }
   ],
   "source": [
    "len(price)"
   ]
  },
  {
   "cell_type": "code",
   "execution_count": 52,
   "id": "2e39be37-71e6-402b-9b7a-62623e35e6b9",
   "metadata": {},
   "outputs": [],
   "source": [
    "#creating Data Frame\n",
    "dictionary_7={'Title':title,'Prices':price}\n",
    "DF_7=pd.DataFrame(dictionary_7)"
   ]
  },
  {
   "cell_type": "code",
   "execution_count": 53,
   "id": "29ec5a29-2bb9-496f-acd7-7fd1b3238f0a",
   "metadata": {},
   "outputs": [
    {
     "data": {
      "text/html": [
       "<div>\n",
       "<style scoped>\n",
       "    .dataframe tbody tr th:only-of-type {\n",
       "        vertical-align: middle;\n",
       "    }\n",
       "\n",
       "    .dataframe tbody tr th {\n",
       "        vertical-align: top;\n",
       "    }\n",
       "\n",
       "    .dataframe thead th {\n",
       "        text-align: right;\n",
       "    }\n",
       "</style>\n",
       "<table border=\"1\" class=\"dataframe\">\n",
       "  <thead>\n",
       "    <tr style=\"text-align: right;\">\n",
       "      <th></th>\n",
       "      <th>Title</th>\n",
       "      <th>Prices</th>\n",
       "    </tr>\n",
       "  </thead>\n",
       "  <tbody>\n",
       "    <tr>\n",
       "      <th>0</th>\n",
       "      <td>Acer Aspire Lite 12th Gen Intel Core i7-1255U ...</td>\n",
       "      <td>54,990</td>\n",
       "    </tr>\n",
       "    <tr>\n",
       "      <th>1</th>\n",
       "      <td>Dell Inspiron 7420 2in1 Laptop, Intel Core i7-...</td>\n",
       "      <td>77,490</td>\n",
       "    </tr>\n",
       "    <tr>\n",
       "      <th>2</th>\n",
       "      <td>Lenovo IdeaPad Slim 3 Intel Core i7 11th Gen 1...</td>\n",
       "      <td>60,190</td>\n",
       "    </tr>\n",
       "    <tr>\n",
       "      <th>3</th>\n",
       "      <td>MSI Modern 14, Intel 12th Gen. i7-1255U, 36CM ...</td>\n",
       "      <td>54,990</td>\n",
       "    </tr>\n",
       "    <tr>\n",
       "      <th>4</th>\n",
       "      <td>Dell Latitude 7480 14in FHD Laptop PC - Intel ...</td>\n",
       "      <td>27,999</td>\n",
       "    </tr>\n",
       "    <tr>\n",
       "      <th>5</th>\n",
       "      <td>ASUS Vivobook 15, IntelCore i7-12650H 12th Gen...</td>\n",
       "      <td>57,990</td>\n",
       "    </tr>\n",
       "    <tr>\n",
       "      <th>6</th>\n",
       "      <td>HP Laptop 15s, 12th Gen Intel Core i7-1255U, 1...</td>\n",
       "      <td>63,990</td>\n",
       "    </tr>\n",
       "    <tr>\n",
       "      <th>7</th>\n",
       "      <td>Acer Travelmate Business Laptop Intel Core i7-...</td>\n",
       "      <td>47,990</td>\n",
       "    </tr>\n",
       "    <tr>\n",
       "      <th>8</th>\n",
       "      <td>ASUS TUF Gaming F15, 15.6\"(39.62 cms) FHD 144H...</td>\n",
       "      <td>72,990</td>\n",
       "    </tr>\n",
       "    <tr>\n",
       "      <th>9</th>\n",
       "      <td>HP Pavilion 14 12th Gen Intel Core i7 16GB SDR...</td>\n",
       "      <td>77,700</td>\n",
       "    </tr>\n",
       "    <tr>\n",
       "      <th>10</th>\n",
       "      <td>HP Victus Gaming Laptop, 12th Gen Intel Core i...</td>\n",
       "      <td>79,990</td>\n",
       "    </tr>\n",
       "    <tr>\n",
       "      <th>11</th>\n",
       "      <td>HP Pavilion 15, 13th Gen Intel Core i7-1360P, ...</td>\n",
       "      <td>86,285</td>\n",
       "    </tr>\n",
       "    <tr>\n",
       "      <th>12</th>\n",
       "      <td>Samsung Galaxy Book3 Core i7 13th Gen 1355U - ...</td>\n",
       "      <td>69,899</td>\n",
       "    </tr>\n",
       "    <tr>\n",
       "      <th>13</th>\n",
       "      <td>HP Spectre X360 13Th Gen Intel Core I7-13.5\" 3...</td>\n",
       "      <td>1,45,490</td>\n",
       "    </tr>\n",
       "    <tr>\n",
       "      <th>14</th>\n",
       "      <td>Lenovo ThinkBook 15 Intel 12th Gen Core i7 15....</td>\n",
       "      <td>57,990</td>\n",
       "    </tr>\n",
       "    <tr>\n",
       "      <th>15</th>\n",
       "      <td>HP OMEN Gaming Laptop, Intel Core i7-14700HX (...</td>\n",
       "      <td>1,38,990</td>\n",
       "    </tr>\n",
       "    <tr>\n",
       "      <th>16</th>\n",
       "      <td>Dell G15 5530 Gaming Laptop, Intel i7-13650HX/...</td>\n",
       "      <td>99,970</td>\n",
       "    </tr>\n",
       "    <tr>\n",
       "      <th>17</th>\n",
       "      <td>[Smart Choice] ASUS ROG Strix G16, 16\"(40.64cm...</td>\n",
       "      <td>1,34,990</td>\n",
       "    </tr>\n",
       "    <tr>\n",
       "      <th>18</th>\n",
       "      <td>Acer Nitro V Gaming Laptop 13th Gen Intel Core...</td>\n",
       "      <td>94,990</td>\n",
       "    </tr>\n",
       "    <tr>\n",
       "      <th>19</th>\n",
       "      <td>ASUS Creator Series Vivobook 14X OLED (2023), ...</td>\n",
       "      <td>81,990</td>\n",
       "    </tr>\n",
       "    <tr>\n",
       "      <th>20</th>\n",
       "      <td>Lenovo IdeaPad Slim 5 Intel Core i7 13700H 16\"...</td>\n",
       "      <td>89,190</td>\n",
       "    </tr>\n",
       "    <tr>\n",
       "      <th>21</th>\n",
       "      <td>ASUS TUF Gaming F15 (2023) Gaming Laptop, 90WH...</td>\n",
       "      <td>1,04,990</td>\n",
       "    </tr>\n",
       "    <tr>\n",
       "      <th>22</th>\n",
       "      <td>(Refurbished) Dell Latitude 14 7400 14\" Notebo...</td>\n",
       "      <td>29,989</td>\n",
       "    </tr>\n",
       "    <tr>\n",
       "      <th>23</th>\n",
       "      <td>Dell Inspiron 5430 Laptop, 13th Gen Intel Core...</td>\n",
       "      <td>84,999</td>\n",
       "    </tr>\n",
       "  </tbody>\n",
       "</table>\n",
       "</div>"
      ],
      "text/plain": [
       "                                                Title    Prices\n",
       "0   Acer Aspire Lite 12th Gen Intel Core i7-1255U ...    54,990\n",
       "1   Dell Inspiron 7420 2in1 Laptop, Intel Core i7-...    77,490\n",
       "2   Lenovo IdeaPad Slim 3 Intel Core i7 11th Gen 1...    60,190\n",
       "3   MSI Modern 14, Intel 12th Gen. i7-1255U, 36CM ...    54,990\n",
       "4   Dell Latitude 7480 14in FHD Laptop PC - Intel ...    27,999\n",
       "5   ASUS Vivobook 15, IntelCore i7-12650H 12th Gen...    57,990\n",
       "6   HP Laptop 15s, 12th Gen Intel Core i7-1255U, 1...    63,990\n",
       "7   Acer Travelmate Business Laptop Intel Core i7-...    47,990\n",
       "8   ASUS TUF Gaming F15, 15.6\"(39.62 cms) FHD 144H...    72,990\n",
       "9   HP Pavilion 14 12th Gen Intel Core i7 16GB SDR...    77,700\n",
       "10  HP Victus Gaming Laptop, 12th Gen Intel Core i...    79,990\n",
       "11  HP Pavilion 15, 13th Gen Intel Core i7-1360P, ...    86,285\n",
       "12  Samsung Galaxy Book3 Core i7 13th Gen 1355U - ...    69,899\n",
       "13  HP Spectre X360 13Th Gen Intel Core I7-13.5\" 3...  1,45,490\n",
       "14  Lenovo ThinkBook 15 Intel 12th Gen Core i7 15....    57,990\n",
       "15  HP OMEN Gaming Laptop, Intel Core i7-14700HX (...  1,38,990\n",
       "16  Dell G15 5530 Gaming Laptop, Intel i7-13650HX/...    99,970\n",
       "17  [Smart Choice] ASUS ROG Strix G16, 16\"(40.64cm...  1,34,990\n",
       "18  Acer Nitro V Gaming Laptop 13th Gen Intel Core...    94,990\n",
       "19  ASUS Creator Series Vivobook 14X OLED (2023), ...    81,990\n",
       "20  Lenovo IdeaPad Slim 5 Intel Core i7 13700H 16\"...    89,190\n",
       "21  ASUS TUF Gaming F15 (2023) Gaming Laptop, 90WH...  1,04,990\n",
       "22  (Refurbished) Dell Latitude 14 7400 14\" Notebo...    29,989\n",
       "23  Dell Inspiron 5430 Laptop, 13th Gen Intel Core...    84,999"
      ]
     },
     "execution_count": 53,
     "metadata": {},
     "output_type": "execute_result"
    }
   ],
   "source": [
    "DF_7"
   ]
  },
  {
   "cell_type": "code",
   "execution_count": null,
   "id": "0ad88335-7fc4-4fa1-83ef-1fa9a1177c20",
   "metadata": {},
   "outputs": [],
   "source": []
  },
  {
   "cell_type": "markdown",
   "id": "6bb72655-c5a0-4d6a-8e67-98a0b76168c3",
   "metadata": {},
   "source": [
    "Q6: Write a python program to scrape data for Top 1000 Quotes of All Time.\n",
    "The above task will be done in following steps:\n",
    "1. First get the webpagehttps://www.azquotes.com/\n",
    "2. Click on TopQuote\n",
    "3. Than scrap a)Quote b) Author c) Type Of Quotes"
   ]
  },
  {
   "cell_type": "code",
   "execution_count": 151,
   "id": "3497e60d-2254-44b1-8ef7-6ea8280f9094",
   "metadata": {},
   "outputs": [],
   "source": [
    "#importing require Liberary\n",
    "import selenium\n",
    "from selenium import webdriver\n",
    "from selenium.webdriver.common.by import By\n",
    "import pandas as pd\n",
    "import warnings\n",
    "warnings.filterwarnings('ignore')\n",
    "import time"
   ]
  },
  {
   "cell_type": "code",
   "execution_count": 152,
   "id": "36df32dc-4f9a-4836-916f-aa80f8fe91c1",
   "metadata": {},
   "outputs": [],
   "source": [
    "#choosing web driver\n",
    "driver=webdriver.Chrome()"
   ]
  },
  {
   "cell_type": "code",
   "execution_count": 153,
   "id": "2eeea9e0-10d7-478e-a4bc-ccfdc77d0e24",
   "metadata": {},
   "outputs": [],
   "source": [
    "#getting web page\n",
    "driver.get('https://www.azquotes.com/')"
   ]
  },
  {
   "cell_type": "code",
   "execution_count": 157,
   "id": "7189ccb8-ccb5-42b2-a70f-4092a6f26ac7",
   "metadata": {},
   "outputs": [],
   "source": [
    "#clicking on main menue\n",
    "main_menue=driver.find_element(By.XPATH,'//div[@class=\"mainmenu\"]/a')\n",
    "main_menue.click()"
   ]
  },
  {
   "cell_type": "code",
   "execution_count": 159,
   "id": "46d3459a-3b3f-46c4-b7af-7ac17b0bd195",
   "metadata": {},
   "outputs": [],
   "source": [
    "#clicking on top quotes\n",
    "top_quote=driver.find_element(By.XPATH,'/html/body/div[1]/div[1]/div[1]/div/div[3]/ul/li[5]/a')\n",
    "top_quote.click()"
   ]
  },
  {
   "cell_type": "code",
   "execution_count": 161,
   "id": "3d8d67ba-17c6-46d6-a596-6225bfbe06ef",
   "metadata": {},
   "outputs": [],
   "source": [
    "# Scrapping Quotes from webpage\n",
    "quote=[]\n",
    "quote_tags=driver.find_elements(By.XPATH,'//a[@class=\"title\"]')\n",
    "for i in quote_tags:\n",
    "    q=i.text\n",
    "    quote.append(q)"
   ]
  },
  {
   "cell_type": "code",
   "execution_count": 163,
   "id": "37b39d20-788c-459e-8629-5737daebae90",
   "metadata": {},
   "outputs": [
    {
     "data": {
      "text/plain": [
       "100"
      ]
     },
     "execution_count": 163,
     "metadata": {},
     "output_type": "execute_result"
    }
   ],
   "source": [
    "len(quote)"
   ]
  },
  {
   "cell_type": "code",
   "execution_count": 164,
   "id": "3f116af4-6a35-41d3-a0fb-c38de96bd299",
   "metadata": {},
   "outputs": [],
   "source": [
    "# Scrapping Authors of the Quotes from webpage\n",
    "authors=[]\n",
    "auther_tags=driver.find_elements(By.XPATH,'//div[@class=\"author\"]/a')\n",
    "for i in auther_tags:\n",
    "    author=i.text\n",
    "    authors.append(author)"
   ]
  },
  {
   "cell_type": "code",
   "execution_count": 167,
   "id": "aa45d56b-0a35-469f-bbf2-4ec13f5d291e",
   "metadata": {},
   "outputs": [
    {
     "data": {
      "text/plain": [
       "100"
      ]
     },
     "execution_count": 167,
     "metadata": {},
     "output_type": "execute_result"
    }
   ],
   "source": [
    "len(authors)"
   ]
  },
  {
   "cell_type": "code",
   "execution_count": 168,
   "id": "9b1bf077-8d44-41c1-9b83-6f5eac79e61c",
   "metadata": {},
   "outputs": [],
   "source": [
    "# Scrapping Type of Quotes from webpage\n",
    "type_quotes=[]\n",
    "type_quote_tags=driver.find_elements(By.XPATH,'//div[@class=\"tags\"]')\n",
    "for i in type_quote_tags:\n",
    "    type_quote=i.text\n",
    "    type_quotes.append(type_quote)\n",
    "    "
   ]
  },
  {
   "cell_type": "code",
   "execution_count": 170,
   "id": "8db0d31c-69da-49b6-8dc0-4474efe323f3",
   "metadata": {},
   "outputs": [
    {
     "data": {
      "text/plain": [
       "100"
      ]
     },
     "execution_count": 170,
     "metadata": {},
     "output_type": "execute_result"
    }
   ],
   "source": [
    "len(type_quotes)"
   ]
  },
  {
   "cell_type": "code",
   "execution_count": 171,
   "id": "5c39548f-4329-450e-9617-55f4cb61747c",
   "metadata": {},
   "outputs": [],
   "source": [
    "#creating data frame\n",
    "dictionary_5={'Quotes':quote,'Authors':authors,'Type of quotes':type_quotes}\n",
    "DF_5=pd.DataFrame(dictionary_5)"
   ]
  },
  {
   "cell_type": "code",
   "execution_count": 172,
   "id": "27b0f0ef-b150-4267-a501-3c85e2f12d5c",
   "metadata": {},
   "outputs": [
    {
     "data": {
      "text/html": [
       "<div>\n",
       "<style scoped>\n",
       "    .dataframe tbody tr th:only-of-type {\n",
       "        vertical-align: middle;\n",
       "    }\n",
       "\n",
       "    .dataframe tbody tr th {\n",
       "        vertical-align: top;\n",
       "    }\n",
       "\n",
       "    .dataframe thead th {\n",
       "        text-align: right;\n",
       "    }\n",
       "</style>\n",
       "<table border=\"1\" class=\"dataframe\">\n",
       "  <thead>\n",
       "    <tr style=\"text-align: right;\">\n",
       "      <th></th>\n",
       "      <th>Quotes</th>\n",
       "      <th>Authors</th>\n",
       "      <th>Type of quotes</th>\n",
       "    </tr>\n",
       "  </thead>\n",
       "  <tbody>\n",
       "    <tr>\n",
       "      <th>0</th>\n",
       "      <td>The essence of strategy is choosing what not t...</td>\n",
       "      <td>Michael Porter</td>\n",
       "      <td>Essence, Deep Thought, Transcendentalism</td>\n",
       "    </tr>\n",
       "    <tr>\n",
       "      <th>1</th>\n",
       "      <td>One cannot and must not try to erase the past ...</td>\n",
       "      <td>Golda Meir</td>\n",
       "      <td>Inspiration, Past, Trying</td>\n",
       "    </tr>\n",
       "    <tr>\n",
       "      <th>2</th>\n",
       "      <td>Patriotism means to stand by the country. It d...</td>\n",
       "      <td>Theodore Roosevelt</td>\n",
       "      <td>Country, Peace, War</td>\n",
       "    </tr>\n",
       "    <tr>\n",
       "      <th>3</th>\n",
       "      <td>Death is something inevitable. When a man has ...</td>\n",
       "      <td>Nelson Mandela</td>\n",
       "      <td>Inspirational, Motivational, Death</td>\n",
       "    </tr>\n",
       "    <tr>\n",
       "      <th>4</th>\n",
       "      <td>You have to love a nation that celebrates its ...</td>\n",
       "      <td>Erma Bombeck</td>\n",
       "      <td>4th Of July, Food, Patriotic</td>\n",
       "    </tr>\n",
       "    <tr>\n",
       "      <th>...</th>\n",
       "      <td>...</td>\n",
       "      <td>...</td>\n",
       "      <td>...</td>\n",
       "    </tr>\n",
       "    <tr>\n",
       "      <th>95</th>\n",
       "      <td>When the going gets weird, the weird turn pro.</td>\n",
       "      <td>Hunter S. Thompson</td>\n",
       "      <td>Music, Sports, Hunting</td>\n",
       "    </tr>\n",
       "    <tr>\n",
       "      <th>96</th>\n",
       "      <td>When a train goes through a tunnel and it gets...</td>\n",
       "      <td>Corrie Ten Boom</td>\n",
       "      <td>Trust, Encouraging, Uplifting</td>\n",
       "    </tr>\n",
       "    <tr>\n",
       "      <th>97</th>\n",
       "      <td>If you think you are too small to make a diffe...</td>\n",
       "      <td>Dalai Lama</td>\n",
       "      <td>Inspirational, Funny, Change</td>\n",
       "    </tr>\n",
       "    <tr>\n",
       "      <th>98</th>\n",
       "      <td>God doesn't require us to succeed, he only req...</td>\n",
       "      <td>Mother Teresa</td>\n",
       "      <td>Success, God, Mother</td>\n",
       "    </tr>\n",
       "    <tr>\n",
       "      <th>99</th>\n",
       "      <td>Change your thoughts and you change your world.</td>\n",
       "      <td>Norman Vincent Peale</td>\n",
       "      <td>Inspirational, Motivational, Change</td>\n",
       "    </tr>\n",
       "  </tbody>\n",
       "</table>\n",
       "<p>100 rows × 3 columns</p>\n",
       "</div>"
      ],
      "text/plain": [
       "                                               Quotes               Authors  \\\n",
       "0   The essence of strategy is choosing what not t...        Michael Porter   \n",
       "1   One cannot and must not try to erase the past ...            Golda Meir   \n",
       "2   Patriotism means to stand by the country. It d...    Theodore Roosevelt   \n",
       "3   Death is something inevitable. When a man has ...        Nelson Mandela   \n",
       "4   You have to love a nation that celebrates its ...          Erma Bombeck   \n",
       "..                                                ...                   ...   \n",
       "95     When the going gets weird, the weird turn pro.    Hunter S. Thompson   \n",
       "96  When a train goes through a tunnel and it gets...       Corrie Ten Boom   \n",
       "97  If you think you are too small to make a diffe...            Dalai Lama   \n",
       "98  God doesn't require us to succeed, he only req...         Mother Teresa   \n",
       "99    Change your thoughts and you change your world.  Norman Vincent Peale   \n",
       "\n",
       "                              Type of quotes  \n",
       "0   Essence, Deep Thought, Transcendentalism  \n",
       "1                  Inspiration, Past, Trying  \n",
       "2                        Country, Peace, War  \n",
       "3         Inspirational, Motivational, Death  \n",
       "4               4th Of July, Food, Patriotic  \n",
       "..                                       ...  \n",
       "95                    Music, Sports, Hunting  \n",
       "96             Trust, Encouraging, Uplifting  \n",
       "97              Inspirational, Funny, Change  \n",
       "98                      Success, God, Mother  \n",
       "99       Inspirational, Motivational, Change  \n",
       "\n",
       "[100 rows x 3 columns]"
      ]
     },
     "execution_count": 172,
     "metadata": {},
     "output_type": "execute_result"
    }
   ],
   "source": [
    "DF_5"
   ]
  },
  {
   "cell_type": "markdown",
   "id": "c9b29a73-2bce-4340-9356-15ee7c6d80dc",
   "metadata": {},
   "source": [
    "Q8: Write a python program to display list of 50 Most expensive cars in the world\r\n",
    "(i.e. Car name and Price) from https://www.motor1.com/\r\n",
    "This task will be done in following steps:\r\n",
    "1. First get the webpage https://www.motor1.com/\r\n",
    "2. Then You have to type in the search bar ’50 most expensive cars’\r\n",
    "3. Then click on 50 most expensive carsin the world..\r\n",
    "4. Then scrap thementioned data and make the dataframe"
   ]
  },
  {
   "cell_type": "code",
   "execution_count": 4,
   "id": "7c15e1fb-5d44-4ffc-be48-1b85db9301fe",
   "metadata": {},
   "outputs": [],
   "source": [
    "#importing require Liberary\n",
    "import selenium\n",
    "from selenium import webdriver\n",
    "from selenium.webdriver.common.by import By\n",
    "import pandas as pd\n",
    "import warnings\n",
    "warnings.filterwarnings('ignore')\n",
    "import time"
   ]
  },
  {
   "cell_type": "code",
   "execution_count": 5,
   "id": "a169825c-dbef-4e20-a335-23643759b468",
   "metadata": {},
   "outputs": [],
   "source": [
    "#choosing web driver\n",
    "driver=webdriver.Chrome()"
   ]
  },
  {
   "cell_type": "code",
   "execution_count": 6,
   "id": "ae4c63cb-df6c-4ea1-b7fa-ff9d36132f38",
   "metadata": {},
   "outputs": [],
   "source": [
    "#getting web page\n",
    "driver.get(' https://www.motor1.com/')"
   ]
  },
  {
   "cell_type": "code",
   "execution_count": 7,
   "id": "076a8160-e0ed-4194-bf51-139fd8c9eaef",
   "metadata": {},
   "outputs": [],
   "source": [
    "#entering 50 most expensive cars in search bar\n",
    "searching=driver.find_element(By.XPATH,'/html/body/div[9]/div[2]/div/div/div[3]/div/div/div/form/input')\n",
    "searching.send_keys('50 most expensive cars')"
   ]
  },
  {
   "cell_type": "code",
   "execution_count": 9,
   "id": "e880f8a3-4585-4fba-950f-f2bf12ca87a0",
   "metadata": {},
   "outputs": [],
   "source": [
    "#clicking on search buttons\n",
    "clicking=driver.find_element(By.XPATH,'/html/body/div[9]/div[2]/div/div/div[3]/div/div/div/form/button[1]')\n",
    "clicking.click()"
   ]
  },
  {
   "cell_type": "code",
   "execution_count": 10,
   "id": "1fcd079c-78d8-4c03-8767-74172ba006bc",
   "metadata": {},
   "outputs": [],
   "source": [
    "#clicking on 50 most expensive cars\n",
    "clicking_50=driver.find_element(By.XPATH,'/html/body/div[9]/div[9]/div/div[1]/div/div/div[1]/div/div[1]/h3/a')\n",
    "clicking_50.click()"
   ]
  },
  {
   "cell_type": "code",
   "execution_count": 17,
   "id": "c2966bc8-88f0-4711-af8c-ffd8bca82902",
   "metadata": {},
   "outputs": [],
   "source": [
    "#scrapping top 50 expensive cars\n",
    "top_50_cars=[]\n",
    "car_tags=driver.find_elements(By.XPATH,'//h3[@class=\"subheader\"]')\n",
    "for i in car_tags:\n",
    "    car=i.text\n",
    "    top_50_cars.append(car)"
   ]
  },
  {
   "cell_type": "code",
   "execution_count": 34,
   "id": "eb90373e-acbd-4f13-8142-cbe936ca9317",
   "metadata": {},
   "outputs": [],
   "source": [
    "expensive_cars=(top_50_cars)[0:50]"
   ]
  },
  {
   "cell_type": "code",
   "execution_count": 24,
   "id": "8c64dfd0-ee4d-44f9-86e1-6ce0b21b3d7a",
   "metadata": {},
   "outputs": [],
   "source": [
    "#scrapping prices\n",
    "prices=[]\n",
    "price_tags=driver.find_elements(By.XPATH,'//p[strong]')\n",
    "for i in price_tags:\n",
    "    price=i.text\n",
    "    prices.append(price)"
   ]
  },
  {
   "cell_type": "code",
   "execution_count": 30,
   "id": "be38135d-4027-434a-8d28-687a6edbdd5d",
   "metadata": {},
   "outputs": [
    {
     "data": {
      "text/plain": [
       "50"
      ]
     },
     "execution_count": 30,
     "metadata": {},
     "output_type": "execute_result"
    }
   ],
   "source": [
    "len(prices)"
   ]
  },
  {
   "cell_type": "code",
   "execution_count": 35,
   "id": "d7f11ed5-dcef-48bd-bd73-cd4a04d0c162",
   "metadata": {},
   "outputs": [],
   "source": [
    "#creating Data frame\n",
    "dictionary_6={'50 most expensive cars':expensive_cars,'Prices':prices}\n",
    "DF_6=pd.DataFrame(dictionary_6)"
   ]
  },
  {
   "cell_type": "code",
   "execution_count": 36,
   "id": "e3ab5e40-6d9a-441b-af8b-9e53d3747618",
   "metadata": {},
   "outputs": [
    {
     "data": {
      "text/html": [
       "<div>\n",
       "<style scoped>\n",
       "    .dataframe tbody tr th:only-of-type {\n",
       "        vertical-align: middle;\n",
       "    }\n",
       "\n",
       "    .dataframe tbody tr th {\n",
       "        vertical-align: top;\n",
       "    }\n",
       "\n",
       "    .dataframe thead th {\n",
       "        text-align: right;\n",
       "    }\n",
       "</style>\n",
       "<table border=\"1\" class=\"dataframe\">\n",
       "  <thead>\n",
       "    <tr style=\"text-align: right;\">\n",
       "      <th></th>\n",
       "      <th>50 most expensive cars</th>\n",
       "      <th>Prices</th>\n",
       "    </tr>\n",
       "  </thead>\n",
       "  <tbody>\n",
       "    <tr>\n",
       "      <th>0</th>\n",
       "      <td>Aston Martin Valour</td>\n",
       "      <td>Price: $1.5 Million</td>\n",
       "    </tr>\n",
       "    <tr>\n",
       "      <th>1</th>\n",
       "      <td>McLaren Elva</td>\n",
       "      <td>Price: $1.7 Million</td>\n",
       "    </tr>\n",
       "    <tr>\n",
       "      <th>2</th>\n",
       "      <td>Czinger 21C</td>\n",
       "      <td>Price: $1.7 Million</td>\n",
       "    </tr>\n",
       "    <tr>\n",
       "      <th>3</th>\n",
       "      <td>Ferrari Monza</td>\n",
       "      <td>Price: $1.7 Million</td>\n",
       "    </tr>\n",
       "    <tr>\n",
       "      <th>4</th>\n",
       "      <td>Gordon Murray T.33</td>\n",
       "      <td>Price: $1.7 Million</td>\n",
       "    </tr>\n",
       "    <tr>\n",
       "      <th>5</th>\n",
       "      <td>Koenigsegg Gemera</td>\n",
       "      <td>Price: $1.7 Million</td>\n",
       "    </tr>\n",
       "    <tr>\n",
       "      <th>6</th>\n",
       "      <td>Zenvo TSR-S</td>\n",
       "      <td>Price: $1.7 Million</td>\n",
       "    </tr>\n",
       "    <tr>\n",
       "      <th>7</th>\n",
       "      <td>Hennessey Venom F5</td>\n",
       "      <td>Price: $1.8 Million</td>\n",
       "    </tr>\n",
       "    <tr>\n",
       "      <th>8</th>\n",
       "      <td>Bentley Bacalar</td>\n",
       "      <td>Price: $1.9 Million</td>\n",
       "    </tr>\n",
       "    <tr>\n",
       "      <th>9</th>\n",
       "      <td>Hispano Suiza Carmen Boulogne</td>\n",
       "      <td>Price: $1.9 Million</td>\n",
       "    </tr>\n",
       "    <tr>\n",
       "      <th>10</th>\n",
       "      <td>Bentley Mulliner Batur</td>\n",
       "      <td>Price: $2.0 Million</td>\n",
       "    </tr>\n",
       "    <tr>\n",
       "      <th>11</th>\n",
       "      <td>Deus Vayanne</td>\n",
       "      <td>Price: $2.0 Million</td>\n",
       "    </tr>\n",
       "    <tr>\n",
       "      <th>12</th>\n",
       "      <td>SSC Tuatara</td>\n",
       "      <td>Price: $2.0 Million</td>\n",
       "    </tr>\n",
       "    <tr>\n",
       "      <th>13</th>\n",
       "      <td>Lotus Evija</td>\n",
       "      <td>Price: $2.1 Million</td>\n",
       "    </tr>\n",
       "    <tr>\n",
       "      <th>14</th>\n",
       "      <td>Aston Martin Vulcan</td>\n",
       "      <td>Price: $2.3 Million</td>\n",
       "    </tr>\n",
       "    <tr>\n",
       "      <th>15</th>\n",
       "      <td>Delage D12</td>\n",
       "      <td>Price: $2.3 Million</td>\n",
       "    </tr>\n",
       "    <tr>\n",
       "      <th>16</th>\n",
       "      <td>Ferrari Daytona SP3</td>\n",
       "      <td>Price: $2.3 Million</td>\n",
       "    </tr>\n",
       "    <tr>\n",
       "      <th>17</th>\n",
       "      <td>McLaren Speedtail</td>\n",
       "      <td>Price: $2.3 Million</td>\n",
       "    </tr>\n",
       "    <tr>\n",
       "      <th>18</th>\n",
       "      <td>Rimac Nevera</td>\n",
       "      <td>Price: $2.4 Million</td>\n",
       "    </tr>\n",
       "    <tr>\n",
       "      <th>19</th>\n",
       "      <td>Pagani Utopia</td>\n",
       "      <td>Price: $2.5 Million</td>\n",
       "    </tr>\n",
       "    <tr>\n",
       "      <th>20</th>\n",
       "      <td>Pininfarina Battista</td>\n",
       "      <td>Price: $2.5 Million</td>\n",
       "    </tr>\n",
       "    <tr>\n",
       "      <th>21</th>\n",
       "      <td>Gordon Murray T.50</td>\n",
       "      <td>Price: $2.6 Million</td>\n",
       "    </tr>\n",
       "    <tr>\n",
       "      <th>22</th>\n",
       "      <td>Lamborghini Countach</td>\n",
       "      <td>Price: $2.6 Million</td>\n",
       "    </tr>\n",
       "    <tr>\n",
       "      <th>23</th>\n",
       "      <td>Mercedes-AMG Project One</td>\n",
       "      <td>Price: $2.7 Million</td>\n",
       "    </tr>\n",
       "    <tr>\n",
       "      <th>24</th>\n",
       "      <td>Zenvo Aurora</td>\n",
       "      <td>Price: $2.8 Million</td>\n",
       "    </tr>\n",
       "    <tr>\n",
       "      <th>25</th>\n",
       "      <td>Aston Martin Victor</td>\n",
       "      <td>Price: $3.0 Million</td>\n",
       "    </tr>\n",
       "    <tr>\n",
       "      <th>26</th>\n",
       "      <td>Hennessey Venom F5 Roadster</td>\n",
       "      <td>$3.0 Million</td>\n",
       "    </tr>\n",
       "    <tr>\n",
       "      <th>27</th>\n",
       "      <td>Koenigsegg Jesko</td>\n",
       "      <td>Price: $3.0 Million</td>\n",
       "    </tr>\n",
       "    <tr>\n",
       "      <th>28</th>\n",
       "      <td>Aston Martin Valkyrie</td>\n",
       "      <td>Price: $3.2 Million</td>\n",
       "    </tr>\n",
       "    <tr>\n",
       "      <th>29</th>\n",
       "      <td>W Motors Lykan Hypersport</td>\n",
       "      <td>Price: $3.4 Million</td>\n",
       "    </tr>\n",
       "    <tr>\n",
       "      <th>30</th>\n",
       "      <td>McLaren Solus</td>\n",
       "      <td>$3.5 Million</td>\n",
       "    </tr>\n",
       "    <tr>\n",
       "      <th>31</th>\n",
       "      <td>Lamborghini Sian</td>\n",
       "      <td>Price: $3.6 million</td>\n",
       "    </tr>\n",
       "    <tr>\n",
       "      <th>32</th>\n",
       "      <td>Koenigsegg CC850</td>\n",
       "      <td>Price: $3.7 Million</td>\n",
       "    </tr>\n",
       "    <tr>\n",
       "      <th>33</th>\n",
       "      <td>Bugatti Chiron Super Sport 300+</td>\n",
       "      <td>Price: $3.9 Million</td>\n",
       "    </tr>\n",
       "    <tr>\n",
       "      <th>34</th>\n",
       "      <td>Lamborghini Veneno</td>\n",
       "      <td>Price: $4.5 Million</td>\n",
       "    </tr>\n",
       "    <tr>\n",
       "      <th>35</th>\n",
       "      <td>Bugatti Bolide</td>\n",
       "      <td>Price: $4.7 Million</td>\n",
       "    </tr>\n",
       "    <tr>\n",
       "      <th>36</th>\n",
       "      <td>Pininfarina B95 Speedster</td>\n",
       "      <td>Price: $4.8 Million</td>\n",
       "    </tr>\n",
       "    <tr>\n",
       "      <th>37</th>\n",
       "      <td>Bugatti Mistral</td>\n",
       "      <td>Price: $5.0 Million</td>\n",
       "    </tr>\n",
       "    <tr>\n",
       "      <th>38</th>\n",
       "      <td>Pagani Huayra Imola</td>\n",
       "      <td>Price: $5.4 Million</td>\n",
       "    </tr>\n",
       "    <tr>\n",
       "      <th>39</th>\n",
       "      <td>Bugatti Divo</td>\n",
       "      <td>Price: $5.8 Million</td>\n",
       "    </tr>\n",
       "    <tr>\n",
       "      <th>40</th>\n",
       "      <td>SP Automotive Chaos</td>\n",
       "      <td>Price: $6.4 Million</td>\n",
       "    </tr>\n",
       "    <tr>\n",
       "      <th>41</th>\n",
       "      <td>Pagani Codalunga</td>\n",
       "      <td>Price: $7.4 Million</td>\n",
       "    </tr>\n",
       "    <tr>\n",
       "      <th>42</th>\n",
       "      <td>777 Hypercar</td>\n",
       "      <td>Price: $7.5 Million</td>\n",
       "    </tr>\n",
       "    <tr>\n",
       "      <th>43</th>\n",
       "      <td>Mercedes-Maybach Exelero</td>\n",
       "      <td>Price: $8.0 Million</td>\n",
       "    </tr>\n",
       "    <tr>\n",
       "      <th>44</th>\n",
       "      <td>Bugatti Centodieci</td>\n",
       "      <td>Price: $9.0 Million</td>\n",
       "    </tr>\n",
       "    <tr>\n",
       "      <th>45</th>\n",
       "      <td>Bugatti Chiron Profilée</td>\n",
       "      <td>Price: $10.8 Million</td>\n",
       "    </tr>\n",
       "    <tr>\n",
       "      <th>46</th>\n",
       "      <td>Rolls-Royce Sweptail</td>\n",
       "      <td>Price: $12.8 Million</td>\n",
       "    </tr>\n",
       "    <tr>\n",
       "      <th>47</th>\n",
       "      <td>Bugatti La Voiture Noire</td>\n",
       "      <td>Price: $13.4 Million</td>\n",
       "    </tr>\n",
       "    <tr>\n",
       "      <th>48</th>\n",
       "      <td>Rolls-Royce Boat Tail*</td>\n",
       "      <td>Price: $28.0 Million (est.)</td>\n",
       "    </tr>\n",
       "    <tr>\n",
       "      <th>49</th>\n",
       "      <td>Rolls-Royce La Rose Noire Droptail</td>\n",
       "      <td>Price: $30 Million (est.)</td>\n",
       "    </tr>\n",
       "  </tbody>\n",
       "</table>\n",
       "</div>"
      ],
      "text/plain": [
       "                50 most expensive cars                       Prices\n",
       "0                  Aston Martin Valour          Price: $1.5 Million\n",
       "1                         McLaren Elva          Price: $1.7 Million\n",
       "2                          Czinger 21C          Price: $1.7 Million\n",
       "3                        Ferrari Monza          Price: $1.7 Million\n",
       "4                   Gordon Murray T.33          Price: $1.7 Million\n",
       "5                    Koenigsegg Gemera          Price: $1.7 Million\n",
       "6                          Zenvo TSR-S          Price: $1.7 Million\n",
       "7                   Hennessey Venom F5          Price: $1.8 Million\n",
       "8                      Bentley Bacalar          Price: $1.9 Million\n",
       "9        Hispano Suiza Carmen Boulogne          Price: $1.9 Million\n",
       "10              Bentley Mulliner Batur          Price: $2.0 Million\n",
       "11                        Deus Vayanne          Price: $2.0 Million\n",
       "12                         SSC Tuatara          Price: $2.0 Million\n",
       "13                         Lotus Evija          Price: $2.1 Million\n",
       "14                 Aston Martin Vulcan          Price: $2.3 Million\n",
       "15                          Delage D12          Price: $2.3 Million\n",
       "16                 Ferrari Daytona SP3          Price: $2.3 Million\n",
       "17                   McLaren Speedtail          Price: $2.3 Million\n",
       "18                        Rimac Nevera          Price: $2.4 Million\n",
       "19                       Pagani Utopia          Price: $2.5 Million\n",
       "20                Pininfarina Battista          Price: $2.5 Million\n",
       "21                  Gordon Murray T.50          Price: $2.6 Million\n",
       "22                Lamborghini Countach          Price: $2.6 Million\n",
       "23            Mercedes-AMG Project One          Price: $2.7 Million\n",
       "24                        Zenvo Aurora          Price: $2.8 Million\n",
       "25                 Aston Martin Victor          Price: $3.0 Million\n",
       "26         Hennessey Venom F5 Roadster                 $3.0 Million\n",
       "27                    Koenigsegg Jesko          Price: $3.0 Million\n",
       "28               Aston Martin Valkyrie          Price: $3.2 Million\n",
       "29           W Motors Lykan Hypersport          Price: $3.4 Million\n",
       "30                       McLaren Solus                 $3.5 Million\n",
       "31                    Lamborghini Sian          Price: $3.6 million\n",
       "32                    Koenigsegg CC850          Price: $3.7 Million\n",
       "33     Bugatti Chiron Super Sport 300+          Price: $3.9 Million\n",
       "34                  Lamborghini Veneno          Price: $4.5 Million\n",
       "35                      Bugatti Bolide          Price: $4.7 Million\n",
       "36           Pininfarina B95 Speedster          Price: $4.8 Million\n",
       "37                     Bugatti Mistral          Price: $5.0 Million\n",
       "38                 Pagani Huayra Imola          Price: $5.4 Million\n",
       "39                        Bugatti Divo          Price: $5.8 Million\n",
       "40                 SP Automotive Chaos          Price: $6.4 Million\n",
       "41                    Pagani Codalunga          Price: $7.4 Million\n",
       "42                        777 Hypercar          Price: $7.5 Million\n",
       "43            Mercedes-Maybach Exelero          Price: $8.0 Million\n",
       "44                  Bugatti Centodieci          Price: $9.0 Million\n",
       "45             Bugatti Chiron Profilée         Price: $10.8 Million\n",
       "46                Rolls-Royce Sweptail         Price: $12.8 Million\n",
       "47            Bugatti La Voiture Noire         Price: $13.4 Million\n",
       "48              Rolls-Royce Boat Tail*  Price: $28.0 Million (est.)\n",
       "49  Rolls-Royce La Rose Noire Droptail    Price: $30 Million (est.)"
      ]
     },
     "execution_count": 36,
     "metadata": {},
     "output_type": "execute_result"
    }
   ],
   "source": [
    "DF_6"
   ]
  },
  {
   "cell_type": "code",
   "execution_count": null,
   "id": "4351861b-d513-427a-8892-b58fa5265314",
   "metadata": {},
   "outputs": [],
   "source": []
  }
 ],
 "metadata": {
  "kernelspec": {
   "display_name": "Python 3 (ipykernel)",
   "language": "python",
   "name": "python3"
  },
  "language_info": {
   "codemirror_mode": {
    "name": "ipython",
    "version": 3
   },
   "file_extension": ".py",
   "mimetype": "text/x-python",
   "name": "python",
   "nbconvert_exporter": "python",
   "pygments_lexer": "ipython3",
   "version": "3.11.7"
  }
 },
 "nbformat": 4,
 "nbformat_minor": 5
}
